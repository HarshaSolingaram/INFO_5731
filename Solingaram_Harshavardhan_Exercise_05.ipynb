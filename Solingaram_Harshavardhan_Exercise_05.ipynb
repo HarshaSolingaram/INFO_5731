{
  "cells": [
    {
      "cell_type": "markdown",
      "metadata": {
        "id": "view-in-github",
        "colab_type": "text"
      },
      "source": [
        "<a href=\"https://colab.research.google.com/github/HarshaSolingaram/INFO_5731/blob/main/Solingaram_Harshavardhan_Exercise_05.ipynb\" target=\"_parent\"><img src=\"https://colab.research.google.com/assets/colab-badge.svg\" alt=\"Open In Colab\"/></a>"
      ]
    },
    {
      "cell_type": "markdown",
      "metadata": {
        "id": "M0csg386hYwM"
      },
      "source": [
        "# **INFO5731 In-class Exercise 5**\n",
        "\n",
        "**This exercise aims to provide a comprehensive learning experience in text analysis and machine learning techniques, focusing on both text classification and clustering tasks.**"
      ]
    },
    {
      "cell_type": "markdown",
      "source": [
        "***Please use the text corpus you collected in your last in-class-exercise for this exercise. Perform the following tasks***.\n",
        "\n",
        "**Expectations**:\n",
        "*   Students are expected to complete the exercise during lecture period to meet the active participation criteria of the course.\n",
        "*   Use the provided .*ipynb* document to write your code & respond to the questions. Avoid generating a new file.\n",
        "*   Write complete answers and run all the cells before submission.\n",
        "*   Make sure the submission is \"clean\"; *i.e.*, no unnecessary code cells.\n",
        "*   Once finished, allow shared rights from top right corner (*see Canvas for details*).\n",
        "\n",
        "**Total points**: 40\n",
        "\n",
        "**Deadline**: This in-class exercise is due at the end of the day tomorrow, at 11:59 PM.\n",
        "\n",
        "**Late submissions will have a penalty of 10% of the marks for each day of late submission, and no requests will be answered. Manage your time accordingly.**\n"
      ],
      "metadata": {
        "id": "bSL3A2jCo8t1"
      }
    },
    {
      "cell_type": "markdown",
      "source": [
        "Question 1 (20 Points)\n",
        "The purpose of the question is to practice different machine learning algorithms for text classification as well as the performance evaluation. In addition, you are requried to conduct 10 fold cross validation (https://scikit-learn.org/stable/modules/cross_validation.html) in the training.\n",
        "\n",
        "The dataset can be download from canvas. The dataset contains two files train data and test data for sentiment analysis in IMDB review, it has two categories: 1 represents positive and 0 represents negative. You need to split the training data into training and validate data (80% for training and 20% for validation, https://towardsdatascience.com/train-test-split-and-cross-validation-in-python-80b61beca4b6) and perform 10 fold cross validation while training the classifier. The final trained model was final evaluated on the test data.\n",
        "\n",
        "[ ]\n"
      ],
      "metadata": {
        "id": "S62xF1VVpAVJ"
      }
    },
    {
      "cell_type": "markdown",
      "metadata": {
        "id": "T5J0ZFROhYwR"
      },
      "source": [
        "## **Question 1 (20 Points)**\n",
        "\n",
        "The purpose of the question is to practice different machine learning algorithms for **text classification** as well as the performance evaluation. In addition, you are requried to conduct **10 fold cross validation** (https://scikit-learn.org/stable/modules/cross_validation.html) in the training.\n",
        "\n",
        "\n",
        "\n",
        "The dataset can be download from canvas. The dataset contains two files train data and test data for sentiment analysis in IMDB review, it has two categories: 1 represents positive and 0 represents negative. You need to split the training data into training and validate data (80% for training and 20% for validation, https://towardsdatascience.com/train-test-split-and-cross-validation-in-python-80b61beca4b6) and perform 10 fold cross validation while training the classifier. The final trained model was final evaluated on the test data.\n",
        "\n",
        "Algorithms:\n",
        "\n",
        "(1) MultinominalNB\n",
        "\n",
        "(2) SVM\n",
        "\n",
        "(3) KNN\n",
        "\n",
        "(4) Decision tree\n",
        "\n",
        "(5) Random Forest\n",
        "\n",
        "(6) XGBoost\n",
        "\n",
        "(7) Word2Vec\n",
        "\n",
        "(8) BERT\n",
        "\n",
        "Evaluation measurement:\n",
        "\n",
        "(1) Accuracy\n",
        "\n",
        "(2) Recall\n",
        "\n",
        "(3) Precison\n",
        "\n",
        "(4) F-1 score"
      ]
    },
    {
      "cell_type": "code",
      "execution_count": 28,
      "metadata": {
        "id": "SIgR8kC_hYwS"
      },
      "outputs": [],
      "source": [
        "# Write your code here\n",
        "#Write your code here.\n",
        "import pandas as pd\n",
        "from sklearn.model_selection import train_test_split, cross_val_score\n",
        "from sklearn.feature_extraction.text import CountVectorizer, TfidfVectorizer\n",
        "from sklearn.naive_bayes import MultinomialNB\n",
        "from sklearn.svm import SVC\n",
        "from sklearn.neighbors import KNeighborsClassifier\n",
        "from sklearn.tree import DecisionTreeClassifier\n",
        "from sklearn.ensemble import RandomForestClassifier\n",
        "from xgboost import XGBClassifier\n",
        "from sklearn.metrics import accuracy_score, precision_score, recall_score, f1_score"
      ]
    },
    {
      "cell_type": "code",
      "source": [
        "import pandas as pd\n",
        "\n",
        "def load_sentiment_files(file1, file2):\n",
        "    try:\n",
        "        # Read file1 and file2\n",
        "        with open(file1, 'r', encoding='utf-8') as f1, open(file2, 'r', encoding='utf-8') as f2:\n",
        "            file1_lines = f1.readlines()\n",
        "            file2_lines = f2.readlines()\n",
        "\n",
        "        # Parse sentiment and review from file1\n",
        "        file1_sentiments = []\n",
        "        file1_reviews = []\n",
        "        for line in file1_lines:\n",
        "            sentiment, review = line.strip().split(' ', 1)\n",
        "            file1_sentiments.append(int(sentiment))\n",
        "            file1_reviews.append(review)\n",
        "\n",
        "        # Parse sentiment and review from file2\n",
        "        file2_sentiments = []\n",
        "        file2_reviews = []\n",
        "        for line in file2_lines:\n",
        "            sentiment, review = line.strip().split(' ', 1)\n",
        "            file2_sentiments.append(int(sentiment))\n",
        "            file2_reviews.append(review)\n",
        "\n",
        "        # Create DataFrames\n",
        "        df1 = pd.DataFrame({'sentiment': file1_sentiments, 'review': file1_reviews})\n",
        "        df2 = pd.DataFrame({'sentiment': file2_sentiments, 'review': file2_reviews})\n",
        "\n",
        "        return df1, df2\n",
        "\n",
        "    except Exception as e:\n",
        "        print(f\"Error loading sentiment files: {e}\")\n",
        "        return None, None\n",
        "\n",
        "# Example usage:\n",
        "file1_path = 'stsa-train.txt'\n",
        "file2_path = 'stsa-test.txt'\n",
        "\n",
        "train_df, test_df = load_sentiment_files(file1_path, file2_path)\n",
        "\n",
        "# Display the first few rows of each DataFrame\n",
        "if train_df is not None and test_df is not None:\n",
        "    print(\"Training Data:\")\n",
        "    print(train_df.head())\n",
        "\n",
        "    print(\"\\nTest Data:\")\n",
        "    print(test_df.head())\n",
        "else:\n",
        "    print(\"Error loading sentiment files.\")\n"
      ],
      "metadata": {
        "colab": {
          "base_uri": "https://localhost:8080/"
        },
        "id": "qpzgASKIpjVp",
        "outputId": "4f067743-d285-4453-fc4d-419a803552f3"
      },
      "execution_count": 38,
      "outputs": [
        {
          "output_type": "stream",
          "name": "stdout",
          "text": [
            "Training Data:\n",
            "   sentiment                                             review\n",
            "0          1  a stirring , funny and finally transporting re...\n",
            "1          0  apparently reassembled from the cutting-room f...\n",
            "2          0  they presume their audience wo n't sit still f...\n",
            "3          1  this is a visually stunning rumination on love...\n",
            "4          1  jonathan parker 's bartleby should have been t...\n",
            "\n",
            "Test Data:\n",
            "   sentiment                                             review\n",
            "0          0     no movement , no yuks , not much of anything .\n",
            "1          0  a gob of drivel so sickly sweet , even the eag...\n",
            "2          0  gangs of new york is an unapologetic mess , wh...\n",
            "3          0  we never really feel involved with the story ,...\n",
            "4          1            this is one of polanski 's best films .\n"
          ]
        }
      ]
    },
    {
      "cell_type": "code",
      "execution_count": 39,
      "metadata": {
        "id": "TsXqFLpRhYwZ",
        "outputId": "487b95da-1855-4814-e681-9b507b558d81",
        "colab": {
          "base_uri": "https://localhost:8080/",
          "height": 206
        }
      },
      "outputs": [
        {
          "output_type": "execute_result",
          "data": {
            "text/plain": [
              "   sentiment                                             review\n",
              "0          1  a stirring , funny and finally transporting re...\n",
              "1          0  apparently reassembled from the cutting-room f...\n",
              "2          0  they presume their audience wo n't sit still f...\n",
              "3          1  this is a visually stunning rumination on love...\n",
              "4          1  jonathan parker 's bartleby should have been t..."
            ],
            "text/html": [
              "\n",
              "  <div id=\"df-37de788d-b008-4faa-a847-310b3aad1291\" class=\"colab-df-container\">\n",
              "    <div>\n",
              "<style scoped>\n",
              "    .dataframe tbody tr th:only-of-type {\n",
              "        vertical-align: middle;\n",
              "    }\n",
              "\n",
              "    .dataframe tbody tr th {\n",
              "        vertical-align: top;\n",
              "    }\n",
              "\n",
              "    .dataframe thead th {\n",
              "        text-align: right;\n",
              "    }\n",
              "</style>\n",
              "<table border=\"1\" class=\"dataframe\">\n",
              "  <thead>\n",
              "    <tr style=\"text-align: right;\">\n",
              "      <th></th>\n",
              "      <th>sentiment</th>\n",
              "      <th>review</th>\n",
              "    </tr>\n",
              "  </thead>\n",
              "  <tbody>\n",
              "    <tr>\n",
              "      <th>0</th>\n",
              "      <td>1</td>\n",
              "      <td>a stirring , funny and finally transporting re...</td>\n",
              "    </tr>\n",
              "    <tr>\n",
              "      <th>1</th>\n",
              "      <td>0</td>\n",
              "      <td>apparently reassembled from the cutting-room f...</td>\n",
              "    </tr>\n",
              "    <tr>\n",
              "      <th>2</th>\n",
              "      <td>0</td>\n",
              "      <td>they presume their audience wo n't sit still f...</td>\n",
              "    </tr>\n",
              "    <tr>\n",
              "      <th>3</th>\n",
              "      <td>1</td>\n",
              "      <td>this is a visually stunning rumination on love...</td>\n",
              "    </tr>\n",
              "    <tr>\n",
              "      <th>4</th>\n",
              "      <td>1</td>\n",
              "      <td>jonathan parker 's bartleby should have been t...</td>\n",
              "    </tr>\n",
              "  </tbody>\n",
              "</table>\n",
              "</div>\n",
              "    <div class=\"colab-df-buttons\">\n",
              "\n",
              "  <div class=\"colab-df-container\">\n",
              "    <button class=\"colab-df-convert\" onclick=\"convertToInteractive('df-37de788d-b008-4faa-a847-310b3aad1291')\"\n",
              "            title=\"Convert this dataframe to an interactive table.\"\n",
              "            style=\"display:none;\">\n",
              "\n",
              "  <svg xmlns=\"http://www.w3.org/2000/svg\" height=\"24px\" viewBox=\"0 -960 960 960\">\n",
              "    <path d=\"M120-120v-720h720v720H120Zm60-500h600v-160H180v160Zm220 220h160v-160H400v160Zm0 220h160v-160H400v160ZM180-400h160v-160H180v160Zm440 0h160v-160H620v160ZM180-180h160v-160H180v160Zm440 0h160v-160H620v160Z\"/>\n",
              "  </svg>\n",
              "    </button>\n",
              "\n",
              "  <style>\n",
              "    .colab-df-container {\n",
              "      display:flex;\n",
              "      gap: 12px;\n",
              "    }\n",
              "\n",
              "    .colab-df-convert {\n",
              "      background-color: #E8F0FE;\n",
              "      border: none;\n",
              "      border-radius: 50%;\n",
              "      cursor: pointer;\n",
              "      display: none;\n",
              "      fill: #1967D2;\n",
              "      height: 32px;\n",
              "      padding: 0 0 0 0;\n",
              "      width: 32px;\n",
              "    }\n",
              "\n",
              "    .colab-df-convert:hover {\n",
              "      background-color: #E2EBFA;\n",
              "      box-shadow: 0px 1px 2px rgba(60, 64, 67, 0.3), 0px 1px 3px 1px rgba(60, 64, 67, 0.15);\n",
              "      fill: #174EA6;\n",
              "    }\n",
              "\n",
              "    .colab-df-buttons div {\n",
              "      margin-bottom: 4px;\n",
              "    }\n",
              "\n",
              "    [theme=dark] .colab-df-convert {\n",
              "      background-color: #3B4455;\n",
              "      fill: #D2E3FC;\n",
              "    }\n",
              "\n",
              "    [theme=dark] .colab-df-convert:hover {\n",
              "      background-color: #434B5C;\n",
              "      box-shadow: 0px 1px 3px 1px rgba(0, 0, 0, 0.15);\n",
              "      filter: drop-shadow(0px 1px 2px rgba(0, 0, 0, 0.3));\n",
              "      fill: #FFFFFF;\n",
              "    }\n",
              "  </style>\n",
              "\n",
              "    <script>\n",
              "      const buttonEl =\n",
              "        document.querySelector('#df-37de788d-b008-4faa-a847-310b3aad1291 button.colab-df-convert');\n",
              "      buttonEl.style.display =\n",
              "        google.colab.kernel.accessAllowed ? 'block' : 'none';\n",
              "\n",
              "      async function convertToInteractive(key) {\n",
              "        const element = document.querySelector('#df-37de788d-b008-4faa-a847-310b3aad1291');\n",
              "        const dataTable =\n",
              "          await google.colab.kernel.invokeFunction('convertToInteractive',\n",
              "                                                    [key], {});\n",
              "        if (!dataTable) return;\n",
              "\n",
              "        const docLinkHtml = 'Like what you see? Visit the ' +\n",
              "          '<a target=\"_blank\" href=https://colab.research.google.com/notebooks/data_table.ipynb>data table notebook</a>'\n",
              "          + ' to learn more about interactive tables.';\n",
              "        element.innerHTML = '';\n",
              "        dataTable['output_type'] = 'display_data';\n",
              "        await google.colab.output.renderOutput(dataTable, element);\n",
              "        const docLink = document.createElement('div');\n",
              "        docLink.innerHTML = docLinkHtml;\n",
              "        element.appendChild(docLink);\n",
              "      }\n",
              "    </script>\n",
              "  </div>\n",
              "\n",
              "\n",
              "<div id=\"df-b0f6802c-86fe-4f3a-b957-a54382e84024\">\n",
              "  <button class=\"colab-df-quickchart\" onclick=\"quickchart('df-b0f6802c-86fe-4f3a-b957-a54382e84024')\"\n",
              "            title=\"Suggest charts\"\n",
              "            style=\"display:none;\">\n",
              "\n",
              "<svg xmlns=\"http://www.w3.org/2000/svg\" height=\"24px\"viewBox=\"0 0 24 24\"\n",
              "     width=\"24px\">\n",
              "    <g>\n",
              "        <path d=\"M19 3H5c-1.1 0-2 .9-2 2v14c0 1.1.9 2 2 2h14c1.1 0 2-.9 2-2V5c0-1.1-.9-2-2-2zM9 17H7v-7h2v7zm4 0h-2V7h2v10zm4 0h-2v-4h2v4z\"/>\n",
              "    </g>\n",
              "</svg>\n",
              "  </button>\n",
              "\n",
              "<style>\n",
              "  .colab-df-quickchart {\n",
              "      --bg-color: #E8F0FE;\n",
              "      --fill-color: #1967D2;\n",
              "      --hover-bg-color: #E2EBFA;\n",
              "      --hover-fill-color: #174EA6;\n",
              "      --disabled-fill-color: #AAA;\n",
              "      --disabled-bg-color: #DDD;\n",
              "  }\n",
              "\n",
              "  [theme=dark] .colab-df-quickchart {\n",
              "      --bg-color: #3B4455;\n",
              "      --fill-color: #D2E3FC;\n",
              "      --hover-bg-color: #434B5C;\n",
              "      --hover-fill-color: #FFFFFF;\n",
              "      --disabled-bg-color: #3B4455;\n",
              "      --disabled-fill-color: #666;\n",
              "  }\n",
              "\n",
              "  .colab-df-quickchart {\n",
              "    background-color: var(--bg-color);\n",
              "    border: none;\n",
              "    border-radius: 50%;\n",
              "    cursor: pointer;\n",
              "    display: none;\n",
              "    fill: var(--fill-color);\n",
              "    height: 32px;\n",
              "    padding: 0;\n",
              "    width: 32px;\n",
              "  }\n",
              "\n",
              "  .colab-df-quickchart:hover {\n",
              "    background-color: var(--hover-bg-color);\n",
              "    box-shadow: 0 1px 2px rgba(60, 64, 67, 0.3), 0 1px 3px 1px rgba(60, 64, 67, 0.15);\n",
              "    fill: var(--button-hover-fill-color);\n",
              "  }\n",
              "\n",
              "  .colab-df-quickchart-complete:disabled,\n",
              "  .colab-df-quickchart-complete:disabled:hover {\n",
              "    background-color: var(--disabled-bg-color);\n",
              "    fill: var(--disabled-fill-color);\n",
              "    box-shadow: none;\n",
              "  }\n",
              "\n",
              "  .colab-df-spinner {\n",
              "    border: 2px solid var(--fill-color);\n",
              "    border-color: transparent;\n",
              "    border-bottom-color: var(--fill-color);\n",
              "    animation:\n",
              "      spin 1s steps(1) infinite;\n",
              "  }\n",
              "\n",
              "  @keyframes spin {\n",
              "    0% {\n",
              "      border-color: transparent;\n",
              "      border-bottom-color: var(--fill-color);\n",
              "      border-left-color: var(--fill-color);\n",
              "    }\n",
              "    20% {\n",
              "      border-color: transparent;\n",
              "      border-left-color: var(--fill-color);\n",
              "      border-top-color: var(--fill-color);\n",
              "    }\n",
              "    30% {\n",
              "      border-color: transparent;\n",
              "      border-left-color: var(--fill-color);\n",
              "      border-top-color: var(--fill-color);\n",
              "      border-right-color: var(--fill-color);\n",
              "    }\n",
              "    40% {\n",
              "      border-color: transparent;\n",
              "      border-right-color: var(--fill-color);\n",
              "      border-top-color: var(--fill-color);\n",
              "    }\n",
              "    60% {\n",
              "      border-color: transparent;\n",
              "      border-right-color: var(--fill-color);\n",
              "    }\n",
              "    80% {\n",
              "      border-color: transparent;\n",
              "      border-right-color: var(--fill-color);\n",
              "      border-bottom-color: var(--fill-color);\n",
              "    }\n",
              "    90% {\n",
              "      border-color: transparent;\n",
              "      border-bottom-color: var(--fill-color);\n",
              "    }\n",
              "  }\n",
              "</style>\n",
              "\n",
              "  <script>\n",
              "    async function quickchart(key) {\n",
              "      const quickchartButtonEl =\n",
              "        document.querySelector('#' + key + ' button');\n",
              "      quickchartButtonEl.disabled = true;  // To prevent multiple clicks.\n",
              "      quickchartButtonEl.classList.add('colab-df-spinner');\n",
              "      try {\n",
              "        const charts = await google.colab.kernel.invokeFunction(\n",
              "            'suggestCharts', [key], {});\n",
              "      } catch (error) {\n",
              "        console.error('Error during call to suggestCharts:', error);\n",
              "      }\n",
              "      quickchartButtonEl.classList.remove('colab-df-spinner');\n",
              "      quickchartButtonEl.classList.add('colab-df-quickchart-complete');\n",
              "    }\n",
              "    (() => {\n",
              "      let quickchartButtonEl =\n",
              "        document.querySelector('#df-b0f6802c-86fe-4f3a-b957-a54382e84024 button');\n",
              "      quickchartButtonEl.style.display =\n",
              "        google.colab.kernel.accessAllowed ? 'block' : 'none';\n",
              "    })();\n",
              "  </script>\n",
              "</div>\n",
              "\n",
              "    </div>\n",
              "  </div>\n"
            ],
            "application/vnd.google.colaboratory.intrinsic+json": {
              "type": "dataframe",
              "variable_name": "train_df",
              "summary": "{\n  \"name\": \"train_df\",\n  \"rows\": 6920,\n  \"fields\": [\n    {\n      \"column\": \"sentiment\",\n      \"properties\": {\n        \"dtype\": \"number\",\n        \"std\": 0,\n        \"min\": 0,\n        \"max\": 1,\n        \"num_unique_values\": 2,\n        \"samples\": [\n          0,\n          1\n        ],\n        \"semantic_type\": \"\",\n        \"description\": \"\"\n      }\n    },\n    {\n      \"column\": \"review\",\n      \"properties\": {\n        \"dtype\": \"string\",\n        \"num_unique_values\": 6911,\n        \"samples\": [\n          \"a loud , brash and mainly unfunny high school comedy .\",\n          \"the real star of this movie is the score , as in the songs translate well to film , and it 's really well directed .\"\n        ],\n        \"semantic_type\": \"\",\n        \"description\": \"\"\n      }\n    }\n  ]\n}"
            }
          },
          "metadata": {},
          "execution_count": 39
        }
      ],
      "source": [
        "train_df.head()"
      ]
    },
    {
      "cell_type": "code",
      "execution_count": 34,
      "metadata": {
        "id": "M3l6iV29hYwb",
        "outputId": "339bb7c8-bfd7-45bc-bb66-5ee7320790fb",
        "colab": {
          "base_uri": "https://localhost:8080/",
          "height": 206
        }
      },
      "outputs": [
        {
          "output_type": "execute_result",
          "data": {
            "text/plain": [
              "                                           Sentiment  Text\n",
              "0   0 no movement , no yuks , not much of anything .   NaN\n",
              "1  0 a gob of drivel so sickly sweet , even the e...   NaN\n",
              "2  0 gangs of new york is an unapologetic mess , ...   NaN\n",
              "3  0 we never really feel involved with the story...   NaN\n",
              "4          1 this is one of polanski 's best films .   NaN"
            ],
            "text/html": [
              "\n",
              "  <div id=\"df-248f6138-ae06-41b7-b7f9-7c375f11813e\" class=\"colab-df-container\">\n",
              "    <div>\n",
              "<style scoped>\n",
              "    .dataframe tbody tr th:only-of-type {\n",
              "        vertical-align: middle;\n",
              "    }\n",
              "\n",
              "    .dataframe tbody tr th {\n",
              "        vertical-align: top;\n",
              "    }\n",
              "\n",
              "    .dataframe thead th {\n",
              "        text-align: right;\n",
              "    }\n",
              "</style>\n",
              "<table border=\"1\" class=\"dataframe\">\n",
              "  <thead>\n",
              "    <tr style=\"text-align: right;\">\n",
              "      <th></th>\n",
              "      <th>Sentiment</th>\n",
              "      <th>Text</th>\n",
              "    </tr>\n",
              "  </thead>\n",
              "  <tbody>\n",
              "    <tr>\n",
              "      <th>0</th>\n",
              "      <td>0 no movement , no yuks , not much of anything .</td>\n",
              "      <td>NaN</td>\n",
              "    </tr>\n",
              "    <tr>\n",
              "      <th>1</th>\n",
              "      <td>0 a gob of drivel so sickly sweet , even the e...</td>\n",
              "      <td>NaN</td>\n",
              "    </tr>\n",
              "    <tr>\n",
              "      <th>2</th>\n",
              "      <td>0 gangs of new york is an unapologetic mess , ...</td>\n",
              "      <td>NaN</td>\n",
              "    </tr>\n",
              "    <tr>\n",
              "      <th>3</th>\n",
              "      <td>0 we never really feel involved with the story...</td>\n",
              "      <td>NaN</td>\n",
              "    </tr>\n",
              "    <tr>\n",
              "      <th>4</th>\n",
              "      <td>1 this is one of polanski 's best films .</td>\n",
              "      <td>NaN</td>\n",
              "    </tr>\n",
              "  </tbody>\n",
              "</table>\n",
              "</div>\n",
              "    <div class=\"colab-df-buttons\">\n",
              "\n",
              "  <div class=\"colab-df-container\">\n",
              "    <button class=\"colab-df-convert\" onclick=\"convertToInteractive('df-248f6138-ae06-41b7-b7f9-7c375f11813e')\"\n",
              "            title=\"Convert this dataframe to an interactive table.\"\n",
              "            style=\"display:none;\">\n",
              "\n",
              "  <svg xmlns=\"http://www.w3.org/2000/svg\" height=\"24px\" viewBox=\"0 -960 960 960\">\n",
              "    <path d=\"M120-120v-720h720v720H120Zm60-500h600v-160H180v160Zm220 220h160v-160H400v160Zm0 220h160v-160H400v160ZM180-400h160v-160H180v160Zm440 0h160v-160H620v160ZM180-180h160v-160H180v160Zm440 0h160v-160H620v160Z\"/>\n",
              "  </svg>\n",
              "    </button>\n",
              "\n",
              "  <style>\n",
              "    .colab-df-container {\n",
              "      display:flex;\n",
              "      gap: 12px;\n",
              "    }\n",
              "\n",
              "    .colab-df-convert {\n",
              "      background-color: #E8F0FE;\n",
              "      border: none;\n",
              "      border-radius: 50%;\n",
              "      cursor: pointer;\n",
              "      display: none;\n",
              "      fill: #1967D2;\n",
              "      height: 32px;\n",
              "      padding: 0 0 0 0;\n",
              "      width: 32px;\n",
              "    }\n",
              "\n",
              "    .colab-df-convert:hover {\n",
              "      background-color: #E2EBFA;\n",
              "      box-shadow: 0px 1px 2px rgba(60, 64, 67, 0.3), 0px 1px 3px 1px rgba(60, 64, 67, 0.15);\n",
              "      fill: #174EA6;\n",
              "    }\n",
              "\n",
              "    .colab-df-buttons div {\n",
              "      margin-bottom: 4px;\n",
              "    }\n",
              "\n",
              "    [theme=dark] .colab-df-convert {\n",
              "      background-color: #3B4455;\n",
              "      fill: #D2E3FC;\n",
              "    }\n",
              "\n",
              "    [theme=dark] .colab-df-convert:hover {\n",
              "      background-color: #434B5C;\n",
              "      box-shadow: 0px 1px 3px 1px rgba(0, 0, 0, 0.15);\n",
              "      filter: drop-shadow(0px 1px 2px rgba(0, 0, 0, 0.3));\n",
              "      fill: #FFFFFF;\n",
              "    }\n",
              "  </style>\n",
              "\n",
              "    <script>\n",
              "      const buttonEl =\n",
              "        document.querySelector('#df-248f6138-ae06-41b7-b7f9-7c375f11813e button.colab-df-convert');\n",
              "      buttonEl.style.display =\n",
              "        google.colab.kernel.accessAllowed ? 'block' : 'none';\n",
              "\n",
              "      async function convertToInteractive(key) {\n",
              "        const element = document.querySelector('#df-248f6138-ae06-41b7-b7f9-7c375f11813e');\n",
              "        const dataTable =\n",
              "          await google.colab.kernel.invokeFunction('convertToInteractive',\n",
              "                                                    [key], {});\n",
              "        if (!dataTable) return;\n",
              "\n",
              "        const docLinkHtml = 'Like what you see? Visit the ' +\n",
              "          '<a target=\"_blank\" href=https://colab.research.google.com/notebooks/data_table.ipynb>data table notebook</a>'\n",
              "          + ' to learn more about interactive tables.';\n",
              "        element.innerHTML = '';\n",
              "        dataTable['output_type'] = 'display_data';\n",
              "        await google.colab.output.renderOutput(dataTable, element);\n",
              "        const docLink = document.createElement('div');\n",
              "        docLink.innerHTML = docLinkHtml;\n",
              "        element.appendChild(docLink);\n",
              "      }\n",
              "    </script>\n",
              "  </div>\n",
              "\n",
              "\n",
              "<div id=\"df-374560c3-68e0-4a38-b35b-c54cc678a67c\">\n",
              "  <button class=\"colab-df-quickchart\" onclick=\"quickchart('df-374560c3-68e0-4a38-b35b-c54cc678a67c')\"\n",
              "            title=\"Suggest charts\"\n",
              "            style=\"display:none;\">\n",
              "\n",
              "<svg xmlns=\"http://www.w3.org/2000/svg\" height=\"24px\"viewBox=\"0 0 24 24\"\n",
              "     width=\"24px\">\n",
              "    <g>\n",
              "        <path d=\"M19 3H5c-1.1 0-2 .9-2 2v14c0 1.1.9 2 2 2h14c1.1 0 2-.9 2-2V5c0-1.1-.9-2-2-2zM9 17H7v-7h2v7zm4 0h-2V7h2v10zm4 0h-2v-4h2v4z\"/>\n",
              "    </g>\n",
              "</svg>\n",
              "  </button>\n",
              "\n",
              "<style>\n",
              "  .colab-df-quickchart {\n",
              "      --bg-color: #E8F0FE;\n",
              "      --fill-color: #1967D2;\n",
              "      --hover-bg-color: #E2EBFA;\n",
              "      --hover-fill-color: #174EA6;\n",
              "      --disabled-fill-color: #AAA;\n",
              "      --disabled-bg-color: #DDD;\n",
              "  }\n",
              "\n",
              "  [theme=dark] .colab-df-quickchart {\n",
              "      --bg-color: #3B4455;\n",
              "      --fill-color: #D2E3FC;\n",
              "      --hover-bg-color: #434B5C;\n",
              "      --hover-fill-color: #FFFFFF;\n",
              "      --disabled-bg-color: #3B4455;\n",
              "      --disabled-fill-color: #666;\n",
              "  }\n",
              "\n",
              "  .colab-df-quickchart {\n",
              "    background-color: var(--bg-color);\n",
              "    border: none;\n",
              "    border-radius: 50%;\n",
              "    cursor: pointer;\n",
              "    display: none;\n",
              "    fill: var(--fill-color);\n",
              "    height: 32px;\n",
              "    padding: 0;\n",
              "    width: 32px;\n",
              "  }\n",
              "\n",
              "  .colab-df-quickchart:hover {\n",
              "    background-color: var(--hover-bg-color);\n",
              "    box-shadow: 0 1px 2px rgba(60, 64, 67, 0.3), 0 1px 3px 1px rgba(60, 64, 67, 0.15);\n",
              "    fill: var(--button-hover-fill-color);\n",
              "  }\n",
              "\n",
              "  .colab-df-quickchart-complete:disabled,\n",
              "  .colab-df-quickchart-complete:disabled:hover {\n",
              "    background-color: var(--disabled-bg-color);\n",
              "    fill: var(--disabled-fill-color);\n",
              "    box-shadow: none;\n",
              "  }\n",
              "\n",
              "  .colab-df-spinner {\n",
              "    border: 2px solid var(--fill-color);\n",
              "    border-color: transparent;\n",
              "    border-bottom-color: var(--fill-color);\n",
              "    animation:\n",
              "      spin 1s steps(1) infinite;\n",
              "  }\n",
              "\n",
              "  @keyframes spin {\n",
              "    0% {\n",
              "      border-color: transparent;\n",
              "      border-bottom-color: var(--fill-color);\n",
              "      border-left-color: var(--fill-color);\n",
              "    }\n",
              "    20% {\n",
              "      border-color: transparent;\n",
              "      border-left-color: var(--fill-color);\n",
              "      border-top-color: var(--fill-color);\n",
              "    }\n",
              "    30% {\n",
              "      border-color: transparent;\n",
              "      border-left-color: var(--fill-color);\n",
              "      border-top-color: var(--fill-color);\n",
              "      border-right-color: var(--fill-color);\n",
              "    }\n",
              "    40% {\n",
              "      border-color: transparent;\n",
              "      border-right-color: var(--fill-color);\n",
              "      border-top-color: var(--fill-color);\n",
              "    }\n",
              "    60% {\n",
              "      border-color: transparent;\n",
              "      border-right-color: var(--fill-color);\n",
              "    }\n",
              "    80% {\n",
              "      border-color: transparent;\n",
              "      border-right-color: var(--fill-color);\n",
              "      border-bottom-color: var(--fill-color);\n",
              "    }\n",
              "    90% {\n",
              "      border-color: transparent;\n",
              "      border-bottom-color: var(--fill-color);\n",
              "    }\n",
              "  }\n",
              "</style>\n",
              "\n",
              "  <script>\n",
              "    async function quickchart(key) {\n",
              "      const quickchartButtonEl =\n",
              "        document.querySelector('#' + key + ' button');\n",
              "      quickchartButtonEl.disabled = true;  // To prevent multiple clicks.\n",
              "      quickchartButtonEl.classList.add('colab-df-spinner');\n",
              "      try {\n",
              "        const charts = await google.colab.kernel.invokeFunction(\n",
              "            'suggestCharts', [key], {});\n",
              "      } catch (error) {\n",
              "        console.error('Error during call to suggestCharts:', error);\n",
              "      }\n",
              "      quickchartButtonEl.classList.remove('colab-df-spinner');\n",
              "      quickchartButtonEl.classList.add('colab-df-quickchart-complete');\n",
              "    }\n",
              "    (() => {\n",
              "      let quickchartButtonEl =\n",
              "        document.querySelector('#df-374560c3-68e0-4a38-b35b-c54cc678a67c button');\n",
              "      quickchartButtonEl.style.display =\n",
              "        google.colab.kernel.accessAllowed ? 'block' : 'none';\n",
              "    })();\n",
              "  </script>\n",
              "</div>\n",
              "\n",
              "    </div>\n",
              "  </div>\n"
            ],
            "application/vnd.google.colaboratory.intrinsic+json": {
              "type": "dataframe",
              "variable_name": "test_df",
              "summary": "{\n  \"name\": \"test_df\",\n  \"rows\": 1821,\n  \"fields\": [\n    {\n      \"column\": \"Sentiment\",\n      \"properties\": {\n        \"dtype\": \"string\",\n        \"num_unique_values\": 1821,\n        \"samples\": [\n          \"0 there is no entry portal in the rules of attraction , and i spent most of the movie feeling depressed by the shallow , selfish , greedy characters .\",\n          \"1 a charming yet poignant tale of the irrevocable ties that bind .\",\n          \"0 it 's all pretty cynical and condescending , too .\"\n        ],\n        \"semantic_type\": \"\",\n        \"description\": \"\"\n      }\n    },\n    {\n      \"column\": \"Text\",\n      \"properties\": {\n        \"dtype\": \"number\",\n        \"std\": null,\n        \"min\": null,\n        \"max\": null,\n        \"num_unique_values\": 0,\n        \"samples\": [],\n        \"semantic_type\": \"\",\n        \"description\": \"\"\n      }\n    }\n  ]\n}"
            }
          },
          "metadata": {},
          "execution_count": 34
        }
      ],
      "source": [
        "test_df.head()"
      ]
    },
    {
      "cell_type": "code",
      "execution_count": 40,
      "metadata": {
        "id": "O-N7YjqohYwc"
      },
      "outputs": [],
      "source": [
        "from sklearn.model_selection import train_test_split\n",
        "# Split the training data into training and validation sets\n",
        "X_train, X_val, y_train, y_val = train_test_split(train_df['review'], train_df['sentiment'], test_size=0.2, random_state=42)"
      ]
    },
    {
      "cell_type": "code",
      "execution_count": 41,
      "metadata": {
        "id": "WMIHauPvhYwd"
      },
      "outputs": [],
      "source": [
        "# Train and evaluate classifier\n",
        "def train_and_evaluate_classifier(clf, name):\n",
        "    print(f'Evaluating {name}...')\n",
        "    # Use CountVectorizer to transform the text data into a matrix of word counts\n",
        "    vectorizer = CountVectorizer(stop_words='english')\n",
        "    X_train_vec = vectorizer.fit_transform(X_train)\n",
        "    X_val_vec = vectorizer.transform(X_val)\n",
        "\n",
        "    # Train the classifier using 10-fold cross-validation\n",
        "    scores = cross_val_score(clf, X_train_vec, y_train, cv=10)\n",
        "    print(f'Mean {name} cross-validation accuracy: {scores.mean()}')\n",
        "\n",
        "    # Fit the classifier to the entire training data and make predictions on the validation set\n",
        "    clf.fit(X_train_vec, y_train)\n",
        "    y_val_pred = clf.predict(X_val_vec)\n",
        "\n",
        "    # Evaluate the classifier on the validation set\n",
        "    accuracy = accuracy_score(y_val, y_val_pred)\n",
        "    precision = precision_score(y_val, y_val_pred)\n",
        "    recall = recall_score(y_val, y_val_pred)\n",
        "    f1 = f1_score(y_val, y_val_pred)\n",
        "    print(f'{name} validation accuracy: {accuracy}')\n",
        "    print(f'{name} validation precision: {precision}')\n",
        "    print(f'{name} validation recall: {recall}')\n",
        "    print(f'{name} validation F1 score: {f1}')\n",
        "    print('-'*40)"
      ]
    },
    {
      "cell_type": "code",
      "execution_count": 42,
      "metadata": {
        "id": "lvSIn7bLhYwe",
        "outputId": "98047c74-97dc-4e96-d03b-40f98188dd99",
        "colab": {
          "base_uri": "https://localhost:8080/"
        }
      },
      "outputs": [
        {
          "output_type": "stream",
          "name": "stdout",
          "text": [
            "Evaluating MultinomialNB...\n",
            "Mean MultinomialNB cross-validation accuracy: 0.7720343906881401\n",
            "MultinomialNB validation accuracy: 0.7846820809248555\n",
            "MultinomialNB validation precision: 0.7539779681762546\n",
            "MultinomialNB validation recall: 0.8639551192145862\n",
            "MultinomialNB validation F1 score: 0.8052287581699346\n",
            "----------------------------------------\n",
            "Evaluating SVM...\n",
            "Mean SVM cross-validation accuracy: 0.7366396615768276\n",
            "SVM validation accuracy: 0.7622832369942196\n",
            "SVM validation precision: 0.7594594594594595\n",
            "SVM validation recall: 0.788218793828892\n",
            "SVM validation F1 score: 0.7735719201651756\n",
            "----------------------------------------\n",
            "Evaluating KNN...\n",
            "Mean KNN cross-validation accuracy: 0.5408314347079599\n",
            "KNN validation accuracy: 0.5614161849710982\n",
            "KNN validation precision: 0.5629453681710214\n",
            "KNN validation recall: 0.664796633941094\n",
            "KNN validation F1 score: 0.6096463022508037\n",
            "----------------------------------------\n",
            "Evaluating Decision Tree...\n",
            "Mean Decision Tree cross-validation accuracy: 0.6439675938921929\n",
            "Decision Tree validation accuracy: 0.6575144508670521\n",
            "Decision Tree validation precision: 0.6462668298653611\n",
            "Decision Tree validation recall: 0.7405329593267882\n",
            "Decision Tree validation F1 score: 0.6901960784313725\n",
            "----------------------------------------\n",
            "Evaluating Random Forest...\n",
            "Mean Random Forest cross-validation accuracy: 0.7093637592129574\n",
            "Random Forest validation accuracy: 0.7456647398843931\n",
            "Random Forest validation precision: 0.7259073842302879\n",
            "Random Forest validation recall: 0.8134642356241234\n",
            "Random Forest validation F1 score: 0.7671957671957672\n",
            "----------------------------------------\n",
            "Evaluating XGBoost...\n",
            "Mean XGBoost cross-validation accuracy: 0.6927500799707536\n",
            "XGBoost validation accuracy: 0.7167630057803468\n",
            "XGBoost validation precision: 0.6738894907908992\n",
            "XGBoost validation recall: 0.8723702664796634\n",
            "XGBoost validation F1 score: 0.7603911980440097\n",
            "----------------------------------------\n"
          ]
        }
      ],
      "source": [
        "# Train and evaluate the classifiers\n",
        "nb = MultinomialNB()\n",
        "train_and_evaluate_classifier(nb, 'MultinomialNB')\n",
        "\n",
        "svm = SVC(kernel='linear')\n",
        "train_and_evaluate_classifier(svm, 'SVM')\n",
        "\n",
        "knn = KNeighborsClassifier()\n",
        "train_and_evaluate_classifier(knn, 'KNN')\n",
        "\n",
        "dt = DecisionTreeClassifier()\n",
        "train_and_evaluate_classifier(dt, 'Decision Tree')\n",
        "\n",
        "rf = RandomForestClassifier()\n",
        "train_and_evaluate_classifier(rf, 'Random Forest')\n",
        "\n",
        "xgb = XGBClassifier()\n",
        "train_and_evaluate_classifier(xgb, 'XGBoost')"
      ]
    },
    {
      "cell_type": "markdown",
      "metadata": {
        "id": "mRUpuvP6hYwf"
      },
      "source": [
        "## **Question 2 (20 Points)**\n",
        "\n",
        "The purpose of the question is to practice different machine learning algorithms for **text clustering**.\n",
        "\n",
        "Please downlad the dataset by using the following link.  https://www.kaggle.com/PromptCloudHQ/amazon-reviews-unlocked-mobile-phones\n",
        "(You can also use different text data which you want)\n",
        "\n",
        "**Apply the listed clustering methods to the dataset:**\n",
        "*   K-means\n",
        "*   DBSCAN\n",
        "*   Hierarchical clustering\n",
        "*   Word2Vec\n",
        "*   BERT\n",
        "\n",
        "You can refer to of the codes from  the follwing link below.\n",
        "https://www.kaggle.com/karthik3890/text-clustering"
      ]
    },
    {
      "cell_type": "code",
      "execution_count": 46,
      "metadata": {
        "id": "kYmkWfyEhYwg",
        "outputId": "e772bf55-b686-4175-c319-2a39b09360d3",
        "colab": {
          "base_uri": "https://localhost:8080/",
          "height": 206
        }
      },
      "outputs": [
        {
          "output_type": "execute_result",
          "data": {
            "text/plain": [
              "                                        Product Name Brand Name   Price  \\\n",
              "0  \"CLEAR CLEAN ESN\" Sprint EPIC 4G Galaxy SPH-D7...    Samsung  199.99   \n",
              "1  \"CLEAR CLEAN ESN\" Sprint EPIC 4G Galaxy SPH-D7...    Samsung  199.99   \n",
              "2  \"CLEAR CLEAN ESN\" Sprint EPIC 4G Galaxy SPH-D7...    Samsung  199.99   \n",
              "3  \"CLEAR CLEAN ESN\" Sprint EPIC 4G Galaxy SPH-D7...    Samsung  199.99   \n",
              "4  \"CLEAR CLEAN ESN\" Sprint EPIC 4G Galaxy SPH-D7...    Samsung  199.99   \n",
              "\n",
              "   Rating                                            Reviews  Review Votes  \n",
              "0       5  I feel so LUCKY to have found this used (phone...           1.0  \n",
              "1       4  nice phone, nice up grade from my pantach revu...           0.0  \n",
              "2       5                                       Very pleased           0.0  \n",
              "3       4  It works good but it goes slow sometimes but i...           0.0  \n",
              "4       4  Great phone to replace my lost phone. The only...           0.0  "
            ],
            "text/html": [
              "\n",
              "  <div id=\"df-3dd5c28c-6953-4ba3-949b-f0d9675c4567\" class=\"colab-df-container\">\n",
              "    <div>\n",
              "<style scoped>\n",
              "    .dataframe tbody tr th:only-of-type {\n",
              "        vertical-align: middle;\n",
              "    }\n",
              "\n",
              "    .dataframe tbody tr th {\n",
              "        vertical-align: top;\n",
              "    }\n",
              "\n",
              "    .dataframe thead th {\n",
              "        text-align: right;\n",
              "    }\n",
              "</style>\n",
              "<table border=\"1\" class=\"dataframe\">\n",
              "  <thead>\n",
              "    <tr style=\"text-align: right;\">\n",
              "      <th></th>\n",
              "      <th>Product Name</th>\n",
              "      <th>Brand Name</th>\n",
              "      <th>Price</th>\n",
              "      <th>Rating</th>\n",
              "      <th>Reviews</th>\n",
              "      <th>Review Votes</th>\n",
              "    </tr>\n",
              "  </thead>\n",
              "  <tbody>\n",
              "    <tr>\n",
              "      <th>0</th>\n",
              "      <td>\"CLEAR CLEAN ESN\" Sprint EPIC 4G Galaxy SPH-D7...</td>\n",
              "      <td>Samsung</td>\n",
              "      <td>199.99</td>\n",
              "      <td>5</td>\n",
              "      <td>I feel so LUCKY to have found this used (phone...</td>\n",
              "      <td>1.0</td>\n",
              "    </tr>\n",
              "    <tr>\n",
              "      <th>1</th>\n",
              "      <td>\"CLEAR CLEAN ESN\" Sprint EPIC 4G Galaxy SPH-D7...</td>\n",
              "      <td>Samsung</td>\n",
              "      <td>199.99</td>\n",
              "      <td>4</td>\n",
              "      <td>nice phone, nice up grade from my pantach revu...</td>\n",
              "      <td>0.0</td>\n",
              "    </tr>\n",
              "    <tr>\n",
              "      <th>2</th>\n",
              "      <td>\"CLEAR CLEAN ESN\" Sprint EPIC 4G Galaxy SPH-D7...</td>\n",
              "      <td>Samsung</td>\n",
              "      <td>199.99</td>\n",
              "      <td>5</td>\n",
              "      <td>Very pleased</td>\n",
              "      <td>0.0</td>\n",
              "    </tr>\n",
              "    <tr>\n",
              "      <th>3</th>\n",
              "      <td>\"CLEAR CLEAN ESN\" Sprint EPIC 4G Galaxy SPH-D7...</td>\n",
              "      <td>Samsung</td>\n",
              "      <td>199.99</td>\n",
              "      <td>4</td>\n",
              "      <td>It works good but it goes slow sometimes but i...</td>\n",
              "      <td>0.0</td>\n",
              "    </tr>\n",
              "    <tr>\n",
              "      <th>4</th>\n",
              "      <td>\"CLEAR CLEAN ESN\" Sprint EPIC 4G Galaxy SPH-D7...</td>\n",
              "      <td>Samsung</td>\n",
              "      <td>199.99</td>\n",
              "      <td>4</td>\n",
              "      <td>Great phone to replace my lost phone. The only...</td>\n",
              "      <td>0.0</td>\n",
              "    </tr>\n",
              "  </tbody>\n",
              "</table>\n",
              "</div>\n",
              "    <div class=\"colab-df-buttons\">\n",
              "\n",
              "  <div class=\"colab-df-container\">\n",
              "    <button class=\"colab-df-convert\" onclick=\"convertToInteractive('df-3dd5c28c-6953-4ba3-949b-f0d9675c4567')\"\n",
              "            title=\"Convert this dataframe to an interactive table.\"\n",
              "            style=\"display:none;\">\n",
              "\n",
              "  <svg xmlns=\"http://www.w3.org/2000/svg\" height=\"24px\" viewBox=\"0 -960 960 960\">\n",
              "    <path d=\"M120-120v-720h720v720H120Zm60-500h600v-160H180v160Zm220 220h160v-160H400v160Zm0 220h160v-160H400v160ZM180-400h160v-160H180v160Zm440 0h160v-160H620v160ZM180-180h160v-160H180v160Zm440 0h160v-160H620v160Z\"/>\n",
              "  </svg>\n",
              "    </button>\n",
              "\n",
              "  <style>\n",
              "    .colab-df-container {\n",
              "      display:flex;\n",
              "      gap: 12px;\n",
              "    }\n",
              "\n",
              "    .colab-df-convert {\n",
              "      background-color: #E8F0FE;\n",
              "      border: none;\n",
              "      border-radius: 50%;\n",
              "      cursor: pointer;\n",
              "      display: none;\n",
              "      fill: #1967D2;\n",
              "      height: 32px;\n",
              "      padding: 0 0 0 0;\n",
              "      width: 32px;\n",
              "    }\n",
              "\n",
              "    .colab-df-convert:hover {\n",
              "      background-color: #E2EBFA;\n",
              "      box-shadow: 0px 1px 2px rgba(60, 64, 67, 0.3), 0px 1px 3px 1px rgba(60, 64, 67, 0.15);\n",
              "      fill: #174EA6;\n",
              "    }\n",
              "\n",
              "    .colab-df-buttons div {\n",
              "      margin-bottom: 4px;\n",
              "    }\n",
              "\n",
              "    [theme=dark] .colab-df-convert {\n",
              "      background-color: #3B4455;\n",
              "      fill: #D2E3FC;\n",
              "    }\n",
              "\n",
              "    [theme=dark] .colab-df-convert:hover {\n",
              "      background-color: #434B5C;\n",
              "      box-shadow: 0px 1px 3px 1px rgba(0, 0, 0, 0.15);\n",
              "      filter: drop-shadow(0px 1px 2px rgba(0, 0, 0, 0.3));\n",
              "      fill: #FFFFFF;\n",
              "    }\n",
              "  </style>\n",
              "\n",
              "    <script>\n",
              "      const buttonEl =\n",
              "        document.querySelector('#df-3dd5c28c-6953-4ba3-949b-f0d9675c4567 button.colab-df-convert');\n",
              "      buttonEl.style.display =\n",
              "        google.colab.kernel.accessAllowed ? 'block' : 'none';\n",
              "\n",
              "      async function convertToInteractive(key) {\n",
              "        const element = document.querySelector('#df-3dd5c28c-6953-4ba3-949b-f0d9675c4567');\n",
              "        const dataTable =\n",
              "          await google.colab.kernel.invokeFunction('convertToInteractive',\n",
              "                                                    [key], {});\n",
              "        if (!dataTable) return;\n",
              "\n",
              "        const docLinkHtml = 'Like what you see? Visit the ' +\n",
              "          '<a target=\"_blank\" href=https://colab.research.google.com/notebooks/data_table.ipynb>data table notebook</a>'\n",
              "          + ' to learn more about interactive tables.';\n",
              "        element.innerHTML = '';\n",
              "        dataTable['output_type'] = 'display_data';\n",
              "        await google.colab.output.renderOutput(dataTable, element);\n",
              "        const docLink = document.createElement('div');\n",
              "        docLink.innerHTML = docLinkHtml;\n",
              "        element.appendChild(docLink);\n",
              "      }\n",
              "    </script>\n",
              "  </div>\n",
              "\n",
              "\n",
              "<div id=\"df-24a7796a-1223-46c8-9706-a52e2f60ea92\">\n",
              "  <button class=\"colab-df-quickchart\" onclick=\"quickchart('df-24a7796a-1223-46c8-9706-a52e2f60ea92')\"\n",
              "            title=\"Suggest charts\"\n",
              "            style=\"display:none;\">\n",
              "\n",
              "<svg xmlns=\"http://www.w3.org/2000/svg\" height=\"24px\"viewBox=\"0 0 24 24\"\n",
              "     width=\"24px\">\n",
              "    <g>\n",
              "        <path d=\"M19 3H5c-1.1 0-2 .9-2 2v14c0 1.1.9 2 2 2h14c1.1 0 2-.9 2-2V5c0-1.1-.9-2-2-2zM9 17H7v-7h2v7zm4 0h-2V7h2v10zm4 0h-2v-4h2v4z\"/>\n",
              "    </g>\n",
              "</svg>\n",
              "  </button>\n",
              "\n",
              "<style>\n",
              "  .colab-df-quickchart {\n",
              "      --bg-color: #E8F0FE;\n",
              "      --fill-color: #1967D2;\n",
              "      --hover-bg-color: #E2EBFA;\n",
              "      --hover-fill-color: #174EA6;\n",
              "      --disabled-fill-color: #AAA;\n",
              "      --disabled-bg-color: #DDD;\n",
              "  }\n",
              "\n",
              "  [theme=dark] .colab-df-quickchart {\n",
              "      --bg-color: #3B4455;\n",
              "      --fill-color: #D2E3FC;\n",
              "      --hover-bg-color: #434B5C;\n",
              "      --hover-fill-color: #FFFFFF;\n",
              "      --disabled-bg-color: #3B4455;\n",
              "      --disabled-fill-color: #666;\n",
              "  }\n",
              "\n",
              "  .colab-df-quickchart {\n",
              "    background-color: var(--bg-color);\n",
              "    border: none;\n",
              "    border-radius: 50%;\n",
              "    cursor: pointer;\n",
              "    display: none;\n",
              "    fill: var(--fill-color);\n",
              "    height: 32px;\n",
              "    padding: 0;\n",
              "    width: 32px;\n",
              "  }\n",
              "\n",
              "  .colab-df-quickchart:hover {\n",
              "    background-color: var(--hover-bg-color);\n",
              "    box-shadow: 0 1px 2px rgba(60, 64, 67, 0.3), 0 1px 3px 1px rgba(60, 64, 67, 0.15);\n",
              "    fill: var(--button-hover-fill-color);\n",
              "  }\n",
              "\n",
              "  .colab-df-quickchart-complete:disabled,\n",
              "  .colab-df-quickchart-complete:disabled:hover {\n",
              "    background-color: var(--disabled-bg-color);\n",
              "    fill: var(--disabled-fill-color);\n",
              "    box-shadow: none;\n",
              "  }\n",
              "\n",
              "  .colab-df-spinner {\n",
              "    border: 2px solid var(--fill-color);\n",
              "    border-color: transparent;\n",
              "    border-bottom-color: var(--fill-color);\n",
              "    animation:\n",
              "      spin 1s steps(1) infinite;\n",
              "  }\n",
              "\n",
              "  @keyframes spin {\n",
              "    0% {\n",
              "      border-color: transparent;\n",
              "      border-bottom-color: var(--fill-color);\n",
              "      border-left-color: var(--fill-color);\n",
              "    }\n",
              "    20% {\n",
              "      border-color: transparent;\n",
              "      border-left-color: var(--fill-color);\n",
              "      border-top-color: var(--fill-color);\n",
              "    }\n",
              "    30% {\n",
              "      border-color: transparent;\n",
              "      border-left-color: var(--fill-color);\n",
              "      border-top-color: var(--fill-color);\n",
              "      border-right-color: var(--fill-color);\n",
              "    }\n",
              "    40% {\n",
              "      border-color: transparent;\n",
              "      border-right-color: var(--fill-color);\n",
              "      border-top-color: var(--fill-color);\n",
              "    }\n",
              "    60% {\n",
              "      border-color: transparent;\n",
              "      border-right-color: var(--fill-color);\n",
              "    }\n",
              "    80% {\n",
              "      border-color: transparent;\n",
              "      border-right-color: var(--fill-color);\n",
              "      border-bottom-color: var(--fill-color);\n",
              "    }\n",
              "    90% {\n",
              "      border-color: transparent;\n",
              "      border-bottom-color: var(--fill-color);\n",
              "    }\n",
              "  }\n",
              "</style>\n",
              "\n",
              "  <script>\n",
              "    async function quickchart(key) {\n",
              "      const quickchartButtonEl =\n",
              "        document.querySelector('#' + key + ' button');\n",
              "      quickchartButtonEl.disabled = true;  // To prevent multiple clicks.\n",
              "      quickchartButtonEl.classList.add('colab-df-spinner');\n",
              "      try {\n",
              "        const charts = await google.colab.kernel.invokeFunction(\n",
              "            'suggestCharts', [key], {});\n",
              "      } catch (error) {\n",
              "        console.error('Error during call to suggestCharts:', error);\n",
              "      }\n",
              "      quickchartButtonEl.classList.remove('colab-df-spinner');\n",
              "      quickchartButtonEl.classList.add('colab-df-quickchart-complete');\n",
              "    }\n",
              "    (() => {\n",
              "      let quickchartButtonEl =\n",
              "        document.querySelector('#df-24a7796a-1223-46c8-9706-a52e2f60ea92 button');\n",
              "      quickchartButtonEl.style.display =\n",
              "        google.colab.kernel.accessAllowed ? 'block' : 'none';\n",
              "    })();\n",
              "  </script>\n",
              "</div>\n",
              "\n",
              "    </div>\n",
              "  </div>\n"
            ],
            "application/vnd.google.colaboratory.intrinsic+json": {
              "type": "dataframe",
              "variable_name": "reviews_df"
            }
          },
          "metadata": {},
          "execution_count": 46
        }
      ],
      "source": [
        "#Write your code here.\n",
        "file_path = \"/content/drive/My Drive/INFO 5731/Amazon_Unlocked_Mobile.csv\"\n",
        "reviews_df = pd.read_csv(file_path)\n",
        "reviews_df.head()"
      ]
    },
    {
      "cell_type": "code",
      "execution_count": 47,
      "metadata": {
        "id": "StJus6eOhYwh",
        "outputId": "8938421c-2cba-4dc5-b4fe-beb0fea96c48",
        "colab": {
          "base_uri": "https://localhost:8080/"
        }
      },
      "outputs": [
        {
          "output_type": "execute_result",
          "data": {
            "text/plain": [
              "(413840, 6)"
            ]
          },
          "metadata": {},
          "execution_count": 47
        }
      ],
      "source": [
        "reviews_df.shape"
      ]
    },
    {
      "cell_type": "code",
      "execution_count": 48,
      "metadata": {
        "id": "Ifq40tDQhYwi",
        "outputId": "178fc1fa-e9b7-4935-fcda-761146096c5c",
        "colab": {
          "base_uri": "https://localhost:8080/",
          "height": 466
        }
      },
      "outputs": [
        {
          "output_type": "execute_result",
          "data": {
            "text/plain": [
              "<Axes: xlabel='Rating', ylabel='count'>"
            ]
          },
          "metadata": {},
          "execution_count": 48
        },
        {
          "output_type": "display_data",
          "data": {
            "text/plain": [
              "<Figure size 640x480 with 1 Axes>"
            ],
            "image/png": "[encoded data removed]"
          },
          "metadata": {}
        }
      ],
      "source": [
        "# understand distribution of customer ratings.\n",
        "import seaborn as sns\n",
        "sns.countplot(x = \"Rating\", data=reviews_df)"
      ]
    },
    {
      "cell_type": "code",
      "execution_count": 49,
      "metadata": {
        "id": "_eBl67XAhYwi",
        "outputId": "89bb2156-1d2f-43cd-a1ba-a9474f0c5553",
        "colab": {
          "base_uri": "https://localhost:8080/"
        }
      },
      "outputs": [
        {
          "output_type": "execute_result",
          "data": {
            "text/plain": [
              "Product Name     object\n",
              "Brand Name       object\n",
              "Price           float64\n",
              "Rating            int64\n",
              "Reviews          object\n",
              "Review Votes    float64\n",
              "dtype: object"
            ]
          },
          "metadata": {},
          "execution_count": 49
        }
      ],
      "source": [
        "reviews_df.dtypes"
      ]
    },
    {
      "cell_type": "markdown",
      "metadata": {
        "id": "pletv19ohYwj"
      },
      "source": [
        "**Data preprocessing**\n",
        "\n",
        "This will involve splitting the ratings into two: above 3 (positive) and bbelow 3 (negative)"
      ]
    },
    {
      "cell_type": "code",
      "execution_count": 50,
      "metadata": {
        "id": "3dQE2ODuhYwj"
      },
      "outputs": [],
      "source": [
        "#function\n",
        "def partition(x):\n",
        "    if x < 3:\n",
        "        return 'negative'\n",
        "    return 'positive'"
      ]
    },
    {
      "cell_type": "code",
      "execution_count": 51,
      "metadata": {
        "id": "30jsByhrhYwk"
      },
      "outputs": [],
      "source": [
        "#changing reviews with score less than 3 to be positive\n",
        "actualScore = reviews_df['Rating']\n",
        "positiveNegative = actualScore.map(partition)\n",
        "reviews_df['Rating'] = positiveNegative"
      ]
    },
    {
      "cell_type": "code",
      "execution_count": 52,
      "metadata": {
        "id": "AEwO-y2lhYwk",
        "outputId": "97f4fdc5-20b8-4dd3-b616-623eb303cef8",
        "colab": {
          "base_uri": "https://localhost:8080/",
          "height": 206
        }
      },
      "outputs": [
        {
          "output_type": "execute_result",
          "data": {
            "text/plain": [
              "                                        Product Name Brand Name   Price  \\\n",
              "0  \"CLEAR CLEAN ESN\" Sprint EPIC 4G Galaxy SPH-D7...    Samsung  199.99   \n",
              "1  \"CLEAR CLEAN ESN\" Sprint EPIC 4G Galaxy SPH-D7...    Samsung  199.99   \n",
              "2  \"CLEAR CLEAN ESN\" Sprint EPIC 4G Galaxy SPH-D7...    Samsung  199.99   \n",
              "3  \"CLEAR CLEAN ESN\" Sprint EPIC 4G Galaxy SPH-D7...    Samsung  199.99   \n",
              "4  \"CLEAR CLEAN ESN\" Sprint EPIC 4G Galaxy SPH-D7...    Samsung  199.99   \n",
              "\n",
              "     Rating                                            Reviews  Review Votes  \n",
              "0  positive  I feel so LUCKY to have found this used (phone...           1.0  \n",
              "1  positive  nice phone, nice up grade from my pantach revu...           0.0  \n",
              "2  positive                                       Very pleased           0.0  \n",
              "3  positive  It works good but it goes slow sometimes but i...           0.0  \n",
              "4  positive  Great phone to replace my lost phone. The only...           0.0  "
            ],
            "text/html": [
              "\n",
              "  <div id=\"df-fd9e7e20-c7c6-4c5a-8531-ed16a2c623dc\" class=\"colab-df-container\">\n",
              "    <div>\n",
              "<style scoped>\n",
              "    .dataframe tbody tr th:only-of-type {\n",
              "        vertical-align: middle;\n",
              "    }\n",
              "\n",
              "    .dataframe tbody tr th {\n",
              "        vertical-align: top;\n",
              "    }\n",
              "\n",
              "    .dataframe thead th {\n",
              "        text-align: right;\n",
              "    }\n",
              "</style>\n",
              "<table border=\"1\" class=\"dataframe\">\n",
              "  <thead>\n",
              "    <tr style=\"text-align: right;\">\n",
              "      <th></th>\n",
              "      <th>Product Name</th>\n",
              "      <th>Brand Name</th>\n",
              "      <th>Price</th>\n",
              "      <th>Rating</th>\n",
              "      <th>Reviews</th>\n",
              "      <th>Review Votes</th>\n",
              "    </tr>\n",
              "  </thead>\n",
              "  <tbody>\n",
              "    <tr>\n",
              "      <th>0</th>\n",
              "      <td>\"CLEAR CLEAN ESN\" Sprint EPIC 4G Galaxy SPH-D7...</td>\n",
              "      <td>Samsung</td>\n",
              "      <td>199.99</td>\n",
              "      <td>positive</td>\n",
              "      <td>I feel so LUCKY to have found this used (phone...</td>\n",
              "      <td>1.0</td>\n",
              "    </tr>\n",
              "    <tr>\n",
              "      <th>1</th>\n",
              "      <td>\"CLEAR CLEAN ESN\" Sprint EPIC 4G Galaxy SPH-D7...</td>\n",
              "      <td>Samsung</td>\n",
              "      <td>199.99</td>\n",
              "      <td>positive</td>\n",
              "      <td>nice phone, nice up grade from my pantach revu...</td>\n",
              "      <td>0.0</td>\n",
              "    </tr>\n",
              "    <tr>\n",
              "      <th>2</th>\n",
              "      <td>\"CLEAR CLEAN ESN\" Sprint EPIC 4G Galaxy SPH-D7...</td>\n",
              "      <td>Samsung</td>\n",
              "      <td>199.99</td>\n",
              "      <td>positive</td>\n",
              "      <td>Very pleased</td>\n",
              "      <td>0.0</td>\n",
              "    </tr>\n",
              "    <tr>\n",
              "      <th>3</th>\n",
              "      <td>\"CLEAR CLEAN ESN\" Sprint EPIC 4G Galaxy SPH-D7...</td>\n",
              "      <td>Samsung</td>\n",
              "      <td>199.99</td>\n",
              "      <td>positive</td>\n",
              "      <td>It works good but it goes slow sometimes but i...</td>\n",
              "      <td>0.0</td>\n",
              "    </tr>\n",
              "    <tr>\n",
              "      <th>4</th>\n",
              "      <td>\"CLEAR CLEAN ESN\" Sprint EPIC 4G Galaxy SPH-D7...</td>\n",
              "      <td>Samsung</td>\n",
              "      <td>199.99</td>\n",
              "      <td>positive</td>\n",
              "      <td>Great phone to replace my lost phone. The only...</td>\n",
              "      <td>0.0</td>\n",
              "    </tr>\n",
              "  </tbody>\n",
              "</table>\n",
              "</div>\n",
              "    <div class=\"colab-df-buttons\">\n",
              "\n",
              "  <div class=\"colab-df-container\">\n",
              "    <button class=\"colab-df-convert\" onclick=\"convertToInteractive('df-fd9e7e20-c7c6-4c5a-8531-ed16a2c623dc')\"\n",
              "            title=\"Convert this dataframe to an interactive table.\"\n",
              "            style=\"display:none;\">\n",
              "\n",
              "  <svg xmlns=\"http://www.w3.org/2000/svg\" height=\"24px\" viewBox=\"0 -960 960 960\">\n",
              "    <path d=\"M120-120v-720h720v720H120Zm60-500h600v-160H180v160Zm220 220h160v-160H400v160Zm0 220h160v-160H400v160ZM180-400h160v-160H180v160Zm440 0h160v-160H620v160ZM180-180h160v-160H180v160Zm440 0h160v-160H620v160Z\"/>\n",
              "  </svg>\n",
              "    </button>\n",
              "\n",
              "  <style>\n",
              "    .colab-df-container {\n",
              "      display:flex;\n",
              "      gap: 12px;\n",
              "    }\n",
              "\n",
              "    .colab-df-convert {\n",
              "      background-color: #E8F0FE;\n",
              "      border: none;\n",
              "      border-radius: 50%;\n",
              "      cursor: pointer;\n",
              "      display: none;\n",
              "      fill: #1967D2;\n",
              "      height: 32px;\n",
              "      padding: 0 0 0 0;\n",
              "      width: 32px;\n",
              "    }\n",
              "\n",
              "    .colab-df-convert:hover {\n",
              "      background-color: #E2EBFA;\n",
              "      box-shadow: 0px 1px 2px rgba(60, 64, 67, 0.3), 0px 1px 3px 1px rgba(60, 64, 67, 0.15);\n",
              "      fill: #174EA6;\n",
              "    }\n",
              "\n",
              "    .colab-df-buttons div {\n",
              "      margin-bottom: 4px;\n",
              "    }\n",
              "\n",
              "    [theme=dark] .colab-df-convert {\n",
              "      background-color: #3B4455;\n",
              "      fill: #D2E3FC;\n",
              "    }\n",
              "\n",
              "    [theme=dark] .colab-df-convert:hover {\n",
              "      background-color: #434B5C;\n",
              "      box-shadow: 0px 1px 3px 1px rgba(0, 0, 0, 0.15);\n",
              "      filter: drop-shadow(0px 1px 2px rgba(0, 0, 0, 0.3));\n",
              "      fill: #FFFFFF;\n",
              "    }\n",
              "  </style>\n",
              "\n",
              "    <script>\n",
              "      const buttonEl =\n",
              "        document.querySelector('#df-fd9e7e20-c7c6-4c5a-8531-ed16a2c623dc button.colab-df-convert');\n",
              "      buttonEl.style.display =\n",
              "        google.colab.kernel.accessAllowed ? 'block' : 'none';\n",
              "\n",
              "      async function convertToInteractive(key) {\n",
              "        const element = document.querySelector('#df-fd9e7e20-c7c6-4c5a-8531-ed16a2c623dc');\n",
              "        const dataTable =\n",
              "          await google.colab.kernel.invokeFunction('convertToInteractive',\n",
              "                                                    [key], {});\n",
              "        if (!dataTable) return;\n",
              "\n",
              "        const docLinkHtml = 'Like what you see? Visit the ' +\n",
              "          '<a target=\"_blank\" href=https://colab.research.google.com/notebooks/data_table.ipynb>data table notebook</a>'\n",
              "          + ' to learn more about interactive tables.';\n",
              "        element.innerHTML = '';\n",
              "        dataTable['output_type'] = 'display_data';\n",
              "        await google.colab.output.renderOutput(dataTable, element);\n",
              "        const docLink = document.createElement('div');\n",
              "        docLink.innerHTML = docLinkHtml;\n",
              "        element.appendChild(docLink);\n",
              "      }\n",
              "    </script>\n",
              "  </div>\n",
              "\n",
              "\n",
              "<div id=\"df-7e1dcee5-c1ab-4216-b68e-18e9de74d97d\">\n",
              "  <button class=\"colab-df-quickchart\" onclick=\"quickchart('df-7e1dcee5-c1ab-4216-b68e-18e9de74d97d')\"\n",
              "            title=\"Suggest charts\"\n",
              "            style=\"display:none;\">\n",
              "\n",
              "<svg xmlns=\"http://www.w3.org/2000/svg\" height=\"24px\"viewBox=\"0 0 24 24\"\n",
              "     width=\"24px\">\n",
              "    <g>\n",
              "        <path d=\"M19 3H5c-1.1 0-2 .9-2 2v14c0 1.1.9 2 2 2h14c1.1 0 2-.9 2-2V5c0-1.1-.9-2-2-2zM9 17H7v-7h2v7zm4 0h-2V7h2v10zm4 0h-2v-4h2v4z\"/>\n",
              "    </g>\n",
              "</svg>\n",
              "  </button>\n",
              "\n",
              "<style>\n",
              "  .colab-df-quickchart {\n",
              "      --bg-color: #E8F0FE;\n",
              "      --fill-color: #1967D2;\n",
              "      --hover-bg-color: #E2EBFA;\n",
              "      --hover-fill-color: #174EA6;\n",
              "      --disabled-fill-color: #AAA;\n",
              "      --disabled-bg-color: #DDD;\n",
              "  }\n",
              "\n",
              "  [theme=dark] .colab-df-quickchart {\n",
              "      --bg-color: #3B4455;\n",
              "      --fill-color: #D2E3FC;\n",
              "      --hover-bg-color: #434B5C;\n",
              "      --hover-fill-color: #FFFFFF;\n",
              "      --disabled-bg-color: #3B4455;\n",
              "      --disabled-fill-color: #666;\n",
              "  }\n",
              "\n",
              "  .colab-df-quickchart {\n",
              "    background-color: var(--bg-color);\n",
              "    border: none;\n",
              "    border-radius: 50%;\n",
              "    cursor: pointer;\n",
              "    display: none;\n",
              "    fill: var(--fill-color);\n",
              "    height: 32px;\n",
              "    padding: 0;\n",
              "    width: 32px;\n",
              "  }\n",
              "\n",
              "  .colab-df-quickchart:hover {\n",
              "    background-color: var(--hover-bg-color);\n",
              "    box-shadow: 0 1px 2px rgba(60, 64, 67, 0.3), 0 1px 3px 1px rgba(60, 64, 67, 0.15);\n",
              "    fill: var(--button-hover-fill-color);\n",
              "  }\n",
              "\n",
              "  .colab-df-quickchart-complete:disabled,\n",
              "  .colab-df-quickchart-complete:disabled:hover {\n",
              "    background-color: var(--disabled-bg-color);\n",
              "    fill: var(--disabled-fill-color);\n",
              "    box-shadow: none;\n",
              "  }\n",
              "\n",
              "  .colab-df-spinner {\n",
              "    border: 2px solid var(--fill-color);\n",
              "    border-color: transparent;\n",
              "    border-bottom-color: var(--fill-color);\n",
              "    animation:\n",
              "      spin 1s steps(1) infinite;\n",
              "  }\n",
              "\n",
              "  @keyframes spin {\n",
              "    0% {\n",
              "      border-color: transparent;\n",
              "      border-bottom-color: var(--fill-color);\n",
              "      border-left-color: var(--fill-color);\n",
              "    }\n",
              "    20% {\n",
              "      border-color: transparent;\n",
              "      border-left-color: var(--fill-color);\n",
              "      border-top-color: var(--fill-color);\n",
              "    }\n",
              "    30% {\n",
              "      border-color: transparent;\n",
              "      border-left-color: var(--fill-color);\n",
              "      border-top-color: var(--fill-color);\n",
              "      border-right-color: var(--fill-color);\n",
              "    }\n",
              "    40% {\n",
              "      border-color: transparent;\n",
              "      border-right-color: var(--fill-color);\n",
              "      border-top-color: var(--fill-color);\n",
              "    }\n",
              "    60% {\n",
              "      border-color: transparent;\n",
              "      border-right-color: var(--fill-color);\n",
              "    }\n",
              "    80% {\n",
              "      border-color: transparent;\n",
              "      border-right-color: var(--fill-color);\n",
              "      border-bottom-color: var(--fill-color);\n",
              "    }\n",
              "    90% {\n",
              "      border-color: transparent;\n",
              "      border-bottom-color: var(--fill-color);\n",
              "    }\n",
              "  }\n",
              "</style>\n",
              "\n",
              "  <script>\n",
              "    async function quickchart(key) {\n",
              "      const quickchartButtonEl =\n",
              "        document.querySelector('#' + key + ' button');\n",
              "      quickchartButtonEl.disabled = true;  // To prevent multiple clicks.\n",
              "      quickchartButtonEl.classList.add('colab-df-spinner');\n",
              "      try {\n",
              "        const charts = await google.colab.kernel.invokeFunction(\n",
              "            'suggestCharts', [key], {});\n",
              "      } catch (error) {\n",
              "        console.error('Error during call to suggestCharts:', error);\n",
              "      }\n",
              "      quickchartButtonEl.classList.remove('colab-df-spinner');\n",
              "      quickchartButtonEl.classList.add('colab-df-quickchart-complete');\n",
              "    }\n",
              "    (() => {\n",
              "      let quickchartButtonEl =\n",
              "        document.querySelector('#df-7e1dcee5-c1ab-4216-b68e-18e9de74d97d button');\n",
              "      quickchartButtonEl.style.display =\n",
              "        google.colab.kernel.accessAllowed ? 'block' : 'none';\n",
              "    })();\n",
              "  </script>\n",
              "</div>\n",
              "\n",
              "    </div>\n",
              "  </div>\n"
            ],
            "application/vnd.google.colaboratory.intrinsic+json": {
              "type": "dataframe",
              "variable_name": "reviews_df"
            }
          },
          "metadata": {},
          "execution_count": 52
        }
      ],
      "source": [
        "reviews_df.head()"
      ]
    },
    {
      "cell_type": "code",
      "execution_count": 53,
      "metadata": {
        "id": "SRaI_SbvhYwl",
        "outputId": "9ed91b73-7859-426d-9fc8-60bb3aa52f2b",
        "colab": {
          "base_uri": "https://localhost:8080/"
        }
      },
      "outputs": [
        {
          "output_type": "execute_result",
          "data": {
            "text/plain": [
              "Rating\n",
              "positive    316762\n",
              "negative     97078\n",
              "Name: count, dtype: int64"
            ]
          },
          "metadata": {},
          "execution_count": 53
        }
      ],
      "source": [
        "reviews_df['Rating'].value_counts()"
      ]
    },
    {
      "cell_type": "code",
      "execution_count": 54,
      "metadata": {
        "id": "o2WqnsvIhYwl",
        "outputId": "abe5e30d-f265-421b-dc21-6fa129ebb539",
        "colab": {
          "base_uri": "https://localhost:8080/"
        }
      },
      "outputs": [
        {
          "output_type": "execute_result",
          "data": {
            "text/plain": [
              "(348057, 6)"
            ]
          },
          "metadata": {},
          "execution_count": 54
        }
      ],
      "source": [
        "# dropping duplicate columns.\n",
        "final = reviews_df.drop_duplicates()\n",
        "final.shape"
      ]
    },
    {
      "cell_type": "code",
      "execution_count": 55,
      "metadata": {
        "id": "ZgSGfpMGhYwm",
        "outputId": "38ca21ff-aaa3-4d1f-fb0c-8d2d6cdcff99",
        "colab": {
          "base_uri": "https://localhost:8080/"
        }
      },
      "outputs": [
        {
          "output_type": "execute_result",
          "data": {
            "text/plain": [
              "Rating\n",
              "positive    263142\n",
              "negative     84915\n",
              "Name: count, dtype: int64"
            ]
          },
          "metadata": {},
          "execution_count": 55
        }
      ],
      "source": [
        "final['Rating'].value_counts()"
      ]
    },
    {
      "cell_type": "markdown",
      "metadata": {
        "id": "UYaMPpGkhYwn"
      },
      "source": [
        "After dropping duplicates, we had 263,142 classified as positive and 84,915 classified as negative"
      ]
    },
    {
      "cell_type": "code",
      "execution_count": 56,
      "metadata": {
        "id": "euXO4K-dhYwn",
        "outputId": "570e4282-20db-44c3-876d-39f8e5b25230",
        "colab": {
          "base_uri": "https://localhost:8080/",
          "height": 466
        }
      },
      "outputs": [
        {
          "output_type": "execute_result",
          "data": {
            "text/plain": [
              "<Axes: xlabel='Rating', ylabel='count'>"
            ]
          },
          "metadata": {},
          "execution_count": 56
        },
        {
          "output_type": "display_data",
          "data": {
            "text/plain": [
              "<Figure size 640x480 with 1 Axes>"
            ],
            "image/png": "[encoded data removed]"
          },
          "metadata": {}
        }
      ],
      "source": [
        "sns.countplot(x='Rating', data=final)"
      ]
    },
    {
      "cell_type": "markdown",
      "metadata": {
        "id": "LuULkgYjhYwo"
      },
      "source": [
        "**Text Preprocessing**\n",
        "\n",
        "Removing stopwords."
      ]
    },
    {
      "cell_type": "code",
      "execution_count": 57,
      "metadata": {
        "id": "QjiV89APhYwo",
        "outputId": "de89b994-4530-436e-b230-fe7d46f4ae46",
        "colab": {
          "base_uri": "https://localhost:8080/"
        }
      },
      "outputs": [
        {
          "output_type": "stream",
          "name": "stderr",
          "text": [
            "[nltk_data] Downloading package stopwords to /root/nltk_data...\n",
            "[nltk_data]   Unzipping corpora/stopwords.zip.\n"
          ]
        }
      ],
      "source": [
        "import nltk\n",
        "nltk.download('stopwords')\n",
        "from nltk.corpus import stopwords\n",
        "sno = nltk.stem.SnowballStemmer('english') #initialising the snowball stemmer\n",
        "stop=set(stopwords.words('english'))"
      ]
    },
    {
      "cell_type": "code",
      "execution_count": 58,
      "metadata": {
        "id": "i6LUNC-ZhYwp",
        "outputId": "57a27f61-af37-438f-c96f-dce0ad96ce80",
        "colab": {
          "base_uri": "https://localhost:8080/"
        }
      },
      "outputs": [
        {
          "output_type": "stream",
          "name": "stdout",
          "text": [
            "{'on', \"you'd\", 'then', 'hadn', 'o', \"hadn't\", 'which', 'who', \"you'll\", 'that', 'will', 'few', 'my', 'is', 'more', 'haven', 'ma', 'wouldn', \"it's\", 'themselves', 'in', 'through', 'a', \"mightn't\", 'don', 'd', 'ain', 'being', 'at', 'his', \"shan't\", 'why', 'such', 's', 'only', 'there', 'yourselves', 'aren', 'again', 'too', 'both', 'how', 'if', 'had', 'an', \"don't\", 'under', 'himself', 'any', \"you've\", \"needn't\", 'yourself', 'with', \"couldn't\", 'him', 'other', 'be', \"doesn't\", 'he', \"didn't\", \"isn't\", 'does', 'some', 'the', 'myself', 'm', 'our', 'doesn', 'during', 'shouldn', 'against', 'so', \"she's\", 'she', 'all', 'herself', 'above', 'been', 'into', \"aren't\", 'have', 'but', 'very', 'couldn', 'isn', 'needn', 'has', 'won', 'your', 'll', 'each', 'her', 'mustn', 'now', \"that'll\", 'once', 'or', 'most', 'where', \"should've\", 'just', \"wasn't\", 'between', 'them', 't', 'ourselves', 'doing', 'hers', 'ours', 'were', 'until', 'because', 'having', \"hasn't\", 'mightn', 'same', 'nor', \"haven't\", 'itself', 'their', 'off', 'than', 'its', 'they', 'those', 'did', \"weren't\", 'this', 'y', 'own', 'didn', 'should', 'before', 'below', 'and', \"mustn't\", \"you're\", 'what', 'up', 'me', 'do', 'for', 'we', 'over', 'it', 'by', 'theirs', 'to', 'further', 'out', 'while', 'you', 'from', \"shouldn't\", 'whom', 'i', 've', 'was', 'are', 'of', 'no', \"wouldn't\", 'am', 'yours', 'here', 'these', 'when', 'not', 'hasn', 'weren', 'down', 'about', 'shan', \"won't\", 'after', 'can', 'as', 're', 'wasn'}\n",
            "************************************\n",
            "tasti\n"
          ]
        }
      ],
      "source": [
        "def cleanpunc(sentence): #function to clean the word of any punctuation or special characters\n",
        "    cleaned = re.sub(r'[?|!|\\'|\"|#]',r'',sentence)\n",
        "    cleaned = re.sub(r'[.|,|)|(|\\|/]',r' ',cleaned)\n",
        "    return  cleaned\n",
        "print(stop)\n",
        "print('************************************')\n",
        "print(sno.stem('tasty'))"
      ]
    },
    {
      "cell_type": "code",
      "execution_count": 59,
      "metadata": {
        "id": "RxIIjVRVhYwp",
        "outputId": "4553c4af-d46e-4692-c0ef-a3ba06ed35b2",
        "colab": {
          "base_uri": "https://localhost:8080/"
        }
      },
      "outputs": [
        {
          "output_type": "stream",
          "name": "stderr",
          "text": [
            "<ipython-input-59-9c7e7f3e6944>:1: SettingWithCopyWarning: \n",
            "A value is trying to be set on a copy of a slice from a DataFrame.\n",
            "Try using .loc[row_indexer,col_indexer] = value instead\n",
            "\n",
            "See the caveats in the documentation: https://pandas.pydata.org/pandas-docs/stable/user_guide/indexing.html#returning-a-view-versus-a-copy\n",
            "  final['Reviews'] = final.Reviews.astype('str')\n"
          ]
        }
      ],
      "source": [
        "final['Reviews'] = final.Reviews.astype('str')"
      ]
    },
    {
      "cell_type": "code",
      "execution_count": null,
      "metadata": {
        "id": "iMqYeIa1hYwq"
      },
      "outputs": [],
      "source": [
        "import re\n",
        "i=0\n",
        "str1=' '\n",
        "final_string=[]\n",
        "all_positive_words=[] # store words from +ve reviews here\n",
        "all_negative_words=[] # store words from -ve reviews here.\n",
        "s=''\n",
        "for sent in final['Reviews'].values:\n",
        "    filtered_sentence=[]\n",
        "    #print(sent);\n",
        "    for w in sent.split():\n",
        "        for cleaned_words in cleanpunc(w).split():\n",
        "            if((cleaned_words.isalpha()) & (len(cleaned_words)>2)):\n",
        "                if(cleaned_words.lower() not in stop):\n",
        "                    s=(sno.stem(cleaned_words.lower())).encode('utf8')\n",
        "                    filtered_sentence.append(s)\n",
        "                    if (final['Rating'].values)[i] == 'positive':\n",
        "                        all_positive_words.append(s) #list of all words used to describe positive reviews\n",
        "                    if(final['Rating'].values)[i] == 'negative':\n",
        "                        all_negative_words.append(s) #list of all words used to describe negative reviews reviews\n",
        "                else:\n",
        "                    continue\n",
        "            else:\n",
        "                continue\n",
        "    #print(filtered_sentence)\n",
        "    str1 = b\" \".join(filtered_sentence) #final string of cleaned words\n",
        "    #print(\"***********************************************************************\")\n",
        "\n",
        "    final_string.append(str1)\n",
        "    i+=1"
      ]
    },
    {
      "cell_type": "code",
      "execution_count": null,
      "metadata": {
        "id": "mCn-tc7_hYwr"
      },
      "outputs": [],
      "source": [
        "final['CleanedReview']=final_string #adding a column of CleanedText which displays the data after pre-processing of the review\n",
        "final['CleanedReview']=final['CleanedReview'].str.decode(\"utf-8\")"
      ]
    },
    {
      "cell_type": "code",
      "execution_count": null,
      "metadata": {
        "id": "8pyw9a1_hYws",
        "outputId": "5300ab2f-7d7e-40aa-d276-e963547178cd"
      },
      "outputs": [
        {
          "data": {
            "text/html": [
              "<div>\n",
              "<style scoped>\n",
              "    .dataframe tbody tr th:only-of-type {\n",
              "        vertical-align: middle;\n",
              "    }\n",
              "\n",
              "    .dataframe tbody tr th {\n",
              "        vertical-align: top;\n",
              "    }\n",
              "\n",
              "    .dataframe thead th {\n",
              "        text-align: right;\n",
              "    }\n",
              "</style>\n",
              "<table border=\"1\" class=\"dataframe\">\n",
              "  <thead>\n",
              "    <tr style=\"text-align: right;\">\n",
              "      <th></th>\n",
              "      <th>Product Name</th>\n",
              "      <th>Brand Name</th>\n",
              "      <th>Price</th>\n",
              "      <th>Rating</th>\n",
              "      <th>Reviews</th>\n",
              "      <th>Review Votes</th>\n",
              "      <th>CleanedReview</th>\n",
              "    </tr>\n",
              "  </thead>\n",
              "  <tbody>\n",
              "    <tr>\n",
              "      <th>0</th>\n",
              "      <td>\"CLEAR CLEAN ESN\" Sprint EPIC 4G Galaxy SPH-D7...</td>\n",
              "      <td>Samsung</td>\n",
              "      <td>199.99</td>\n",
              "      <td>positive</td>\n",
              "      <td>I feel so LUCKY to have found this used (phone...</td>\n",
              "      <td>1.0</td>\n",
              "      <td>feel lucki found use phone use hard phone line...</td>\n",
              "    </tr>\n",
              "    <tr>\n",
              "      <th>1</th>\n",
              "      <td>\"CLEAR CLEAN ESN\" Sprint EPIC 4G Galaxy SPH-D7...</td>\n",
              "      <td>Samsung</td>\n",
              "      <td>199.99</td>\n",
              "      <td>positive</td>\n",
              "      <td>nice phone, nice up grade from my pantach revu...</td>\n",
              "      <td>0.0</td>\n",
              "      <td>nice phone nice grade pantach revu clean set e...</td>\n",
              "    </tr>\n",
              "    <tr>\n",
              "      <th>2</th>\n",
              "      <td>\"CLEAR CLEAN ESN\" Sprint EPIC 4G Galaxy SPH-D7...</td>\n",
              "      <td>Samsung</td>\n",
              "      <td>199.99</td>\n",
              "      <td>positive</td>\n",
              "      <td>Very pleased</td>\n",
              "      <td>0.0</td>\n",
              "      <td>pleas</td>\n",
              "    </tr>\n",
              "    <tr>\n",
              "      <th>3</th>\n",
              "      <td>\"CLEAR CLEAN ESN\" Sprint EPIC 4G Galaxy SPH-D7...</td>\n",
              "      <td>Samsung</td>\n",
              "      <td>199.99</td>\n",
              "      <td>positive</td>\n",
              "      <td>It works good but it goes slow sometimes but i...</td>\n",
              "      <td>0.0</td>\n",
              "      <td>work good goe slow sometim good phone love</td>\n",
              "    </tr>\n",
              "    <tr>\n",
              "      <th>4</th>\n",
              "      <td>\"CLEAR CLEAN ESN\" Sprint EPIC 4G Galaxy SPH-D7...</td>\n",
              "      <td>Samsung</td>\n",
              "      <td>199.99</td>\n",
              "      <td>positive</td>\n",
              "      <td>Great phone to replace my lost phone. The only...</td>\n",
              "      <td>0.0</td>\n",
              "      <td>great phone replac lost phone thing volum butt...</td>\n",
              "    </tr>\n",
              "  </tbody>\n",
              "</table>\n",
              "</div>"
            ],
            "text/plain": [
              "                                        Product Name Brand Name   Price  \\\n",
              "0  \"CLEAR CLEAN ESN\" Sprint EPIC 4G Galaxy SPH-D7...    Samsung  199.99   \n",
              "1  \"CLEAR CLEAN ESN\" Sprint EPIC 4G Galaxy SPH-D7...    Samsung  199.99   \n",
              "2  \"CLEAR CLEAN ESN\" Sprint EPIC 4G Galaxy SPH-D7...    Samsung  199.99   \n",
              "3  \"CLEAR CLEAN ESN\" Sprint EPIC 4G Galaxy SPH-D7...    Samsung  199.99   \n",
              "4  \"CLEAR CLEAN ESN\" Sprint EPIC 4G Galaxy SPH-D7...    Samsung  199.99   \n",
              "\n",
              "     Rating                                            Reviews  Review Votes  \\\n",
              "0  positive  I feel so LUCKY to have found this used (phone...           1.0   \n",
              "1  positive  nice phone, nice up grade from my pantach revu...           0.0   \n",
              "2  positive                                       Very pleased           0.0   \n",
              "3  positive  It works good but it goes slow sometimes but i...           0.0   \n",
              "4  positive  Great phone to replace my lost phone. The only...           0.0   \n",
              "\n",
              "                                       CleanedReview  \n",
              "0  feel lucki found use phone use hard phone line...  \n",
              "1  nice phone nice grade pantach revu clean set e...  \n",
              "2                                              pleas  \n",
              "3         work good goe slow sometim good phone love  \n",
              "4  great phone replac lost phone thing volum butt...  "
            ]
          },
          "execution_count": 25,
          "metadata": {},
          "output_type": "execute_result"
        }
      ],
      "source": [
        "final.head()"
      ]
    },
    {
      "cell_type": "markdown",
      "metadata": {
        "id": "2t4YfL8ShYwt"
      },
      "source": [
        "**Clustering**\n",
        "\n",
        "**KMeans using TFDIF**"
      ]
    },
    {
      "cell_type": "code",
      "execution_count": null,
      "metadata": {
        "id": "fqm9rCTEhYwt",
        "outputId": "d2329410-4cd8-4500-86b4-7b42e5b59509"
      },
      "outputs": [
        {
          "data": {
            "text/plain": [
              "(348057, 46655)"
            ]
          },
          "execution_count": 26,
          "metadata": {},
          "output_type": "execute_result"
        }
      ],
      "source": [
        "#tfidf vector initililization\n",
        "from sklearn.feature_extraction.text import TfidfVectorizer\n",
        "tfidf_vect = TfidfVectorizer()\n",
        "tfidf = tfidf_vect.fit_transform(final['CleanedReview'].values)\n",
        "tfidf.shape"
      ]
    },
    {
      "cell_type": "code",
      "execution_count": null,
      "metadata": {
        "id": "kmA3hJNMhYwu",
        "outputId": "563e216a-f6d9-439b-b3bc-2740990918bf"
      },
      "outputs": [
        {
          "data": {
            "text/html": [
              "<style>#sk-container-id-1 {color: black;background-color: white;}#sk-container-id-1 pre{padding: 0;}#sk-container-id-1 div.sk-toggleable {background-color: white;}#sk-container-id-1 label.sk-toggleable__label {cursor: pointer;display: block;width: 100%;margin-bottom: 0;padding: 0.3em;box-sizing: border-box;text-align: center;}#sk-container-id-1 label.sk-toggleable__label-arrow:before {content: \"▸\";float: left;margin-right: 0.25em;color: #696969;}#sk-container-id-1 label.sk-toggleable__label-arrow:hover:before {color: black;}#sk-container-id-1 div.sk-estimator:hover label.sk-toggleable__label-arrow:before {color: black;}#sk-container-id-1 div.sk-toggleable__content {max-height: 0;max-width: 0;overflow: hidden;text-align: left;background-color: #f0f8ff;}#sk-container-id-1 div.sk-toggleable__content pre {margin: 0.2em;color: black;border-radius: 0.25em;background-color: #f0f8ff;}#sk-container-id-1 input.sk-toggleable__control:checked~div.sk-toggleable__content {max-height: 200px;max-width: 100%;overflow: auto;}#sk-container-id-1 input.sk-toggleable__control:checked~label.sk-toggleable__label-arrow:before {content: \"▾\";}#sk-container-id-1 div.sk-estimator input.sk-toggleable__control:checked~label.sk-toggleable__label {background-color: #d4ebff;}#sk-container-id-1 div.sk-label input.sk-toggleable__control:checked~label.sk-toggleable__label {background-color: #d4ebff;}#sk-container-id-1 input.sk-hidden--visually {border: 0;clip: rect(1px 1px 1px 1px);clip: rect(1px, 1px, 1px, 1px);height: 1px;margin: -1px;overflow: hidden;padding: 0;position: absolute;width: 1px;}#sk-container-id-1 div.sk-estimator {font-family: monospace;background-color: #f0f8ff;border: 1px dotted black;border-radius: 0.25em;box-sizing: border-box;margin-bottom: 0.5em;}#sk-container-id-1 div.sk-estimator:hover {background-color: #d4ebff;}#sk-container-id-1 div.sk-parallel-item::after {content: \"\";width: 100%;border-bottom: 1px solid gray;flex-grow: 1;}#sk-container-id-1 div.sk-label:hover label.sk-toggleable__label {background-color: #d4ebff;}#sk-container-id-1 div.sk-serial::before {content: \"\";position: absolute;border-left: 1px solid gray;box-sizing: border-box;top: 0;bottom: 0;left: 50%;z-index: 0;}#sk-container-id-1 div.sk-serial {display: flex;flex-direction: column;align-items: center;background-color: white;padding-right: 0.2em;padding-left: 0.2em;position: relative;}#sk-container-id-1 div.sk-item {position: relative;z-index: 1;}#sk-container-id-1 div.sk-parallel {display: flex;align-items: stretch;justify-content: center;background-color: white;position: relative;}#sk-container-id-1 div.sk-item::before, #sk-container-id-1 div.sk-parallel-item::before {content: \"\";position: absolute;border-left: 1px solid gray;box-sizing: border-box;top: 0;bottom: 0;left: 50%;z-index: -1;}#sk-container-id-1 div.sk-parallel-item {display: flex;flex-direction: column;z-index: 1;position: relative;background-color: white;}#sk-container-id-1 div.sk-parallel-item:first-child::after {align-self: flex-end;width: 50%;}#sk-container-id-1 div.sk-parallel-item:last-child::after {align-self: flex-start;width: 50%;}#sk-container-id-1 div.sk-parallel-item:only-child::after {width: 0;}#sk-container-id-1 div.sk-dashed-wrapped {border: 1px dashed gray;margin: 0 0.4em 0.5em 0.4em;box-sizing: border-box;padding-bottom: 0.4em;background-color: white;}#sk-container-id-1 div.sk-label label {font-family: monospace;font-weight: bold;display: inline-block;line-height: 1.2em;}#sk-container-id-1 div.sk-label-container {text-align: center;}#sk-container-id-1 div.sk-container {/* jupyter's `normalize.less` sets `[hidden] { display: none; }` but bootstrap.min.css set `[hidden] { display: none !important; }` so we also need the `!important` here to be able to override the default hidden behavior on the sphinx rendered scikit-learn.org. See: https://github.com/scikit-learn/scikit-learn/issues/21755 */display: inline-block !important;position: relative;}#sk-container-id-1 div.sk-text-repr-fallback {display: none;}</style><div id=\"sk-container-id-1\" class=\"sk-top-container\"><div class=\"sk-text-repr-fallback\"><pre>KMeans(n_clusters=10, random_state=99)</pre><b>In a Jupyter environment, please rerun this cell to show the HTML representation or trust the notebook. <br />On GitHub, the HTML representation is unable to render, please try loading this page with nbviewer.org.</b></div><div class=\"sk-container\" hidden><div class=\"sk-item\"><div class=\"sk-estimator sk-toggleable\"><input class=\"sk-toggleable__control sk-hidden--visually\" id=\"sk-estimator-id-1\" type=\"checkbox\" checked><label for=\"sk-estimator-id-1\" class=\"sk-toggleable__label sk-toggleable__label-arrow\">KMeans</label><div class=\"sk-toggleable__content\"><pre>KMeans(n_clusters=10, random_state=99)</pre></div></div></div></div></div>"
            ],
            "text/plain": [
              "KMeans(n_clusters=10, random_state=99)"
            ]
          },
          "execution_count": 27,
          "metadata": {},
          "output_type": "execute_result"
        }
      ],
      "source": [
        "from sklearn.cluster import KMeans\n",
        "model_tf = KMeans(n_clusters = 10, random_state=99)\n",
        "model_tf.fit(tfidf)"
      ]
    },
    {
      "cell_type": "code",
      "execution_count": null,
      "metadata": {
        "id": "2Tkgxnc2hYwv"
      },
      "outputs": [],
      "source": [
        "labels_tf = model_tf.labels_\n",
        "cluster_center_tf=model_tf.cluster_centers_"
      ]
    },
    {
      "cell_type": "code",
      "execution_count": null,
      "metadata": {
        "id": "b6Qzx86BhYww",
        "outputId": "f6cdd771-19ce-4cee-e9e8-e32617913d6d"
      },
      "outputs": [
        {
          "data": {
            "text/plain": [
              "array([[7.81048154e-05, 0.00000000e+00, 0.00000000e+00, ...,\n",
              "        0.00000000e+00, 0.00000000e+00, 0.00000000e+00],\n",
              "       [0.00000000e+00, 0.00000000e+00, 0.00000000e+00, ...,\n",
              "        0.00000000e+00, 0.00000000e+00, 0.00000000e+00],\n",
              "       [0.00000000e+00, 0.00000000e+00, 0.00000000e+00, ...,\n",
              "        0.00000000e+00, 0.00000000e+00, 0.00000000e+00],\n",
              "       ...,\n",
              "       [1.52609659e-05, 0.00000000e+00, 0.00000000e+00, ...,\n",
              "        0.00000000e+00, 6.63132847e-05, 0.00000000e+00],\n",
              "       [1.76405300e-04, 1.74077138e-06, 1.23118805e-05, ...,\n",
              "        3.31376583e-06, 2.99606702e-06, 7.23402883e-06],\n",
              "       [0.00000000e+00, 0.00000000e+00, 0.00000000e+00, ...,\n",
              "        0.00000000e+00, 0.00000000e+00, 0.00000000e+00]])"
            ]
          },
          "execution_count": 29,
          "metadata": {},
          "output_type": "execute_result"
        }
      ],
      "source": [
        "cluster_center_tf"
      ]
    },
    {
      "cell_type": "code",
      "execution_count": null,
      "metadata": {
        "id": "151F5L8QhYwx",
        "outputId": "627053da-8dab-4164-cddc-15265e9bc753"
      },
      "outputs": [
        {
          "name": "stderr",
          "output_type": "stream",
          "text": [
            "C:\\Users\\Admin\\AppData\\Local\\Programs\\Python\\Python311\\Lib\\site-packages\\sklearn\\utils\\deprecation.py:87: FutureWarning: Function get_feature_names is deprecated; get_feature_names is deprecated in 1.0 and will be removed in 1.2. Please use get_feature_names_out instead.\n",
            "  warnings.warn(msg, category=FutureWarning)\n"
          ]
        }
      ],
      "source": [
        "# to understand what kind of words generated as columns by BOW\n",
        "terms1 = tfidf_vect.get_feature_names()"
      ]
    },
    {
      "cell_type": "code",
      "execution_count": null,
      "metadata": {
        "id": "neRaqqB8hYwx",
        "outputId": "71d47fbd-7e7b-432f-fa7a-66ad4616c43f"
      },
      "outputs": [
        {
          "data": {
            "text/plain": [
              "['aaaa',\n",
              " 'aaaaa',\n",
              " 'aaaaaa',\n",
              " 'aaaaaaaa',\n",
              " 'aaaaaaamaz',\n",
              " 'aaaaaand',\n",
              " 'aaaaargh',\n",
              " 'aaaaaw',\n",
              " 'aaaalll']"
            ]
          },
          "execution_count": 31,
          "metadata": {},
          "output_type": "execute_result"
        }
      ],
      "source": [
        "terms1[1:10]"
      ]
    },
    {
      "cell_type": "code",
      "execution_count": null,
      "metadata": {
        "id": "SGn64kNChYwy"
      },
      "outputs": [],
      "source": [
        "from sklearn import metrics\n",
        "silhouette_score_tf = metrics.silhouette_score(tfidf, labels_tf, metric='euclidean')"
      ]
    },
    {
      "cell_type": "code",
      "execution_count": null,
      "metadata": {
        "id": "eX_JddlPhYwy"
      },
      "outputs": [],
      "source": [
        "silhouette_score_tf"
      ]
    },
    {
      "cell_type": "code",
      "execution_count": null,
      "metadata": {
        "id": "L1OshG8jhYwy"
      },
      "outputs": [],
      "source": [
        "df = final.copy()"
      ]
    },
    {
      "cell_type": "code",
      "execution_count": null,
      "metadata": {
        "id": "0W_SUE0vhYwz",
        "outputId": "275df1eb-380e-4826-efd7-8b905c541593"
      },
      "outputs": [
        {
          "data": {
            "text/html": [
              "<div>\n",
              "<style scoped>\n",
              "    .dataframe tbody tr th:only-of-type {\n",
              "        vertical-align: middle;\n",
              "    }\n",
              "\n",
              "    .dataframe tbody tr th {\n",
              "        vertical-align: top;\n",
              "    }\n",
              "\n",
              "    .dataframe thead th {\n",
              "        text-align: right;\n",
              "    }\n",
              "</style>\n",
              "<table border=\"1\" class=\"dataframe\">\n",
              "  <thead>\n",
              "    <tr style=\"text-align: right;\">\n",
              "      <th></th>\n",
              "      <th>Product Name</th>\n",
              "      <th>Brand Name</th>\n",
              "      <th>Price</th>\n",
              "      <th>Rating</th>\n",
              "      <th>Reviews</th>\n",
              "      <th>Review Votes</th>\n",
              "      <th>CleanedReview</th>\n",
              "      <th>Tfidf Clus Label</th>\n",
              "    </tr>\n",
              "  </thead>\n",
              "  <tbody>\n",
              "    <tr>\n",
              "      <th>0</th>\n",
              "      <td>\"CLEAR CLEAN ESN\" Sprint EPIC 4G Galaxy SPH-D7...</td>\n",
              "      <td>Samsung</td>\n",
              "      <td>199.99</td>\n",
              "      <td>positive</td>\n",
              "      <td>I feel so LUCKY to have found this used (phone...</td>\n",
              "      <td>1.0</td>\n",
              "      <td>feel lucki found use phone use hard phone line...</td>\n",
              "      <td>5</td>\n",
              "    </tr>\n",
              "    <tr>\n",
              "      <th>1</th>\n",
              "      <td>\"CLEAR CLEAN ESN\" Sprint EPIC 4G Galaxy SPH-D7...</td>\n",
              "      <td>Samsung</td>\n",
              "      <td>199.99</td>\n",
              "      <td>positive</td>\n",
              "      <td>nice phone, nice up grade from my pantach revu...</td>\n",
              "      <td>0.0</td>\n",
              "      <td>nice phone nice grade pantach revu clean set e...</td>\n",
              "      <td>5</td>\n",
              "    </tr>\n",
              "    <tr>\n",
              "      <th>2</th>\n",
              "      <td>\"CLEAR CLEAN ESN\" Sprint EPIC 4G Galaxy SPH-D7...</td>\n",
              "      <td>Samsung</td>\n",
              "      <td>199.99</td>\n",
              "      <td>positive</td>\n",
              "      <td>Very pleased</td>\n",
              "      <td>0.0</td>\n",
              "      <td>pleas</td>\n",
              "      <td>8</td>\n",
              "    </tr>\n",
              "    <tr>\n",
              "      <th>3</th>\n",
              "      <td>\"CLEAR CLEAN ESN\" Sprint EPIC 4G Galaxy SPH-D7...</td>\n",
              "      <td>Samsung</td>\n",
              "      <td>199.99</td>\n",
              "      <td>positive</td>\n",
              "      <td>It works good but it goes slow sometimes but i...</td>\n",
              "      <td>0.0</td>\n",
              "      <td>work good goe slow sometim good phone love</td>\n",
              "      <td>4</td>\n",
              "    </tr>\n",
              "    <tr>\n",
              "      <th>4</th>\n",
              "      <td>\"CLEAR CLEAN ESN\" Sprint EPIC 4G Galaxy SPH-D7...</td>\n",
              "      <td>Samsung</td>\n",
              "      <td>199.99</td>\n",
              "      <td>positive</td>\n",
              "      <td>Great phone to replace my lost phone. The only...</td>\n",
              "      <td>0.0</td>\n",
              "      <td>great phone replac lost phone thing volum butt...</td>\n",
              "      <td>5</td>\n",
              "    </tr>\n",
              "  </tbody>\n",
              "</table>\n",
              "</div>"
            ],
            "text/plain": [
              "                                        Product Name Brand Name   Price  \\\n",
              "0  \"CLEAR CLEAN ESN\" Sprint EPIC 4G Galaxy SPH-D7...    Samsung  199.99   \n",
              "1  \"CLEAR CLEAN ESN\" Sprint EPIC 4G Galaxy SPH-D7...    Samsung  199.99   \n",
              "2  \"CLEAR CLEAN ESN\" Sprint EPIC 4G Galaxy SPH-D7...    Samsung  199.99   \n",
              "3  \"CLEAR CLEAN ESN\" Sprint EPIC 4G Galaxy SPH-D7...    Samsung  199.99   \n",
              "4  \"CLEAR CLEAN ESN\" Sprint EPIC 4G Galaxy SPH-D7...    Samsung  199.99   \n",
              "\n",
              "     Rating                                            Reviews  Review Votes  \\\n",
              "0  positive  I feel so LUCKY to have found this used (phone...           1.0   \n",
              "1  positive  nice phone, nice up grade from my pantach revu...           0.0   \n",
              "2  positive                                       Very pleased           0.0   \n",
              "3  positive  It works good but it goes slow sometimes but i...           0.0   \n",
              "4  positive  Great phone to replace my lost phone. The only...           0.0   \n",
              "\n",
              "                                       CleanedReview  Tfidf Clus Label  \n",
              "0  feel lucki found use phone use hard phone line...                 5  \n",
              "1  nice phone nice grade pantach revu clean set e...                 5  \n",
              "2                                              pleas                 8  \n",
              "3         work good goe slow sometim good phone love                 4  \n",
              "4  great phone replac lost phone thing volum butt...                 5  "
            ]
          },
          "execution_count": 33,
          "metadata": {},
          "output_type": "execute_result"
        }
      ],
      "source": [
        "# Giving Labels/assigning a cluster to each point/text\n",
        "df1 = df.copy()\n",
        "df1['Tfidf Clus Label'] = model_tf.labels_\n",
        "df1.head(5)"
      ]
    },
    {
      "cell_type": "code",
      "execution_count": null,
      "metadata": {
        "id": "KobTNz-xhYwz",
        "outputId": "3fdd0910-a77a-414e-b0c3-c68d350972cb"
      },
      "outputs": [
        {
          "data": {
            "text/plain": [
              "Tfidf Clus Label\n",
              "0     10422\n",
              "1     11061\n",
              "2      9299\n",
              "3      9542\n",
              "4     11007\n",
              "5    120307\n",
              "6      5965\n",
              "7     37952\n",
              "8    126310\n",
              "9      6192\n",
              "Name: Reviews, dtype: int64"
            ]
          },
          "execution_count": 36,
          "metadata": {},
          "output_type": "execute_result"
        }
      ],
      "source": [
        "# How many points belong to each cluster -> using group by in pandas\n",
        "df.groupby(['Tfidf Clus Label'])['Reviews'].count()"
      ]
    },
    {
      "cell_type": "code",
      "execution_count": null,
      "metadata": {
        "id": "ieimGqnuhYw0",
        "outputId": "ace5edc2-2d2d-4a52-c5ed-d8ead761ff98"
      },
      "outputs": [
        {
          "data": {
            "image/png": "[encoded data removed]",
            "text/plain": [
              "<Figure size 640x480 with 1 Axes>"
            ]
          },
          "metadata": {},
          "output_type": "display_data"
        }
      ],
      "source": [
        "# visually how points or reviews are distributed across 10 clusters\n",
        "import matplotlib.pyplot as plt\n",
        "\n",
        "plt.bar([x for x in range(10)], df1.groupby(['Tfidf Clus Label'])['Reviews'].count(), alpha = 0.4)\n",
        "plt.title('KMeans cluster points')\n",
        "plt.xlabel(\"Cluster number\")\n",
        "plt.ylabel(\"Number of points\")\n",
        "plt.show()"
      ]
    },
    {
      "cell_type": "code",
      "execution_count": null,
      "metadata": {
        "id": "1AXlCoNshYw0",
        "outputId": "e08438ee-63cb-4c81-ba5e-b5131c23bf08"
      },
      "outputs": [
        {
          "name": "stdout",
          "output_type": "stream",
          "text": [
            "4 review of assigned to cluster  0\n",
            "----------------------------------------------------------------------\n",
            "Very good\n",
            "\n",
            "\n",
            "EXCELLENT\n",
            "\n",
            "\n",
            "This phone just didnt hold up to my expectations of what I thought it would be. There's a lot wrong with it\n",
            "\n",
            "\n",
            "______________________________________________________________________\n",
            "4 review of assigned to cluster  1\n",
            "----------------------------------------------------------------------\n",
            "It was a gift for my Grandma in South America and she loved it thanks!\n",
            "\n",
            "\n",
            "I'm not a fan of touchscreen phones but when my trusted Nokia E71 gave up the ghost, I had to make that transition. This phone meets my needs. Nothing fancy, very nice size - fits perfectly in my palm - and I can finally download \"Whatsapp\". My siblings and friends have teased me to no end about not having a smartphone to download the app.I'm really not into specs but my husband, who is techy, took a look at the description and confirmed it would be perfect for my needs. I've had it for 4 days now and so far so good. Will update the review if anything changes. And I love the purple color.\n",
            "\n",
            "\n",
            "This seems to be a great little phone.When I saw it would cost $700 to get a new Samsung to replace my old S3, I shopped around. I bought the Alcatel Idol 3 (4.7\") from Amazon and after a week am pretty much thrilled at how well it works.The setup had some bumps for me because my cloud files were not up to date. My advice here is to update your contacts, files (including downloads), and pictures before cluttering the new phone with junk So don't log in to your Google acount (yes, even just for email) until stuff is updated and synch'ed up on the old phone.Also, perhaps because the Alcatel phone is \"unlocked\" and is not a service provider's proprietary device, it does not wake up in your hand knowing how to handle internet data. When you enter an in-range WiFi password, the Internet will work fine. To get it to work when you do NOT have WiFi, you will need to setup the mobile networks. This might be as easy as selecting your; provider in settings:(wireless networks - more - mobile networks - access point names - and then either select yourprovider.) You might need to enter the info manually if your provider is not listed. I found listings online by searching for \"AT&T Alcatel APN settings\" but didn't need it because my carrier is AT&T and there was a preconfigured choice as I described earlier.The \"unlocked\" feature is great because it means the phone works with SIM chips from any provider. So if I switch from AT&T to Verizon, Sprint, or any other service provider, this phone will work instantly as soon as I insert the chip. Also, if I travel to a foreign country -- in addition to being able to function on multiple networks --, I will be able to buy a chip for any country and put it into my own phone. If you have travelled, you know what I am talking about. Using your own phone is wonderful in foreign countries.NOTE: My phone accepted a memory chip in addition to the SIM; I see you CAN get a dual SIM option; which I do not understand. The little chip carrier can removed by pushing a paper clip into the tiny hole on the left side of the phone. The little tray slides all the way out. The chips do not fit snugly, but must be sort of balanced or set carefully and then inserted gently. I was actually surprised when it worked because the whole process seemed to require more faith than skill. The phone is so small and compact, it is easy to forgive this space saving compromise.I haven't compared the camera, but it seems fine. I got accustomed to popping the back off my Samsung and just dropping in a newly charged battery, but the Alcatel is sealed. I guess if the battery dies I will need to send it in for service or just replace the whole thing.In general, I think there are enough good reasons to give this phone a try and it is a low risk. Alcatel also makes a 5.5\" phone, so if you want a bigger unit, it's an option.I know this sounds almost evangelical, but I do pay attention to details. Seems like a winner to me.\n",
            "\n",
            "\n",
            "______________________________________________________________________\n",
            "4 review of assigned to cluster  2\n",
            "----------------------------------------------------------------------\n",
            "the sim card dose not read so what the point selling a tablet /phone that don't work\n",
            "\n",
            "\n",
            "Great phon..... luv it\n",
            "\n",
            "\n",
            "Love It\n",
            "\n",
            "\n",
            "______________________________________________________________________\n",
            "4 review of assigned to cluster  3\n",
            "----------------------------------------------------------------------\n",
            "Does the job but just barely\n",
            "\n",
            "\n",
            "good phone with a top hardware and relative low price.\n",
            "\n",
            "\n",
            "I own one that I bought through dealextreme and it has been working really well, So many drops it has had that I don't remember, and that is the main reason why I am buying it again since I am quite clumsy with holding cells. Secondly, I think this cel is quite fast for the price, even though picture quality is not as great to pair it with my high def cameras, but just to point and click is ok. Hope it would come with more memory, but I could not complain since I the price seems to be right.\n",
            "\n",
            "\n",
            "______________________________________________________________________\n",
            "4 review of assigned to cluster  4\n",
            "----------------------------------------------------------------------\n",
            "Its great for the price but I hate how you can not change the lock screen to what you wantAnd just has the default wallpapers for your lockscreen\n",
            "\n",
            "\n",
            "I hate it!!!! I will be sending it back. It keeps blinking on and off. I want my refund back!\n",
            "\n",
            "\n",
            "I am still getting used to it. It is unlocked but It was not rooted. It is subject to annoying \"GSM Buzz\" near my radio/TV/speakers. I like the dual SIM slots. I use one plan for voice and another for data/text. Or you can use each SIM for different countries services when travelling. The manual and warranty is in Chinese, but it's easy to figure out. It's a phone: Insert battery, Insert SIM, insert micro SD, insert charger cable, charge, tap on Settings. That's pretty much what a quick-start guide will say.The ear buds are cheap. So buy your own ear buds.\n",
            "\n",
            "\n",
            "______________________________________________________________________\n",
            "4 review of assigned to cluster  5\n",
            "----------------------------------------------------------------------\n",
            "Phone looks good but wouldn't stay charged, had to buy new battery. Still couldn't stay charged long.so I trashed it.MONEY lost, never again will I buy from this person! !!!\n",
            "\n",
            "\n",
            "I was able to get the phone I previously owned...with a keyboard and touch screen. It's the best phone and I love it. I still had to clean the device with my service provider, but it was well worth it.\n",
            "\n",
            "\n",
            "One of the phones have a bad charger port. I want to send it back\n",
            "\n",
            "\n",
            "______________________________________________________________________\n",
            "4 review of assigned to cluster  6\n",
            "----------------------------------------------------------------------\n",
            "excellent\n",
            "\n",
            "\n",
            "The wife likes her new phone.\n",
            "\n",
            "\n",
            "This item arrived on time, and looked great, it just didn't work. I couldn't even turn it on! Seriously I sat there for maybe 15 minutes looking at the frozen start-up screen hoping it would pass. Then, when I went to exchange it for a working one they tell me 'I see you placed this order with our subsidiary Warehouse Deals. With Warehouse Deals' inventory constantly changing, we're unable to replace your order.'So now, I have to find a printer to print out the return label, wait for it to get there, THEN wait 3-5 bussiness days for the money to get back. Don't even bother.\n",
            "\n",
            "\n",
            "______________________________________________________________________\n",
            "4 review of assigned to cluster  7\n",
            "----------------------------------------------------------------------\n",
            "phone works great for the price although when we got it by UPS the UPS guy just dropped it between the screen door and our big door\n",
            "\n",
            "\n",
            "I bought this phone for my 91 year old aunt. It seems very easy for to use. Would certainly recommend it. Purchased another brand senior phone same price that didn't last 2 weeks due to quality of phone screen\n",
            "\n",
            "\n",
            "They are wonderful. got them for my son as he tends to break them. now we have extras without going through hassle of ordering again!!! thanks for that, that rates 5 stars.\n",
            "\n",
            "\n",
            "______________________________________________________________________\n",
            "4 review of assigned to cluster  8\n",
            "----------------------------------------------------------------------\n",
            "the reasons for the 3 star rating was it was in my opinion better than my iphone 4s but it tends to randomly crash, and randomly power off but it is good for storage space, battery usage, and camera\n",
            "\n",
            "\n",
            "very good\n",
            "\n",
            "\n",
            "GRACIAS ME LLEGO EL PROCTO QUE COMPRE Y LLEVO EN EL MOMENTO INDICADO Y EN UN BUEN ENVALAJE LO RECOMIENDO SASTIFACTORIAMENTE..\n",
            "\n",
            "\n",
            "______________________________________________________________________\n",
            "4 review of assigned to cluster  9\n",
            "----------------------------------------------------------------------\n"
          ]
        },
        {
          "name": "stdout",
          "output_type": "stream",
          "text": [
            "sucks\n",
            "\n",
            "\n",
            "This is my first Android phone. I've only had iPhones up till now but my 4S is starting to show it's age so instead of spending well over $700 for the iPhone 5C I decided to try out Android because I have a Nexus 7 and like it.This Lenovo A850 had the specs I was looking for and the feedback that convinced me to try it out especially since it only cost a little under $160 on Amazon including shipping.Yeah I had to wait for it to be delivered from China but it didn't take all that long. It did have it's caveats like only 4GB memory storage and 2 of that was a MicroSD card, but after swapping it for a 32GB card and flashing it with a cleaner version of Lenovo's iteration of Android 4.2.2, I'm really enjoying the power and responsiveness of this Mediatek processor. The 1GB of RAM seems ample for my general use but I've watched videos of decent gameing handled by it as well. I also like the battery life but that didn't stop me from buying an extra battery and battery charger since I can just swap out batteries making it never really needing to sit and charge unless I want to.Bottom line is if you know your way around Android even if your just a novice like me, you're gonna really like this phone! Just keep your expectations equal to the price you're paying.\n",
            "\n",
            "\n",
            "incdredible phone like the S3 or S4 mini its so fast and handle\n",
            "\n",
            "\n",
            "______________________________________________________________________\n"
          ]
        }
      ],
      "source": [
        "# Reading a review which belong to each group.\n",
        "for i in range(10):\n",
        "    print(\"4 review of assigned to cluster \", i)\n",
        "    print(\"-\" * 70)\n",
        "    print(df1.iloc[df1.groupby(['Tfidf Clus Label']).groups[i][5]]['Reviews'])\n",
        "    print('\\n')\n",
        "    print(df1.iloc[df1.groupby(['Tfidf Clus Label']).groups[i][10]]['Reviews'])\n",
        "    print('\\n')\n",
        "    print(df1.iloc[df1.groupby(['Tfidf Clus Label']).groups[i][20]]['Reviews'])\n",
        "    print('\\n')\n",
        "    print(\"_\" * 70)"
      ]
    },
    {
      "cell_type": "markdown",
      "metadata": {
        "id": "tVu-1rnyhYw1"
      },
      "source": [
        "Cluster 9 accounts to more than 12,000 reviews which is the highest compared to the other clusters."
      ]
    },
    {
      "cell_type": "markdown",
      "metadata": {
        "id": "8zTqZO-LhYw2"
      },
      "source": [
        "**Word2Vec**"
      ]
    },
    {
      "cell_type": "code",
      "execution_count": null,
      "metadata": {
        "id": "8Cn9oq_yhYw2"
      },
      "outputs": [],
      "source": [
        "i=0\n",
        "list_of_sent=[]\n",
        "for sent in final['CleanedReview'].values:\n",
        "    list_of_sent.append(sent.split())"
      ]
    },
    {
      "cell_type": "code",
      "execution_count": null,
      "metadata": {
        "id": "A-ueGNLQhYw3",
        "outputId": "e322e6f3-b86e-4482-cb40-7d65f5509fa4"
      },
      "outputs": [
        {
          "name": "stdout",
          "output_type": "stream",
          "text": [
            "feel lucki found use phone use hard phone line someon upgrad sold one son like old one final fell apart year didnt want upgrad thank seller realli appreci honesti said use phone recommend seller high would\n",
            "*****************************************************************\n",
            "['feel', 'lucki', 'found', 'use', 'phone', 'use', 'hard', 'phone', 'line', 'someon', 'upgrad', 'sold', 'one', 'son', 'like', 'old', 'one', 'final', 'fell', 'apart', 'year', 'didnt', 'want', 'upgrad', 'thank', 'seller', 'realli', 'appreci', 'honesti', 'said', 'use', 'phone', 'recommend', 'seller', 'high', 'would']\n"
          ]
        }
      ],
      "source": [
        "print(final['CleanedReview'].values[0])\n",
        "print(\"*****************************************************************\")\n",
        "print(list_of_sent[0])"
      ]
    },
    {
      "cell_type": "code",
      "execution_count": null,
      "metadata": {
        "id": "TedWLLDVhYw3"
      },
      "outputs": [],
      "source": [
        "def cleanpunc(sentence): #function to clean the word of any punctuation or special characters\n",
        "    cleaned = re.sub(r'[?|!|\\'|\"|#]',r'',sentence)\n",
        "    cleaned = re.sub(r'[.|,|)|(|\\|/]',r' ',cleaned)\n",
        "    return  cleaned"
      ]
    },
    {
      "cell_type": "code",
      "execution_count": null,
      "metadata": {
        "id": "5Dc_dMQMhYw3"
      },
      "outputs": [],
      "source": [
        "i=0\n",
        "list_of_sent_train=[]\n",
        "for sent in final['CleanedReview'].values:\n",
        "    filtered_sentence=[]\n",
        "    for w in sent.split():\n",
        "        for cleaned_words in cleanpunc(w).split():\n",
        "            if(cleaned_words.isalpha()):\n",
        "                filtered_sentence.append(cleaned_words.lower())\n",
        "            else:\n",
        "                continue\n",
        "    list_of_sent_train.append(filtered_sentence)"
      ]
    },
    {
      "cell_type": "code",
      "execution_count": null,
      "metadata": {
        "id": "gMCD3VHNhYw4"
      },
      "outputs": [],
      "source": [
        "import gensim\n",
        "# Training the word2vec model using train dataset\n",
        "w2v_model = gensim.models.Word2Vec(list_of_sent_train, vector_size=100, workers=4)"
      ]
    },
    {
      "cell_type": "code",
      "execution_count": null,
      "metadata": {
        "id": "01ctG4L2hYw4",
        "outputId": "a06ee1fa-31ec-4c3c-d946-fd90a9161dfc"
      },
      "outputs": [
        {
          "name": "stderr",
          "output_type": "stream",
          "text": [
            "C:\\Users\\Admin\\AppData\\Local\\Temp\\ipykernel_10804\\2068892558.py:13: RuntimeWarning: invalid value encountered in divide\n",
            "  sent_vec /= cnt_words\n"
          ]
        },
        {
          "data": {
            "text/plain": [
              "(348057, 100)"
            ]
          },
          "execution_count": 44,
          "metadata": {},
          "output_type": "execute_result"
        }
      ],
      "source": [
        "import numpy as np\n",
        "sent_vectors = []; # the avg-w2v for each sentence/review is stored in this train\n",
        "for sent in list_of_sent_train: # for each review/sentence\n",
        "    sent_vec = np.zeros(100) # as word vectors are of zero length\n",
        "    cnt_words =0; # num of words with a valid vector in the sentence/review\n",
        "    for word in sent: # for each word in a review/sentence\n",
        "        try:\n",
        "            vec = w2v_model.wv[word]\n",
        "            sent_vec += vec\n",
        "            cnt_words += 1\n",
        "        except:\n",
        "            pass\n",
        "    sent_vec /= cnt_words\n",
        "    sent_vectors.append(sent_vec)\n",
        "sent_vectors = np.array(sent_vectors)\n",
        "sent_vectors = np.nan_to_num(sent_vectors)\n",
        "sent_vectors.shape"
      ]
    },
    {
      "cell_type": "markdown",
      "metadata": {
        "id": "OC1I8ptAhYw5"
      },
      "source": [
        "**K Means using Average Word2Vec**"
      ]
    },
    {
      "cell_type": "code",
      "execution_count": null,
      "metadata": {
        "id": "VjF5eETbhYw5",
        "outputId": "3c682236-a84c-4a7f-d6c6-ef2b9fb94696"
      },
      "outputs": [
        {
          "data": {
            "text/plain": [
              "[3, 4, 5, 6, 7, 8, 9, 10]"
            ]
          },
          "execution_count": 45,
          "metadata": {},
          "output_type": "execute_result"
        }
      ],
      "source": [
        "# Number of clusters to check.\n",
        "num_clus = [x for x in range(3,11)]\n",
        "num_clus"
      ]
    },
    {
      "cell_type": "code",
      "execution_count": null,
      "metadata": {
        "id": "jAwaQUZrhYw6",
        "outputId": "c9b28004-842e-4228-8d11-7553808736b6"
      },
      "outputs": [
        {
          "data": {
            "image/png": "[encoded data removed]",
            "text/plain": [
              "<Figure size 640x480 with 1 Axes>"
            ]
          },
          "metadata": {},
          "output_type": "display_data"
        },
        {
          "name": "stdout",
          "output_type": "stream",
          "text": [
            "The optimal number of clusters obtained is -  9\n",
            "The loss for optimal cluster is -  8509852.033471411\n"
          ]
        }
      ],
      "source": [
        "# Choosing the best cluster using Elbow Method.\n",
        "squared_errors = []\n",
        "for cluster in num_clus:\n",
        "    kmeans = KMeans(n_clusters = cluster).fit(sent_vectors) # Train Cluster\n",
        "    squared_errors.append(kmeans.inertia_) # Appending the squared loss obtained in the list\n",
        "\n",
        "optimal_clusters = np.argmin(squared_errors) + 2 # As argmin return the index of minimum loss.\n",
        "plt.plot(num_clus, squared_errors)\n",
        "plt.title(\"Elbow Curve to find the no. of clusters.\")\n",
        "plt.xlabel(\"Number of clusters.\")\n",
        "plt.ylabel(\"Squared Loss.\")\n",
        "xy = (optimal_clusters, min(squared_errors))\n",
        "plt.annotate('(%s, %s)' % xy, xy = xy, textcoords='data')\n",
        "plt.show()\n",
        "\n",
        "print (\"The optimal number of clusters obtained is - \", optimal_clusters)\n",
        "print (\"The loss for optimal cluster is - \", min(squared_errors))"
      ]
    },
    {
      "cell_type": "code",
      "execution_count": null,
      "metadata": {
        "id": "V6F0kPhShYw7",
        "outputId": "edffe64c-96fa-4c33-a324-170b99f07e08"
      },
      "outputs": [
        {
          "data": {
            "text/html": [
              "<style>#sk-container-id-2 {color: black;background-color: white;}#sk-container-id-2 pre{padding: 0;}#sk-container-id-2 div.sk-toggleable {background-color: white;}#sk-container-id-2 label.sk-toggleable__label {cursor: pointer;display: block;width: 100%;margin-bottom: 0;padding: 0.3em;box-sizing: border-box;text-align: center;}#sk-container-id-2 label.sk-toggleable__label-arrow:before {content: \"▸\";float: left;margin-right: 0.25em;color: #696969;}#sk-container-id-2 label.sk-toggleable__label-arrow:hover:before {color: black;}#sk-container-id-2 div.sk-estimator:hover label.sk-toggleable__label-arrow:before {color: black;}#sk-container-id-2 div.sk-toggleable__content {max-height: 0;max-width: 0;overflow: hidden;text-align: left;background-color: #f0f8ff;}#sk-container-id-2 div.sk-toggleable__content pre {margin: 0.2em;color: black;border-radius: 0.25em;background-color: #f0f8ff;}#sk-container-id-2 input.sk-toggleable__control:checked~div.sk-toggleable__content {max-height: 200px;max-width: 100%;overflow: auto;}#sk-container-id-2 input.sk-toggleable__control:checked~label.sk-toggleable__label-arrow:before {content: \"▾\";}#sk-container-id-2 div.sk-estimator input.sk-toggleable__control:checked~label.sk-toggleable__label {background-color: #d4ebff;}#sk-container-id-2 div.sk-label input.sk-toggleable__control:checked~label.sk-toggleable__label {background-color: #d4ebff;}#sk-container-id-2 input.sk-hidden--visually {border: 0;clip: rect(1px 1px 1px 1px);clip: rect(1px, 1px, 1px, 1px);height: 1px;margin: -1px;overflow: hidden;padding: 0;position: absolute;width: 1px;}#sk-container-id-2 div.sk-estimator {font-family: monospace;background-color: #f0f8ff;border: 1px dotted black;border-radius: 0.25em;box-sizing: border-box;margin-bottom: 0.5em;}#sk-container-id-2 div.sk-estimator:hover {background-color: #d4ebff;}#sk-container-id-2 div.sk-parallel-item::after {content: \"\";width: 100%;border-bottom: 1px solid gray;flex-grow: 1;}#sk-container-id-2 div.sk-label:hover label.sk-toggleable__label {background-color: #d4ebff;}#sk-container-id-2 div.sk-serial::before {content: \"\";position: absolute;border-left: 1px solid gray;box-sizing: border-box;top: 0;bottom: 0;left: 50%;z-index: 0;}#sk-container-id-2 div.sk-serial {display: flex;flex-direction: column;align-items: center;background-color: white;padding-right: 0.2em;padding-left: 0.2em;position: relative;}#sk-container-id-2 div.sk-item {position: relative;z-index: 1;}#sk-container-id-2 div.sk-parallel {display: flex;align-items: stretch;justify-content: center;background-color: white;position: relative;}#sk-container-id-2 div.sk-item::before, #sk-container-id-2 div.sk-parallel-item::before {content: \"\";position: absolute;border-left: 1px solid gray;box-sizing: border-box;top: 0;bottom: 0;left: 50%;z-index: -1;}#sk-container-id-2 div.sk-parallel-item {display: flex;flex-direction: column;z-index: 1;position: relative;background-color: white;}#sk-container-id-2 div.sk-parallel-item:first-child::after {align-self: flex-end;width: 50%;}#sk-container-id-2 div.sk-parallel-item:last-child::after {align-self: flex-start;width: 50%;}#sk-container-id-2 div.sk-parallel-item:only-child::after {width: 0;}#sk-container-id-2 div.sk-dashed-wrapped {border: 1px dashed gray;margin: 0 0.4em 0.5em 0.4em;box-sizing: border-box;padding-bottom: 0.4em;background-color: white;}#sk-container-id-2 div.sk-label label {font-family: monospace;font-weight: bold;display: inline-block;line-height: 1.2em;}#sk-container-id-2 div.sk-label-container {text-align: center;}#sk-container-id-2 div.sk-container {/* jupyter's `normalize.less` sets `[hidden] { display: none; }` but bootstrap.min.css set `[hidden] { display: none !important; }` so we also need the `!important` here to be able to override the default hidden behavior on the sphinx rendered scikit-learn.org. See: https://github.com/scikit-learn/scikit-learn/issues/21755 */display: inline-block !important;position: relative;}#sk-container-id-2 div.sk-text-repr-fallback {display: none;}</style><div id=\"sk-container-id-2\" class=\"sk-top-container\"><div class=\"sk-text-repr-fallback\"><pre>KMeans(n_clusters=9)</pre><b>In a Jupyter environment, please rerun this cell to show the HTML representation or trust the notebook. <br />On GitHub, the HTML representation is unable to render, please try loading this page with nbviewer.org.</b></div><div class=\"sk-container\" hidden><div class=\"sk-item\"><div class=\"sk-estimator sk-toggleable\"><input class=\"sk-toggleable__control sk-hidden--visually\" id=\"sk-estimator-id-2\" type=\"checkbox\" checked><label for=\"sk-estimator-id-2\" class=\"sk-toggleable__label sk-toggleable__label-arrow\">KMeans</label><div class=\"sk-toggleable__content\"><pre>KMeans(n_clusters=9)</pre></div></div></div></div></div>"
            ],
            "text/plain": [
              "KMeans(n_clusters=9)"
            ]
          },
          "execution_count": 47,
          "metadata": {},
          "output_type": "execute_result"
        }
      ],
      "source": [
        "# Training the best model --\n",
        "from sklearn.cluster import KMeans\n",
        "model2 = KMeans(n_clusters = optimal_clusters)\n",
        "model2.fit(sent_vectors)"
      ]
    },
    {
      "cell_type": "code",
      "execution_count": null,
      "metadata": {
        "id": "gfmQue5_hYw7"
      },
      "outputs": [],
      "source": [
        "word_cluster_pred=model2.predict(sent_vectors)\n",
        "word_cluster_pred_2=model2.labels_\n",
        "word_cluster_center=model2.cluster_centers_"
      ]
    },
    {
      "cell_type": "code",
      "execution_count": null,
      "metadata": {
        "id": "LJIHOCvFhYw8",
        "outputId": "463dd6cd-517d-40d6-e01b-d938ef9952d7"
      },
      "outputs": [
        {
          "data": {
            "text/plain": [
              "array([[ 0.2000662 , -0.26603832, -0.16964725, -0.60703766, -0.30896587,\n",
              "         0.3720069 , -0.60871226,  0.02919104,  0.28223486, -0.13418858,\n",
              "        -0.16873788,  0.77818941,  0.33183056, -0.01096276, -0.62655819,\n",
              "         0.37115534,  0.14428949,  0.12096853, -0.19768492,  0.42126706,\n",
              "         0.00588734, -0.11480876, -0.45393756, -0.70709035,  0.2394617 ,\n",
              "        -0.09496921,  0.13657054, -0.56271649,  0.64614239, -0.22437622,\n",
              "        -0.18377582, -0.5843502 , -0.68685383,  0.70660298,  0.67387093,\n",
              "        -0.60151918,  0.13209105,  0.37172264,  0.6296376 ,  0.3604254 ,\n",
              "         0.82212126,  0.49346228,  0.0189603 , -0.20056971, -0.73424995,\n",
              "        -0.24610144,  0.21402608, -0.36261256, -0.53232722, -0.30256966,\n",
              "        -0.70056718,  0.43649508,  0.29061175, -0.13667486,  0.69504281,\n",
              "        -0.48636609,  0.20363621, -0.65281929,  0.4973902 ,  0.32172457,\n",
              "        -0.15227467,  0.15833024,  0.41894904,  0.14753863,  0.72302213,\n",
              "        -0.14977784, -0.28086338, -0.08584141,  0.37845013, -0.4621019 ,\n",
              "        -0.21725987, -0.47247315, -0.32334593, -0.04333732, -0.04372208,\n",
              "         0.11424832,  0.01220421,  0.0613964 ,  0.15180102, -0.40389799,\n",
              "         0.03987461,  0.37155682,  0.63274061, -0.40350211,  0.55437962,\n",
              "        -0.50784438, -0.44566556, -0.09916663,  0.42764798, -0.19515893,\n",
              "         0.0516813 , -0.36642171,  1.10625547,  0.29031631, -0.548273  ,\n",
              "        -0.36766136, -0.002196  ,  0.84740535, -0.36544371,  0.15635511]])"
            ]
          },
          "execution_count": 49,
          "metadata": {},
          "output_type": "execute_result"
        }
      ],
      "source": [
        "word_cluster_center[1:2]"
      ]
    },
    {
      "cell_type": "code",
      "execution_count": null,
      "metadata": {
        "id": "RsEBq3NQhYw8",
        "outputId": "cc0ecd97-cdfd-4dfa-b5e7-df0ecfce79de"
      },
      "outputs": [
        {
          "data": {
            "text/html": [
              "<div>\n",
              "<style scoped>\n",
              "    .dataframe tbody tr th:only-of-type {\n",
              "        vertical-align: middle;\n",
              "    }\n",
              "\n",
              "    .dataframe tbody tr th {\n",
              "        vertical-align: top;\n",
              "    }\n",
              "\n",
              "    .dataframe thead th {\n",
              "        text-align: right;\n",
              "    }\n",
              "</style>\n",
              "<table border=\"1\" class=\"dataframe\">\n",
              "  <thead>\n",
              "    <tr style=\"text-align: right;\">\n",
              "      <th></th>\n",
              "      <th>Product Name</th>\n",
              "      <th>Brand Name</th>\n",
              "      <th>Price</th>\n",
              "      <th>Rating</th>\n",
              "      <th>Reviews</th>\n",
              "      <th>Review Votes</th>\n",
              "      <th>CleanedReview</th>\n",
              "      <th>Tfidf Clus Label</th>\n",
              "      <th>AVG-W2V Clus Label</th>\n",
              "    </tr>\n",
              "  </thead>\n",
              "  <tbody>\n",
              "    <tr>\n",
              "      <th>0</th>\n",
              "      <td>\"CLEAR CLEAN ESN\" Sprint EPIC 4G Galaxy SPH-D7...</td>\n",
              "      <td>Samsung</td>\n",
              "      <td>199.99</td>\n",
              "      <td>positive</td>\n",
              "      <td>I feel so LUCKY to have found this used (phone...</td>\n",
              "      <td>1.0</td>\n",
              "      <td>feel lucki found use phone use hard phone line...</td>\n",
              "      <td>5</td>\n",
              "      <td>1</td>\n",
              "    </tr>\n",
              "    <tr>\n",
              "      <th>1</th>\n",
              "      <td>\"CLEAR CLEAN ESN\" Sprint EPIC 4G Galaxy SPH-D7...</td>\n",
              "      <td>Samsung</td>\n",
              "      <td>199.99</td>\n",
              "      <td>positive</td>\n",
              "      <td>nice phone, nice up grade from my pantach revu...</td>\n",
              "      <td>0.0</td>\n",
              "      <td>nice phone nice grade pantach revu clean set e...</td>\n",
              "      <td>5</td>\n",
              "      <td>0</td>\n",
              "    </tr>\n",
              "  </tbody>\n",
              "</table>\n",
              "</div>"
            ],
            "text/plain": [
              "                                        Product Name Brand Name   Price  \\\n",
              "0  \"CLEAR CLEAN ESN\" Sprint EPIC 4G Galaxy SPH-D7...    Samsung  199.99   \n",
              "1  \"CLEAR CLEAN ESN\" Sprint EPIC 4G Galaxy SPH-D7...    Samsung  199.99   \n",
              "\n",
              "     Rating                                            Reviews  Review Votes  \\\n",
              "0  positive  I feel so LUCKY to have found this used (phone...           1.0   \n",
              "1  positive  nice phone, nice up grade from my pantach revu...           0.0   \n",
              "\n",
              "                                       CleanedReview  Tfidf Clus Label  \\\n",
              "0  feel lucki found use phone use hard phone line...                 5   \n",
              "1  nice phone nice grade pantach revu clean set e...                 5   \n",
              "\n",
              "   AVG-W2V Clus Label  \n",
              "0                   1  \n",
              "1                   0  "
            ]
          },
          "execution_count": 50,
          "metadata": {},
          "output_type": "execute_result"
        }
      ],
      "source": [
        "# Giving Labels/assigning a cluster to each point/text\n",
        "dfa = df1\n",
        "dfa['AVG-W2V Clus Label'] = model2.labels_\n",
        "dfa.head(2)"
      ]
    },
    {
      "cell_type": "code",
      "execution_count": null,
      "metadata": {
        "id": "mEQ84hYihYw9",
        "outputId": "4977bfd1-0000-4654-e1ed-9a67c1e06124"
      },
      "outputs": [
        {
          "data": {
            "text/plain": [
              "AVG-W2V Clus Label\n",
              "0    120789\n",
              "1    106424\n",
              "2     10029\n",
              "3     46958\n",
              "4     11569\n",
              "5     10567\n",
              "6      3026\n",
              "7      4736\n",
              "8     33959\n",
              "Name: Reviews, dtype: int64"
            ]
          },
          "execution_count": 51,
          "metadata": {},
          "output_type": "execute_result"
        }
      ],
      "source": [
        "# How many points belong to each cluster ->\n",
        "dfa.groupby(['AVG-W2V Clus Label'])['Reviews'].count()"
      ]
    },
    {
      "cell_type": "code",
      "execution_count": null,
      "metadata": {
        "id": "EJABuHQRhYw9",
        "outputId": "123243d0-4453-49cf-8138-841fc21d8a74"
      },
      "outputs": [
        {
          "name": "stdout",
          "output_type": "stream",
          "text": [
            "A review of assigned to cluster  0\n",
            "----------------------------------------------------------------------\n",
            "nice phone, nice up grade from my pantach revue. Very clean set up and easy set up. never had an android phone but they are fantastic to say the least. perfect size for surfing and social media. great phone samsung\n",
            "\n",
            "\n",
            "Great phone to replace my lost phone. The only thing is the volume up button does not work, but I can still go into settings to adjust. Other than that, it does the job until I am eligible to upgrade my phone again.Thaanks!\n",
            "\n",
            "\n",
            "______________________________________________________________________\n",
            "A review of assigned to cluster  1\n",
            "----------------------------------------------------------------------\n",
            "I feel so LUCKY to have found this used (phone to us & not used hard at all), phone on line from someone who upgraded and sold this one. My Son liked his old one that finally fell apart after 2.5+ years and didn't want an upgrade!! Thank you Seller, we really appreciate it & your honesty re: said used phone.I recommend this seller very highly & would but from them again!!\n",
            "\n",
            "\n",
            "I already had a phone with problems... I know it stated it was used, but dang, it did not state that it did not charge. I wish I would have read these comments then I would have not purchased this item.... and its cracked on the side.. damaged goods is what it is.... If trying to charge it another way does not work I am requesting for my money back... AND I WILL GET MY MONEY BACK...SIGNED AN UNHAPPY CUSTOMER....\n",
            "\n",
            "\n",
            "______________________________________________________________________\n",
            "A review of assigned to cluster  2\n",
            "----------------------------------------------------------------------\n",
            "excelente\n",
            "\n",
            "\n",
            "This phone is trapped in 2001, if you want a simple phone get an old school flip phone. If you want something also for work get a blackberry or somthing new. This isn't even in the middle of those two, it's in another dimension. Nothing but frustration with this phone.\n",
            "\n",
            "\n",
            "______________________________________________________________________\n",
            "A review of assigned to cluster  3\n",
            "----------------------------------------------------------------------\n",
            "It works good but it goes slow sometimes but its a very good phone I love it\n",
            "\n",
            "\n",
            "Phone good just a little slow phone old but it's a great phone temporary right now. thank you for the great deal\n",
            "\n",
            "\n",
            "______________________________________________________________________\n",
            "A review of assigned to cluster  4\n",
            "----------------------------------------------------------------------\n",
            "100% gooddd!\n",
            "\n",
            "\n",
            "very well\n",
            "\n",
            "\n",
            "______________________________________________________________________\n",
            "A review of assigned to cluster  5\n",
            "----------------------------------------------------------------------\n",
            "It came with arabian keyboard :(\n",
            "\n",
            "\n",
            "Very practical and user-friendly phone. I am very satisfied with it.\n",
            "\n",
            "\n",
            "______________________________________________________________________\n",
            "A review of assigned to cluster  6\n",
            "----------------------------------------------------------------------\n",
            "Cheap and fast\n",
            "\n",
            "\n",
            "I got it with cover plus Adhesive protection film on both sides\n",
            "\n",
            "\n",
            "______________________________________________________________________\n",
            "A review of assigned to cluster  7\n",
            "----------------------------------------------------------------------\n",
            "excellent\n",
            "\n",
            "\n",
            "A friend mentioned this phone to me and it worth what he said. Thanks a lot my friend.\n",
            "\n",
            "\n",
            "______________________________________________________________________\n",
            "A review of assigned to cluster  8\n",
            "----------------------------------------------------------------------\n",
            "Very pleased\n",
            "\n",
            "\n",
            "as described, fast ship!\n",
            "\n",
            "\n",
            "______________________________________________________________________\n"
          ]
        }
      ],
      "source": [
        "# Reading a review which belong to each group.\n",
        "for i in range(optimal_clusters):\n",
        "    print(\"A review of assigned to cluster \", i)\n",
        "    print(\"-\" * 70)\n",
        "    print(dfa.iloc[dfa.groupby(['AVG-W2V Clus Label']).groups[i][0]]['Reviews'])\n",
        "    print('\\n')\n",
        "    print(dfa.iloc[dfa.groupby(['AVG-W2V Clus Label']).groups[i][1]]['Reviews'])\n",
        "    print('\\n')\n",
        "    print(\"_\" * 70)"
      ]
    },
    {
      "cell_type": "markdown",
      "metadata": {
        "id": "V8DHyE3lhYw-"
      },
      "source": [
        "**DBScan**"
      ]
    },
    {
      "cell_type": "code",
      "execution_count": null,
      "metadata": {
        "id": "gmpCMHwdhYw_"
      },
      "outputs": [],
      "source": [
        "from sklearn.cluster import DBSCAN"
      ]
    },
    {
      "cell_type": "code",
      "execution_count": null,
      "metadata": {
        "id": "-CyhSpm7hYw_"
      },
      "outputs": [],
      "source": [
        "# Computing 200th Nearest neighbour distance\n",
        "minPts = 2 * 100\n",
        "# Lower bound function copied from -> https://gist.github.com/m00nlight/0f9306b4d4e61ba0195f\n",
        "def lower_bound(nums, target): # This function return the number in the array just greater than or equal to itself.\n",
        "    l, r = 0, len(nums) - 1\n",
        "    while l <= r: # Binary searching.\n",
        "        mid = int(l + (r - l) / 2)\n",
        "        if nums[mid] >= target:\n",
        "            r = mid - 1\n",
        "        else:\n",
        "            l = mid + 1\n",
        "    return l\n",
        "\n",
        "def compute200thnearestneighbour(x, data): # Returns the distance of 200th nearest neighbour.\n",
        "    dists = []\n",
        "    for val in data:\n",
        "        dist = np.sum((x - val) **2 ) # computing distances.\n",
        "        if(len(dists) == 200 and dists[199] > dist): # If distance is larger than current largest distance found.\n",
        "            l = int(lower_bound(dists, dist)) # Using the lower bound function to get the right position.\n",
        "            if l < 200 and l >= 0 and dists[l] > dist:\n",
        "                dists[l] = dist\n",
        "        else:\n",
        "            dists.append(dist)\n",
        "            dists.sort()\n",
        "\n",
        "    return dists[199] # Dist 199 contains the distance of 200th nearest neighbour."
      ]
    },
    {
      "cell_type": "code",
      "execution_count": null,
      "metadata": {
        "id": "EVGHIYxbhYxA"
      },
      "outputs": [],
      "source": [
        "# Computing the 200th nearest neighbour distance of some point the dataset:\n",
        "twohundrethneigh = []\n",
        "for val in sent_vectors[:348507]:\n",
        "    twohundrethneigh.append( compute200thnearestneighbour(val, sent_vectors[:348507]) )\n",
        "twohundrethneigh.sort()"
      ]
    },
    {
      "cell_type": "code",
      "execution_count": null,
      "metadata": {
        "id": "XpRpa_MVhYxB"
      },
      "outputs": [],
      "source": [
        "# Plotting for the Elbow Method :\n",
        "plt.figure(figsize=(14,4))\n",
        "plt.title(\"Elbow Method for Finding the right Eps hyperparameter\")\n",
        "plt.plot([x for x in range(len(twohundrethneigh))], twohundrethneigh)\n",
        "plt.xlabel(\"Number of points\")\n",
        "plt.ylabel(\"Distance of 200th Nearest Neighbour\")\n",
        "plt.show()"
      ]
    },
    {
      "cell_type": "code",
      "execution_count": null,
      "metadata": {
        "id": "2c3iVsTThYxB"
      },
      "outputs": [],
      "source": [
        "# Training DBSCAN :\n",
        "model = DBSCAN(eps = 5, min_samples = minPts, n_jobs=-1)\n",
        "model.fit(sent_vectors)"
      ]
    },
    {
      "cell_type": "code",
      "execution_count": null,
      "metadata": {
        "id": "9uCUt3P2hYxB"
      },
      "outputs": [],
      "source": [
        "dfdb = dfa\n",
        "dfdb['AVG-W2V Clus Label'] = model.labels_\n",
        "dfdb.head(2)"
      ]
    },
    {
      "cell_type": "code",
      "execution_count": null,
      "metadata": {
        "id": "G_xpWPWJhYxC"
      },
      "outputs": [],
      "source": [
        "dfdb.groupby(['AVG-W2V Clus Label'])['Id'].count()"
      ]
    },
    {
      "cell_type": "markdown",
      "metadata": {
        "id": "y0IYkn4dhYxC"
      },
      "source": [
        "**Hierarchical Clustering**"
      ]
    },
    {
      "cell_type": "code",
      "execution_count": null,
      "metadata": {
        "id": "MLxWNlSGhYxC"
      },
      "outputs": [],
      "source": [
        "import scipy\n",
        "from scipy.cluster import hierarchy\n",
        "dendro=hierarchy.dendrogram(hierarchy.linkage(sent_vectors,method='ward'))\n",
        "plt.axhline(y=35)# cut at 30 to get 5 clusters"
      ]
    },
    {
      "cell_type": "code",
      "execution_count": null,
      "metadata": {
        "id": "81D4UpV2hYxD"
      },
      "outputs": [],
      "source": [
        "\n",
        "from sklearn.cluster import AgglomerativeClustering\n",
        "\n",
        "cluster = AgglomerativeClustering(n_clusters=5, affinity='euclidean', linkage='ward')  #took n=5 from dendrogram curve\n",
        "Agg=cluster.fit_predict(sent_vectors)"
      ]
    },
    {
      "cell_type": "code",
      "execution_count": null,
      "metadata": {
        "id": "cfbZt7fGhYxD"
      },
      "outputs": [],
      "source": [
        "# Giving Labels/assigning a cluster to each point/text\n",
        "aggdfa = dfdb\n",
        "aggdfa['AVG-W2V Clus Label'] = cluster.labels_\n",
        "aggdfa.head(2)"
      ]
    },
    {
      "cell_type": "code",
      "execution_count": null,
      "metadata": {
        "id": "3Il15cbJhYxD"
      },
      "outputs": [],
      "source": [
        "# How many points belong to each cluster ->\n",
        "aggdfa.groupby(['AVG-W2V Clus Label'])['Text'].count()"
      ]
    },
    {
      "cell_type": "code",
      "execution_count": null,
      "metadata": {
        "id": "JbCdZybohYxE"
      },
      "outputs": [],
      "source": [
        "# Reading a review which belong to each group.\n",
        "for i in range(5):\n",
        "    print(\"2 reviews of assigned to cluster \", i)\n",
        "    print(\"-\" * 70)\n",
        "    print(aggdfa.iloc[aggdfa.groupby(['AVG-W2V Clus Label']).groups[i][0]]['Text'])\n",
        "    print('\\n')\n",
        "    print(aggdfa.iloc[aggdfa.groupby(['AVG-W2V Clus Label']).groups[i][1]]['Text'])\n",
        "    print('\\n')\n",
        "    print(\"_\" * 70)"
      ]
    },
    {
      "cell_type": "markdown",
      "metadata": {
        "id": "vifMM4_DhYxF"
      },
      "source": [
        "**In one paragraph, please compare the results of K-means, DBSCAN, Hierarchical clustering, Word2Vec, and BERT.**"
      ]
    },
    {
      "cell_type": "code",
      "execution_count": null,
      "metadata": {
        "id": "39jt7m-thYxF"
      },
      "outputs": [],
      "source": [
        "#You can write you answer here. (No code needed)\n",
        "K-means, DBSCAN, and Hierarchical clustering are unsupervised machine learning algorithms used for clustering data,\n",
        "while Word2Vec and BERT are natural language processing techniques used for text analysis.\n",
        "K-means and Hierarchical clustering partition data points into predetermined clusters, while DBSCAN forms clusters based on data density.\n",
        "Word2Vec creates vector representations of words in a corpus, and BERT provides contextualized embeddings for entire sentences or documents,\n",
        "allowing for better understanding of word meaning and relationships. K-means, DBSCAN, and Hierarchical clustering are commonly used for non-textual data clustering,\n",
        " while Word2Vec and BERT are mainly used for text classification and NLP tasks.\n",
        "\n",
        "\n",
        "\n",
        "\n",
        "\n",
        "\n"
      ]
    },
    {
      "cell_type": "markdown",
      "source": [
        "## Mandatory Question"
      ],
      "metadata": {
        "id": "rJtJXGkUqYGJ"
      }
    },
    {
      "cell_type": "markdown",
      "source": [
        "**Important: Reflective Feedback on this exercise**\n",
        "\n",
        "Please provide your thoughts and feedback on the exercises you completed in this assignment.\n",
        "\n",
        "\n",
        "**(Your submission will not be graded if this question is left unanswered)**\n",
        "\n"
      ],
      "metadata": {
        "id": "STLHhqODqdvk"
      }
    },
    {
      "cell_type": "code",
      "source": [
        "# Your answer here (no code for this question, write down your answer as detail as possible for the above questions):\n",
        "\n",
        "'''\n",
        "Please write you answer here:\n",
        "I felt every question challenging. This assignment seems small but it is very thought provoking and time taking. It is mainly applicable in datascience field.\n",
        "\n",
        "\n",
        "\n",
        "\n",
        "'''"
      ],
      "metadata": {
        "colab": {
          "base_uri": "https://localhost:8080/",
          "height": 53
        },
        "id": "Wg_t_bAWqYuL",
        "outputId": "5937cafc-a9d2-4ef2-af80-fb8be1d3a029"
      },
      "execution_count": null,
      "outputs": [
        {
          "output_type": "execute_result",
          "data": {
            "text/plain": [
              "'\\nPlease write you answer here:\\nI felt every question challenging. This assignment seems small but it is very thought provoking and time taking. It is mainly applicable in datascience field.\\n\\n\\n\\n\\n'"
            ],
            "application/vnd.google.colaboratory.intrinsic+json": {
              "type": "string"
            }
          },
          "metadata": {},
          "execution_count": 6
        }
      ]
    }
  ],
  "metadata": {
    "kernelspec": {
      "display_name": "Python 3 (ipykernel)",
      "language": "python",
      "name": "python3"
    },
    "language_info": {
      "codemirror_mode": {
        "name": "ipython",
        "version": 3
      },
      "file_extension": ".py",
      "mimetype": "text/x-python",
      "name": "python",
      "nbconvert_exporter": "python",
      "pygments_lexer": "ipython3",
      "version": "3.11.2"
    },
    "colab": {
      "provenance": [],
      "include_colab_link": true
    }
  },
  "nbformat": 4,
  "nbformat_minor": 0
}