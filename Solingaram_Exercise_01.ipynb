{
  "cells": [
    {
      "cell_type": "markdown",
      "metadata": {
        "id": "view-in-github",
        "colab_type": "text"
      },
      "source": [
        "<a href=\"https://colab.research.google.com/github/HarshaSolingaram/INFO_5731/blob/main/Solingaram_Exercise_01.ipynb\" target=\"_parent\"><img src=\"https://colab.research.google.com/assets/colab-badge.svg\" alt=\"Open In Colab\"/></a>"
      ]
    },
    {
      "cell_type": "markdown",
      "metadata": {
        "id": "DymRJbxDBCnf"
      },
      "source": [
        "# **This first In-class-exercise cover a variety of fundamental concepts in Python and are designed to help individuals improve their coding skills and problem-solving abilities.**\n",
        "\n",
        "The submission is due on 01/31/2024 11:59 PM. This submission is worth 40 points in total.\n"
      ]
    },
    {
      "cell_type": "markdown",
      "source": [
        "(1) Write a Python program that  prompts the user to input the length and width of a rectangle, and then calculates and displays the area of the rectangle."
      ],
      "metadata": {
        "id": "FBKvD6O_TY6e"
      }
    },
    {
      "cell_type": "code",
      "source": [
        "# write your answer here\n",
        "def rectangleArea(length, width):\n",
        "  area = length * width\n",
        "  return area\n",
        "\n",
        "length = int(input(\"Enter the value of length: \"))\n",
        "width = int(input(\"Enter the value of width: \"))\n",
        "rectangleArea(length, width)\n"
      ],
      "metadata": {
        "id": "cikVKDXdTbzE",
        "colab": {
          "base_uri": "https://localhost:8080/"
        },
        "outputId": "e450d021-a309-4433-fe86-661aa571018f"
      },
      "execution_count": 1,
      "outputs": [
        {
          "name": "stdout",
          "output_type": "stream",
          "text": [
            "Enter the value of length: 4\n",
            "Enter the value of width: 5\n"
          ]
        },
        {
          "output_type": "execute_result",
          "data": {
            "text/plain": [
              "20"
            ]
          },
          "metadata": {},
          "execution_count": 1
        }
      ]
    },
    {
      "cell_type": "markdown",
      "source": [
        "(2) Create a Python program that interactively takes two numerical inputs from the user and swaps their values without utilizing an extra variable."
      ],
      "metadata": {
        "id": "E9RqrlwdTfvl"
      }
    },
    {
      "cell_type": "code",
      "source": [
        "# write your answer here\n",
        "def swapping(a, b):\n",
        "  a,b = b,a\n",
        "  return a,b\n",
        "\n",
        "a = int(input(\"Enter the value of a: \"))\n",
        "b = int(input(\"Enter the value of b: \"))\n",
        "swapping(a,b)\n"
      ],
      "metadata": {
        "id": "4XvRknixTh1g",
        "colab": {
          "base_uri": "https://localhost:8080/"
        },
        "outputId": "acce3193-623e-4650-a336-e0631135b815"
      },
      "execution_count": 2,
      "outputs": [
        {
          "name": "stdout",
          "output_type": "stream",
          "text": [
            "Enter the value of a: 3\n",
            "Enter the value of b: 7\n"
          ]
        },
        {
          "output_type": "execute_result",
          "data": {
            "text/plain": [
              "(7, 3)"
            ]
          },
          "metadata": {},
          "execution_count": 2
        }
      ]
    },
    {
      "cell_type": "markdown",
      "metadata": {
        "id": "03jb4GZsBkBS"
      },
      "source": [
        "(3) Write a Python script to determine and print the length of a user-input string."
      ]
    },
    {
      "cell_type": "code",
      "execution_count": 3,
      "metadata": {
        "id": "YaGLbSHHB8Ej",
        "colab": {
          "base_uri": "https://localhost:8080/"
        },
        "outputId": "e76fc809-f5d7-42a9-e520-5d5016947cba"
      },
      "outputs": [
        {
          "name": "stdout",
          "output_type": "stream",
          "text": [
            "Enter the value of a: harsha\n"
          ]
        },
        {
          "output_type": "execute_result",
          "data": {
            "text/plain": [
              "6"
            ]
          },
          "metadata": {},
          "execution_count": 3
        }
      ],
      "source": [
        "# write your answer here\n",
        "def lengthofString(a):\n",
        "  count = 0\n",
        "  for i in a:\n",
        "    count += 1\n",
        "  return count\n",
        "\n",
        "a = input(\"Enter the value of a: \")\n",
        "lengthofString(a)\n",
        "\n"
      ]
    },
    {
      "cell_type": "markdown",
      "metadata": {
        "id": "jJDe71iLB616"
      },
      "source": [
        "(4) Construct a Python program that counts and displays the occurrences of each character in a given string.\n",
        "\n",
        "Sample String: 'openai.ai',\n",
        "\n",
        "Expected Result: {'a': 2, 'i': 2, '.': 1, 'o': 1, 'p': 1, 'e': 1, 'n': 1}"
      ]
    },
    {
      "cell_type": "code",
      "execution_count": 4,
      "metadata": {
        "id": "MtKskTzbCLaU",
        "colab": {
          "base_uri": "https://localhost:8080/"
        },
        "outputId": "a2d1531e-8f0f-459a-fc2c-41595d0338ae"
      },
      "outputs": [
        {
          "name": "stdout",
          "output_type": "stream",
          "text": [
            "Enter the value of a: solingaram\n"
          ]
        },
        {
          "output_type": "execute_result",
          "data": {
            "text/plain": [
              "{'s': 1, 'o': 1, 'l': 1, 'i': 1, 'n': 1, 'g': 1, 'a': 2, 'r': 1, 'm': 1}"
            ]
          },
          "metadata": {},
          "execution_count": 4
        }
      ],
      "source": [
        "# write your answer here\n",
        "def countOcc(a):\n",
        "  char_count = {}\n",
        "\n",
        "  for char in a:\n",
        "      char_count[char] = char_count.get(char, 0) + 1\n",
        "\n",
        "  return char_count\n",
        "\n",
        "a = input(\"Enter the value of a: \")\n",
        "countOcc(a)\n",
        "\n"
      ]
    },
    {
      "cell_type": "markdown",
      "metadata": {
        "id": "55W9AMdXCSpV"
      },
      "source": [
        "(5) Design a Python code to calculate the sum of all elements in a user-provided list."
      ]
    },
    {
      "cell_type": "code",
      "source": [],
      "metadata": {
        "id": "XJJKvVseUsyB"
      },
      "execution_count": 4,
      "outputs": []
    },
    {
      "cell_type": "code",
      "execution_count": 12,
      "metadata": {
        "id": "I57NXsauCec2",
        "colab": {
          "base_uri": "https://localhost:8080/"
        },
        "outputId": "ef60a413-249a-4775-a310-f50eeb4406b1"
      },
      "outputs": [
        {
          "name": "stdout",
          "output_type": "stream",
          "text": [
            "Enter the elements: 4 6 3 6 9\n"
          ]
        },
        {
          "output_type": "execute_result",
          "data": {
            "text/plain": [
              "28"
            ]
          },
          "metadata": {},
          "execution_count": 12
        }
      ],
      "source": [
        "# write your answer here\n",
        "\n",
        "def sumEL(a):\n",
        "\n",
        "  numbers = [int(x) for x in a.split()]\n",
        "  sum_of_elements = sum(numbers)\n",
        "  return sum_of_elements\n",
        "\n",
        "a = input(\"Enter the elements: \")\n",
        "sumEL(a)\n",
        "\n",
        "\n",
        "\n",
        "\n"
      ]
    },
    {
      "cell_type": "markdown",
      "metadata": {
        "id": "4ulBZ6yhCi9F"
      },
      "source": [
        "(6) Write a Python program that modifies a given string by replacing all occurrences of its first character with '$', excluding the first character itself.\n",
        "\n",
        "\n",
        "Sample String : 'restart‘,\n",
        "\n",
        "Expected Result : 'resta\\$t'"
      ]
    },
    {
      "cell_type": "code",
      "execution_count": 6,
      "metadata": {
        "id": "Fj0XhwbBCw2o",
        "colab": {
          "base_uri": "https://localhost:8080/",
          "height": 52
        },
        "outputId": "c599fe7b-3601-45be-dfcf-1b80fd80a406"
      },
      "outputs": [
        {
          "name": "stdout",
          "output_type": "stream",
          "text": [
            "Enter the string: Harshaq\n"
          ]
        },
        {
          "output_type": "execute_result",
          "data": {
            "text/plain": [
              "'Ha$shaq'"
            ],
            "application/vnd.google.colaboratory.intrinsic+json": {
              "type": "string"
            }
          },
          "metadata": {},
          "execution_count": 6
        }
      ],
      "source": [
        "# write your answer here\n",
        "\n",
        "def replaceString(a):\n",
        "  b = a[0]\n",
        "  c = b + a[1:].replace('r', '$')\n",
        "  return c\n",
        "\n",
        "\n",
        "\n",
        "a = input(\"Enter the string: \")\n",
        "replaceString(a)\n"
      ]
    },
    {
      "cell_type": "markdown",
      "source": [
        "(7) Write a Python program using a while loop to compute the factorial of a user-supplied number."
      ],
      "metadata": {
        "id": "qVXA3q7ET5JI"
      }
    },
    {
      "cell_type": "code",
      "source": [
        "# write your answer here\n",
        "\n",
        "def fact(a):\n",
        "  fact = 1\n",
        "  for i in range(1, a+1):\n",
        "    fact = fact * i;\n",
        "  return fact\n",
        "\n",
        "a = int(input(\"Enter the number: \"))\n",
        "fact(a)\n",
        "\n",
        "\n",
        "\n"
      ],
      "metadata": {
        "id": "Lbt7R6UkT7BA",
        "colab": {
          "base_uri": "https://localhost:8080/"
        },
        "outputId": "096972fd-6773-42f0-c2c8-0fdc50effc0e"
      },
      "execution_count": 7,
      "outputs": [
        {
          "name": "stdout",
          "output_type": "stream",
          "text": [
            "Enter the number: 6\n"
          ]
        },
        {
          "output_type": "execute_result",
          "data": {
            "text/plain": [
              "720"
            ]
          },
          "metadata": {},
          "execution_count": 7
        }
      ]
    },
    {
      "cell_type": "markdown",
      "source": [
        "(8) Create a program that accepts a list of numbers as input and outputs a new list containing only the even numbers."
      ],
      "metadata": {
        "id": "6YfbzXMNT--R"
      }
    },
    {
      "cell_type": "code",
      "source": [
        "# write your answer here\n",
        "def even(a):\n",
        "  numbers = [int(x) for x in a.split()]\n",
        "  numbers1 = []\n",
        "  for i in numbers:\n",
        "    if(i %2 == 0):\n",
        "      numbers1.append(i)\n",
        "  return numbers1\n",
        "\n",
        "a = input(\"Enter the elements in a array: \")\n",
        "even(a)\n",
        "\n"
      ],
      "metadata": {
        "id": "54q7wMQPUAKu",
        "colab": {
          "base_uri": "https://localhost:8080/"
        },
        "outputId": "f25f5af8-8b02-4172-846f-984e3aa6d896"
      },
      "execution_count": 8,
      "outputs": [
        {
          "name": "stdout",
          "output_type": "stream",
          "text": [
            "Enter the elements in a array: 5\n"
          ]
        },
        {
          "output_type": "execute_result",
          "data": {
            "text/plain": [
              "[]"
            ]
          },
          "metadata": {},
          "execution_count": 8
        }
      ]
    },
    {
      "cell_type": "markdown",
      "metadata": {
        "id": "_bIP7s1MCzue"
      },
      "source": [
        "\n",
        "(9) Design a Python function to check if a number is prime.\n"
      ]
    },
    {
      "cell_type": "code",
      "execution_count": 9,
      "metadata": {
        "id": "w79QilHXD3Mg",
        "colab": {
          "base_uri": "https://localhost:8080/"
        },
        "outputId": "b721bbb3-d915-4ba0-bc5e-11ed161f7f1d"
      },
      "outputs": [
        {
          "name": "stdout",
          "output_type": "stream",
          "text": [
            "Enter the number: 45\n"
          ]
        },
        {
          "output_type": "execute_result",
          "data": {
            "text/plain": [
              "True"
            ]
          },
          "metadata": {},
          "execution_count": 9
        }
      ],
      "source": [
        "# write your answer here\n",
        "\n",
        "def prime(a):\n",
        "  for i in range(2, a):\n",
        "    if(a % i == 0):\n",
        "      return False\n",
        "    else:\n",
        "      return True\n",
        "a = int(input(\"Enter the number: \"))\n",
        "prime(a)\n",
        "\n"
      ]
    },
    {
      "cell_type": "markdown",
      "metadata": {
        "id": "xCa2bK9aD4Q3"
      },
      "source": [
        "(10) Write a Python program to concatenate following dictionaries to create a new one.\n",
        "\n",
        "Sample Dictionary : dic1={1:10, 2:20}, dic2={3:30, 4:40}, dic3={5:50,6:60},\n",
        "\n",
        "Expected Result : {1: 10, 2: 20, 3: 30, 4: 40, 5: 50, 6: 60}\n"
      ]
    },
    {
      "cell_type": "code",
      "execution_count": 10,
      "metadata": {
        "id": "_z4aLqAbEET1",
        "colab": {
          "base_uri": "https://localhost:8080/"
        },
        "outputId": "bb63d64f-e840-433a-fa7a-06386718f58b"
      },
      "outputs": [
        {
          "output_type": "stream",
          "name": "stdout",
          "text": [
            "Result: {1: 10, 2: 20, 3: 30, 4: 40, 5: 50, 6: 60}\n"
          ]
        }
      ],
      "source": [
        "# write your answer here\n",
        "dic1 = {1: 10, 2: 20}\n",
        "dic2 = {3: 30, 4: 40}\n",
        "dic3 = {5: 50, 6: 60}\n",
        "\n",
        "result_dict = {}\n",
        "\n",
        "\n",
        "result_dict.update(dic1)\n",
        "result_dict.update(dic2)\n",
        "result_dict.update(dic3)\n",
        "\n",
        "\n",
        "print(\"Result:\", result_dict)\n",
        "\n"
      ]
    },
    {
      "cell_type": "markdown",
      "source": [
        "(11) Design a Python function that takes a tuple of integers as input and returns the largest and smallest elements."
      ],
      "metadata": {
        "id": "bkyZ2xSZUOst"
      }
    },
    {
      "cell_type": "code",
      "source": [
        "# write your answer here\n",
        "def find_largest_and_smallest(input_tuple):\n",
        "    if not input_tuple or not all(isinstance(num, int) for num in input_tuple):\n",
        "        return None\n",
        "\n",
        "    largest = smallest = input_tuple[0]\n",
        "\n",
        "    for num in input_tuple:\n",
        "        if num > largest:\n",
        "            largest = num\n",
        "        elif num < smallest:\n",
        "            smallest = num\n",
        "\n",
        "    return largest, smallest\n",
        "\n",
        "\n",
        "input_tuple = tuple(map(int, input(\"Enter a tuple of integers (comma-separated): \").split(\",\")))\n",
        "\n",
        "result = find_largest_and_smallest(input_tuple)\n",
        "\n",
        "if result is not None:\n",
        "    largest, smallest = result\n",
        "    print(\"Largest element:\", largest)\n",
        "    print(\"Smallest element:\", smallest)\n",
        "else:\n",
        "    print(\"Invalid input. Please provide a valid tuple of integers.\")\n",
        "\n"
      ],
      "metadata": {
        "id": "3FdLRBKOUQEd",
        "colab": {
          "base_uri": "https://localhost:8080/"
        },
        "outputId": "9448e962-cc1e-4ca8-a4ea-8f6a62dd01e6"
      },
      "execution_count": 13,
      "outputs": [
        {
          "output_type": "stream",
          "name": "stdout",
          "text": [
            "Enter a tuple of integers (comma-separated): 4,5,6,4\n",
            "Largest element: 6\n",
            "Smallest element: 4\n"
          ]
        }
      ]
    },
    {
      "cell_type": "markdown",
      "source": [
        "(12) Write a Python program that counts the frequency of each character in a given string and stores it in a dictionary."
      ],
      "metadata": {
        "id": "O0TVi3gKUTpp"
      }
    },
    {
      "cell_type": "code",
      "source": [
        "# write your answer here\n",
        "def count_character_frequency(input_string):\n",
        "    char_frequency = {}\n",
        "\n",
        "    for char in input_string:\n",
        "        if char.isalpha():\n",
        "            char = char.lower()\n",
        "            char_frequency[char] = char_frequency.get(char, 0) + 1\n",
        "\n",
        "    return char_frequency\n",
        "\n",
        "input_str = input(\"Enter a string: \")\n",
        "result = count_character_frequency(input_str)\n",
        "\n",
        "print(\"Character frequency:\")\n",
        "for char, count in result.items():\n",
        "    print(f\"{char}: {count}\")\n"
      ],
      "metadata": {
        "id": "lAtfSfZXUU-h",
        "colab": {
          "base_uri": "https://localhost:8080/"
        },
        "outputId": "867bb3e0-7523-478f-b453-77343790a121"
      },
      "execution_count": 15,
      "outputs": [
        {
          "output_type": "stream",
          "name": "stdout",
          "text": [
            "Enter a string: harsha\n",
            "Character frequency:\n",
            "h: 2\n",
            "a: 2\n",
            "r: 1\n",
            "s: 1\n"
          ]
        }
      ]
    },
    {
      "cell_type": "markdown",
      "metadata": {
        "id": "0v48Vqa7FrQh"
      },
      "source": [
        "(13) Implement a Python script to identify duplicate elements in a provided array of integers. Return -1 if there are no duplicates."
      ]
    },
    {
      "cell_type": "code",
      "execution_count": 19,
      "metadata": {
        "id": "7WEmgq-DF2P1",
        "colab": {
          "base_uri": "https://localhost:8080/"
        },
        "outputId": "86ef8c44-1e16-44b6-badd-b90b727d1542"
      },
      "outputs": [
        {
          "output_type": "stream",
          "name": "stdout",
          "text": [
            "Enter the elements of the array separated by spaces: 4 5 5 6 6 7 4 5\n",
            "Duplicate elements: [4, 5, 6]\n"
          ]
        }
      ],
      "source": [
        "def find_duplicates(arr):\n",
        "    seen_elements = set()\n",
        "    duplicates = set()\n",
        "\n",
        "    for element in arr:\n",
        "        if element in seen_elements:\n",
        "            duplicates.add(element)\n",
        "        else:\n",
        "            seen_elements.add(element)\n",
        "\n",
        "    return list(duplicates) if duplicates else -1\n",
        "\n",
        "# Take user input for the array of integers\n",
        "input_str = input(\"Enter the elements of the array separated by spaces: \")\n",
        "input_array = [int(x) for x in input_str.split()]\n",
        "\n",
        "result = find_duplicates(input_array)\n",
        "\n",
        "if result == -1:\n",
        "    print(\"No duplicates found.\")\n",
        "else:\n",
        "    print(\"Duplicate elements:\", result)\n"
      ]
    },
    {
      "cell_type": "markdown",
      "metadata": {
        "id": "vD5PYLMuGga_"
      },
      "source": [
        "(14) Write a Python script to find the common elements between two lists."
      ]
    },
    {
      "cell_type": "code",
      "execution_count": 21,
      "metadata": {
        "id": "t0D5kdJUGjjw",
        "colab": {
          "base_uri": "https://localhost:8080/"
        },
        "outputId": "745447ab-7be3-4e5c-c7b5-b96dc284bae8"
      },
      "outputs": [
        {
          "output_type": "stream",
          "name": "stdout",
          "text": [
            "Enter the elements of the first list: 1 3 4 5 6 4\n",
            "Enter the elements of the second list: 2 3 5 6 7 6\n",
            "Common elements: [3, 5, 6]\n"
          ]
        }
      ],
      "source": [
        "# write your answer here\n",
        "def find_common_elements(list1, list2):\n",
        "    numbers1 = [int(x) for x in list1.split()]\n",
        "    numbers2 = [int(x) for x in list2.split()]\n",
        "    common_elements = []\n",
        "\n",
        "    for item in numbers1:\n",
        "        if item in numbers2 and item not in common_elements:\n",
        "            common_elements.append(item)\n",
        "\n",
        "    return common_elements\n",
        "\n",
        "list1 = input(\"Enter the elements of the first list: \")\n",
        "list2 = input(\"Enter the elements of the second list: \")\n",
        "\n",
        "result = find_common_elements(list1, list2)\n",
        "print(\"Common elements:\", result)\n",
        "\n"
      ]
    },
    {
      "cell_type": "markdown",
      "metadata": {
        "id": "uHkd-y5VhVWC"
      },
      "source": [
        "(15) Write a Python program to randomly divide the students in this class into six groups for term projects, each group should have at least 4 students but no more than 6 students (including 6).\n",
        "\n",
        "Here is the students list:\n",
        "\n",
        "student_list_spring_2024=[rb0846,\n",
        "ac1964,\n",
        "hc0612,\n",
        "md0912,\n",
        "ad1198,\n",
        "md0894,\n",
        "md0825,\n",
        "vg0598,\n",
        "vg0433,\n",
        "mh1068,\n",
        "yj0173,\n",
        "pk0553,\n",
        "tk0411,\n",
        "srk0204,\n",
        "sk2922,\n",
        "sk2936,\n",
        "mk1302,\n",
        "mk1317,\n",
        "tk0412,\n",
        "vk0656,\n",
        "sm2985,\n",
        "mm2372,\n",
        "un0045,\n",
        "an0892,\n",
        "sn0913,\n",
        "gp0252,\n",
        "ap1484,\n",
        "mr1765,\n",
        "sr1385,\n",
        "sr1335,\n",
        "hs0665,\n",
        "ms2060,\n",
        "gt0217,\n",
        "nt0385,\n",
        "tv0186,\n",
        "sv1394,\n",
        "sv1752,\n",
        "sv1555,\n",
        "sy0594\n",
        "]\n"
      ]
    },
    {
      "cell_type": "code",
      "execution_count": 22,
      "metadata": {
        "id": "3iGbmcOBhTwy",
        "colab": {
          "base_uri": "https://localhost:8080/"
        },
        "outputId": "abaec502-d7a0-4f5f-f2d1-9ea0c38127dd"
      },
      "outputs": [
        {
          "output_type": "stream",
          "name": "stdout",
          "text": [
            "Group 1: ['ad1198', 'vg0433', 'nt0385', 'mr1765']\n",
            "Group 2: ['yj0173', 'mh1068', 'sm2985', 'tk0411']\n",
            "Group 3: ['gp0252', 'sv1555', 'gt0217', 'ap1484']\n",
            "Group 4: ['tk0412', 'tv0186', 'vk0656', 'sn0913']\n",
            "Group 5: ['sv1752', 'mk1317', 'mm2372', 'md0912']\n",
            "Group 6: ['sv1394', 'hs0665', 'rb0846', 'md0894']\n",
            "Group 7: ['ac1964', 'mk1302', 'sr1385', 'sr1335']\n",
            "Group 8: ['ms2060', 'un0045', 'pk0553', 'sy0594']\n",
            "Group 9: ['an0892', 'sk2922', 'vg0598', 'hc0612']\n",
            "Group 10: ['md0825', 'sk2936', 'srk0204']\n"
          ]
        }
      ],
      "source": [
        "# write your answer here\n",
        "import random\n",
        "\n",
        "def divide_students_into_groups(student_list):\n",
        "\n",
        "    random.shuffle(student_list)\n",
        "\n",
        "\n",
        "    students_per_group = 4\n",
        "\n",
        "    groups = [student_list[i:i+students_per_group] for i in range(0, len(student_list), students_per_group)]\n",
        "\n",
        "    return groups\n",
        "\n",
        "\n",
        "student_list_spring_2024 = [\"rb0846\", \"ac1964\", \"hc0612\", \"md0912\", \"ad1198\", \"md0894\", \"md0825\", \"vg0598\", \"vg0433\",\n",
        "                            \"mh1068\", \"yj0173\", \"pk0553\", \"tk0411\", \"srk0204\", \"sk2922\", \"sk2936\", \"mk1302\", \"mk1317\",\n",
        "                            \"tk0412\", \"vk0656\", \"sm2985\", \"mm2372\", \"un0045\", \"an0892\", \"sn0913\", \"gp0252\", \"ap1484\",\n",
        "                            \"mr1765\", \"sr1385\", \"sr1335\", \"hs0665\", \"ms2060\", \"gt0217\", \"nt0385\", \"tv0186\", \"sv1394\",\n",
        "                            \"sv1752\", \"sv1555\", \"sy0594\"]\n",
        "\n",
        "\n",
        "groups = divide_students_into_groups(student_list_spring_2024)\n",
        "\n",
        "\n",
        "for i, group in enumerate(groups, start=1):\n",
        "    print(f\"Group {i}: {group}\")\n",
        "\n"
      ]
    },
    {
      "cell_type": "markdown",
      "metadata": {
        "id": "fmZ9vX20Qs3d"
      },
      "source": [
        "(16) Create a program that takes a positive integer 'n' as input and prints the count of even numbers from 1 to 'n'. Optimize the loop using the break statement."
      ]
    },
    {
      "cell_type": "code",
      "execution_count": 23,
      "metadata": {
        "id": "W8Jw6sWMQs3d",
        "colab": {
          "base_uri": "https://localhost:8080/"
        },
        "outputId": "68156e67-c1b3-4c24-8de5-9c81e6dadb12"
      },
      "outputs": [
        {
          "name": "stdout",
          "output_type": "stream",
          "text": [
            "Enter the number: 20\n"
          ]
        },
        {
          "output_type": "execute_result",
          "data": {
            "text/plain": [
              "9"
            ]
          },
          "metadata": {},
          "execution_count": 23
        }
      ],
      "source": [
        "# write your answer here\n",
        "def even_count(a):\n",
        "  count = 0\n",
        "  for i in range(1, a):\n",
        "    if(i % 2 == 0):\n",
        "      count = count + 1\n",
        "    elif(i > a):\n",
        "      break\n",
        "  return count\n",
        "\n",
        "\n",
        "a = int(input(\"Enter the number: \"))\n",
        "even_count(a)"
      ]
    },
    {
      "cell_type": "markdown",
      "metadata": {
        "id": "hvq4APMhQs3d"
      },
      "source": [
        "(17) Develop a Python function called 'count_vowels' that takes a string as input and returns the count of vowels (both lowercase and uppercase) present in the string, ignoring spaces and non-alphabetic characters."
      ]
    },
    {
      "cell_type": "code",
      "execution_count": 24,
      "metadata": {
        "id": "ZnoxhSglQs3d",
        "colab": {
          "base_uri": "https://localhost:8080/"
        },
        "outputId": "865f625b-bea6-463e-cd1b-64a376bed029"
      },
      "outputs": [
        {
          "name": "stdout",
          "output_type": "stream",
          "text": [
            "Enter the string: solingaram\n"
          ]
        },
        {
          "output_type": "execute_result",
          "data": {
            "text/plain": [
              "4"
            ]
          },
          "metadata": {},
          "execution_count": 24
        }
      ],
      "source": [
        "# write your answer here\n",
        "def count_vowels(a):\n",
        "  b = [\"a\",\"e\",\"i\",\"o\",\"u\",\"A\",\"E\",\"I\",\"O\",\"U\"]\n",
        "  count = 0\n",
        "  for i in a:\n",
        "    if(i.isalpha() and i in b):\n",
        "      count += 1\n",
        "  return count\n",
        "\n",
        "a = input(\"Enter the string: \")\n",
        "count_vowels(a)\n",
        "\n",
        "\n"
      ]
    },
    {
      "cell_type": "markdown",
      "source": [
        "(18) Create a custom exception named ValueTooSmallError in Python. Write a program that takes user input for an age, and if the entered age is less than 18, raise the ValueTooSmallError with an appropriate error message."
      ],
      "metadata": {
        "id": "55FWoSJPVVM6"
      }
    },
    {
      "cell_type": "code",
      "source": [
        "# write your answer here\n",
        "class ValueTooSmallError(Exception):\n",
        "    pass\n",
        "\n",
        "def check_age(age):\n",
        "    if age < 18:\n",
        "        raise ValueTooSmallError(\"Error: Age must be 18 or older.\")\n",
        "    else:\n",
        "        print(\"Age is valid.\")\n",
        "\n",
        "\n",
        "try:\n",
        "    user_age = int(input(\"Enter your age: \"))\n",
        "    check_age(user_age)\n",
        "except ValueError:\n",
        "    print(\"Error: Please enter a valid numeric age.\")\n",
        "except ValueTooSmallError as e:\n",
        "    print(e)\n",
        "\n",
        "\n"
      ],
      "metadata": {
        "id": "hwtr1wZmVX5A",
        "colab": {
          "base_uri": "https://localhost:8080/"
        },
        "outputId": "27635819-9b84-48a4-e11a-081612d00ff7"
      },
      "execution_count": 25,
      "outputs": [
        {
          "output_type": "stream",
          "name": "stdout",
          "text": [
            "Enter your age: 24\n",
            "Age is valid.\n"
          ]
        }
      ]
    },
    {
      "cell_type": "markdown",
      "source": [
        "(19) Develop a script that reverses a given string without using built-in reverse functions."
      ],
      "metadata": {
        "id": "Q9ecagcaVazW"
      }
    },
    {
      "cell_type": "code",
      "source": [
        "# write your answer here\n",
        "def rever(a):\n",
        "  b = a[::-1]\n",
        "  return b\n",
        "\n",
        "a = input(\"Enter the string: \")\n",
        "rever(a)"
      ],
      "metadata": {
        "id": "gycgckoAVZjR",
        "colab": {
          "base_uri": "https://localhost:8080/",
          "height": 52
        },
        "outputId": "dc72d558-1e46-42b4-f255-a3a0ee2eabeb"
      },
      "execution_count": 26,
      "outputs": [
        {
          "name": "stdout",
          "output_type": "stream",
          "text": [
            "Enter the string: harsha\n"
          ]
        },
        {
          "output_type": "execute_result",
          "data": {
            "text/plain": [
              "'ahsrah'"
            ],
            "application/vnd.google.colaboratory.intrinsic+json": {
              "type": "string"
            }
          },
          "metadata": {},
          "execution_count": 26
        }
      ]
    },
    {
      "cell_type": "markdown",
      "source": [
        "(20) Implement a Python script to generate a random password of a specified length."
      ],
      "metadata": {
        "id": "ZFG6RibifMLu"
      }
    },
    {
      "cell_type": "code",
      "source": [
        "\n",
        "# write your answer here\n",
        "import secrets\n",
        "import string\n",
        "\n",
        "def generate_random_password(length):\n",
        "    characters = string.ascii_letters + string.digits + string.punctuation\n",
        "    password = ''.join(secrets.choice(characters) for _ in range(length))\n",
        "    return password\n",
        "\n",
        "\n",
        "password_length = int(input(\"Enter the desired length of the password: \"))\n",
        "random_password = generate_random_password(password_length)\n",
        "\n",
        "print(\"Generated Password:\", random_password)\n",
        "\n"
      ],
      "metadata": {
        "id": "BFVrkEi9fNiD",
        "colab": {
          "base_uri": "https://localhost:8080/"
        },
        "outputId": "9d11b895-72e6-4fe4-e71c-93f824214653"
      },
      "execution_count": 27,
      "outputs": [
        {
          "output_type": "stream",
          "name": "stdout",
          "text": [
            "Enter the desired length of the password: 8\n",
            "Generated Password: |{Rp'qE{\n"
          ]
        }
      ]
    },
    {
      "cell_type": "markdown",
      "source": [
        "# Try these questions:"
      ],
      "metadata": {
        "id": "6SmvS7nSfbj8"
      }
    },
    {
      "cell_type": "markdown",
      "source": [
        "(21) Define a base class called 'Vehicle' with attributes make and model. Create a derived class Car that inherits from Vehicle and has an additional attribute 'num_doors'. Demonstrate an example of creating an instance of the 'Car' class and accessing its attributes."
      ],
      "metadata": {
        "id": "cboAr5pEWUf5"
      }
    },
    {
      "cell_type": "code",
      "source": [
        "# write your answer here\n",
        "class Vehicle:\n",
        "    def __init__(self, make, model):\n",
        "        self.make = make\n",
        "        self.model = model\n",
        "\n",
        "class Car(Vehicle):\n",
        "    def __init__(self, make, model, num_doors):\n",
        "        super().__init__(make, model)\n",
        "        self.num_doors = num_doors\n",
        "\n",
        "car_instance = Car(make=\"Toyota\", model=\"Camry\", num_doors=4)\n",
        "\n",
        "\n",
        "print(\"Make:\", car_instance.make)\n",
        "print(\"Model:\", car_instance.model)\n",
        "print(\"Number of Doors:\", car_instance.num_doors)\n",
        "\n",
        "\n"
      ],
      "metadata": {
        "id": "phs9gciMWWAW",
        "colab": {
          "base_uri": "https://localhost:8080/"
        },
        "outputId": "d13bf5ee-1e11-42ba-8be4-80da745f85a2"
      },
      "execution_count": 28,
      "outputs": [
        {
          "output_type": "stream",
          "name": "stdout",
          "text": [
            "Make: Toyota\n",
            "Model: Camry\n",
            "Number of Doors: 4\n"
          ]
        }
      ]
    },
    {
      "cell_type": "markdown",
      "source": [
        "(22) Create a class called 'Shape' with a method calculate_area(). Implement two derived classes 'Circle' and 'Rectangle' that inherit from Shape and override the calculate_area() method. Demonstrate polymorphism by creating instances of both derived classes and calling the calculate_area() method."
      ],
      "metadata": {
        "id": "J8HHefNtePwd"
      }
    },
    {
      "cell_type": "code",
      "source": [
        "import math\n",
        "\n",
        "class Shape:\n",
        "    def calculate_area(self):\n",
        "        pass\n",
        "\n",
        "class Circle(Shape):\n",
        "    def __init__(self, radius):\n",
        "        self.radius = radius\n",
        "\n",
        "    def calculate_area(self):\n",
        "        return math.pi * self.radius ** 2\n",
        "\n",
        "class Rectangle(Shape):\n",
        "    def __init__(self, length, width):\n",
        "        self.length = length\n",
        "        self.width = width\n",
        "\n",
        "    def calculate_area(self):\n",
        "        return self.length * self.width\n",
        "\n",
        "# Take user input for Circle\n",
        "circle_radius = float(input(\"Enter the radius of the circle: \"))\n",
        "circle_instance = Circle(radius=circle_radius)\n",
        "\n",
        "# Take user input for Rectangle\n",
        "rectangle_length = float(input(\"Enter the length of the rectangle: \"))\n",
        "rectangle_width = float(input(\"Enter the width of the rectangle: \"))\n",
        "rectangle_instance = Rectangle(length=rectangle_length, width=rectangle_width)\n",
        "\n",
        "# Print the areas\n",
        "print(\"Area of Circle:\", circle_instance.calculate_area())\n",
        "print(\"Area of Rectangle:\", rectangle_instance.calculate_area())\n"
      ],
      "metadata": {
        "id": "btnMmUZDeRhS",
        "colab": {
          "base_uri": "https://localhost:8080/"
        },
        "outputId": "925b2f76-c060-4817-e3bd-620c7177b460"
      },
      "execution_count": 30,
      "outputs": [
        {
          "output_type": "stream",
          "name": "stdout",
          "text": [
            "Enter the radius of the circle: 4\n",
            "Enter the length of the rectangle: 6\n",
            "Enter the width of the rectangle: 2\n",
            "Area of Circle: 50.26548245743669\n",
            "Area of Rectangle: 12.0\n"
          ]
        }
      ]
    },
    {
      "cell_type": "markdown",
      "source": [
        "(23) Write a Python program that prompts the user to enter two numbers and perform a division operation. Handle exceptions for both zero division and invalid input (non-numeric input). Display appropriate error messages for each type of exception and ensure the program does not crash due to these errors."
      ],
      "metadata": {
        "id": "z0oqEAlTeMUS"
      }
    },
    {
      "cell_type": "code",
      "source": [
        "# write your answer here\n",
        "def perform_divide():\n",
        "    try:\n",
        "\n",
        "        first_number = float(input(\"Enter the first number: \"))\n",
        "        second_number = float(input(\"Enter the second number: \"))\n",
        "\n",
        "\n",
        "        result = first_number /  second_number\n",
        "\n",
        "\n",
        "        print(\"Result of division:\", result)\n",
        "\n",
        "    except ValueError:\n",
        "        print(\"Error: Please enter valid numeric input.\")\n",
        "\n",
        "    except ZeroDivisionError:\n",
        "        print(\"Error: Division by zero is not allowed.\")\n",
        "\n",
        "\n",
        "perform_divide()\n",
        "\n"
      ],
      "metadata": {
        "id": "yjdc1zM1eMAs",
        "colab": {
          "base_uri": "https://localhost:8080/"
        },
        "outputId": "62695850-a6d4-4be2-86c1-94171887656c"
      },
      "execution_count": 31,
      "outputs": [
        {
          "output_type": "stream",
          "name": "stdout",
          "text": [
            "Enter the first number: 44\n",
            "Enter the second number: 56\n",
            "Result of division: 0.7857142857142857\n"
          ]
        }
      ]
    },
    {
      "cell_type": "markdown",
      "source": [
        "# Mandatory Question"
      ],
      "metadata": {
        "id": "sZOhks1dXWEe"
      }
    },
    {
      "cell_type": "markdown",
      "source": [
        "**Important:**\n",
        "Reflecting on the first three lectures and the exercises you've completed, please provide feedback on your learning experience. Share your thoughts on whether the material covered was clear, the exercises were helpful, and if you feel more confident in applying Python programming concepts. Additionally, mention any specific areas where you would like more clarification or topics you would like to explore further in future lectures. Your feedback is valuable in shaping the course for an effective learning journey."
      ],
      "metadata": {
        "id": "eqmHVEwaWhbV"
      }
    },
    {
      "cell_type": "markdown",
      "source": [
        "Write your response here."
      ],
      "metadata": {
        "id": "HlpXOT9wXQAd"
      }
    },
    {
      "cell_type": "markdown",
      "source": [
        "commenting on last three classes, i never thought this gonna be joyous, i really like the way of teaching and exercises. the material is so good and helpful. i really feel confident about python code after doing the exercise. i would really like learn ML models and also would really excited about NLP part of this course. i really appreciate if i can grasp all about NLP. i would like to see more hands-on.\n"
      ],
      "metadata": {
        "id": "PerCW0nXXanf"
      }
    },
    {
      "cell_type": "code",
      "source": [],
      "metadata": {
        "id": "Dq2aOZU7XIke"
      },
      "execution_count": 32,
      "outputs": []
    }
  ],
  "metadata": {
    "colab": {
      "provenance": [],
      "include_colab_link": true
    },
    "kernelspec": {
      "display_name": "Python 3 (ipykernel)",
      "language": "python",
      "name": "python3"
    },
    "language_info": {
      "codemirror_mode": {
        "name": "ipython",
        "version": 3
      },
      "file_extension": ".py",
      "mimetype": "text/x-python",
      "name": "python",
      "nbconvert_exporter": "python",
      "pygments_lexer": "ipython3",
      "version": "3.9.12"
    }
  },
  "nbformat": 4,
  "nbformat_minor": 0
}