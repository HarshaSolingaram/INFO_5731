{
  "cells": [
    {
      "cell_type": "markdown",
      "metadata": {
        "id": "view-in-github",
        "colab_type": "text"
      },
      "source": [
        "<a href=\"https://colab.research.google.com/github/HarshaSolingaram/INFO_5731/blob/main/Solingaram_Harshavardhan_Assignment_01.ipynb\" target=\"_parent\"><img src=\"https://colab.research.google.com/assets/colab-badge.svg\" alt=\"Open In Colab\"/></a>"
      ]
    },
    {
      "cell_type": "markdown",
      "metadata": {
        "id": "Ryk8D1Q4Wsrp"
      },
      "source": [
        "# **INFO5731 Assignment One**"
      ]
    },
    {
      "cell_type": "markdown",
      "source": [
        "This assignment includes range of programming tasks and data analysis exercises, aiming to enhance your Python skills and proficiency in string manipulation, numerical computations, and data science. Follow the instructions carefully and design well-structured Python programs to address each question.\n",
        "\n",
        "Late Submission will have a penalty of 10% reduction for each day after the deadline."
      ],
      "metadata": {
        "id": "qcP6re2g5A5r"
      }
    },
    {
      "cell_type": "markdown",
      "metadata": {
        "id": "JkzR8cFAyGik"
      },
      "source": [
        "# Question 1 (10 points).\n",
        "\n",
        "The formula that describes the volume V of a hemisphere with radius r is the following:\n",
        "\n",
        "$ V=\\frac{2}{3}\\ast\\ \\pi\\ast\\ r^3 $\n",
        "\n",
        "Write a program to calculate the value of V when r is in the range of even numbers from 1-20. Output the result in the following format:\n",
        "\n",
        "\tr\tV\n",
        "\t2\t…\n",
        "\t4\t…\n",
        "\t6\t…\n",
        "\t.\n",
        "\t.\n",
        "\t.\n",
        "\t20\t…\n"
      ]
    },
    {
      "cell_type": "code",
      "execution_count": 8,
      "metadata": {
        "id": "jDyTKYs-yGit",
        "colab": {
          "base_uri": "https://localhost:8080/"
        },
        "outputId": "ddabcfd9-03bc-4ac9-dddc-6794832eeae9"
      },
      "outputs": [
        {
          "output_type": "stream",
          "name": "stdout",
          "text": [
            "r\tV\n",
            "2\t16.76\n",
            "4\t134.04\n",
            "6\t452.39\n",
            "8\t1072.33\n",
            "10\t2094.40\n",
            "12\t3619.11\n",
            "14\t5747.02\n",
            "16\t8578.64\n",
            "18\t12214.51\n",
            "20\t16755.16\n"
          ]
        }
      ],
      "source": [
        "# Your code here\n",
        "import math\n",
        "\n",
        "def hemisphere_volume(r):             # function to calculate volume of hemisphere\n",
        "    return (2/3) * math.pi * r**3     # r is raidus\n",
        "\n",
        "for r in range(2, 21, 2):             # for loop to iterate from 1 to 20\n",
        "    volume = hemisphere_volume(r)     # calling function\n",
        "    if(r==2): print(\"r\"+\"\\t\"+\"V\")     # print column head names\n",
        "    print(f\"{r}\\t{volume:.2f}\")       # print every iteration\n",
        "\n"
      ]
    },
    {
      "cell_type": "markdown",
      "metadata": {
        "id": "90_NR8c5XGWc"
      },
      "source": [
        "# Question 2 (20 points)\n",
        "\n",
        "(a) Write a Python program to generate a sequence of 12 random numbers falling within the range of 50 to 150.\n",
        "\n",
        "(b) Arrange the generated numbers in ascending order. Display the sorted list.\n",
        "\n",
        "(c) Extend the program to arrange the numbers in descending order as well. Present the sorted list accordingly.\n",
        "\n",
        "(d) Compute and output the average of the entire group of generated numbers.\n",
        "\n",
        "(e) Enhance the program to calculate and display the average of the first 6 numbers from both the ascending and descending sorted lists."
      ]
    },
    {
      "cell_type": "code",
      "execution_count": 30,
      "metadata": {
        "id": "5QX6bJjGWXY9",
        "colab": {
          "base_uri": "https://localhost:8080/"
        },
        "outputId": "31e2a371-ae56-4ee5-df9f-7d40d84fb8a6"
      },
      "outputs": [
        {
          "output_type": "stream",
          "name": "stdout",
          "text": [
            "List of Random numbers: \n",
            " [145, 138, 67, 55, 64, 78, 132, 99, 59, 105, 87, 86] \n",
            "\n",
            "Ascending order of the list: \n",
            " [55, 59, 64, 67, 78, 86, 87, 99, 105, 132, 138, 145] \n",
            "\n",
            "Descending order of the list: \n",
            " [145, 138, 132, 105, 99, 87, 86, 78, 67, 64, 59, 55] \n",
            "\n",
            "Average of the list: \n",
            " 92.92 \n",
            "\n",
            "Average of first 6 from sorted Ascending list: \n",
            " 68.17 \n",
            "\n",
            "Average of first 6 from sorted Descending list: \n",
            " 117.67 \n",
            "\n"
          ]
        }
      ],
      "source": [
        "# Write code for each of the sub parts with proper comments.\n",
        "\n",
        "import random\n",
        "\n",
        "# Generate 12 random numbers between 50 and 150\n",
        "random_list = random.sample(range(50, 150), 12)\n",
        "print(\"List of Random numbers: \\n\",random_list,\"\\n\")\n",
        "\n",
        "ascending_list = sorted(random_list)\n",
        "print(\"Ascending order of the list: \\n\",ascending_list,\"\\n\")\n",
        "\n",
        "descending_list = sorted(random_list,reverse=True)\n",
        "print(\"Descending order of the list: \\n\",descending_list,\"\\n\")\n",
        "\n",
        "Avg_list = sum(random_list)/len(random_list)\n",
        "print(f\"Average of the list: \\n {Avg_list:.2f} \\n\")\n",
        "\n",
        "Avg_asc_list = sum(ascending_list[0:6])/len(ascending_list[0:6])\n",
        "print(f\"Average of first 6 from sorted Ascending list: \\n {Avg_asc_list:.2f} \\n\")\n",
        "\n",
        "Avg_dsc_list = sum(descending_list[0:6])/len(descending_list[0:6])\n",
        "print(f\"Average of first 6 from sorted Descending list: \\n {Avg_dsc_list:.2f} \\n\")\n"
      ]
    },
    {
      "cell_type": "markdown",
      "metadata": {
        "id": "1F_PZdH9Sh49"
      },
      "source": [
        "# Question 3 (20 points).\n",
        "\n",
        "Create a Python program that encompasses various string manipulation task:\n",
        "\n",
        "(a) Prompt the user to input two sentences.\n",
        "\n",
        "(b) Transform each sentence into a list, where each element corresponds to a word in the sentence. For example, if the sentences are \"Hello, how are you doing today?\" and \"This is an example sentence for the program!\"\n",
        "\n",
        "The program should output:\n",
        "['Hello', ',', 'how', 'are', 'you', 'doing', 'today', '?', 'This', 'is', 'an', 'example', 'sentence', 'for', 'the', 'program', '!']\n",
        "\n",
        "(c) Compare the two sentences. Print out a list of words that occur in both sentences.\n",
        "\n",
        "(d) Remove any punctuation from the sentence and print the sanitized sentences. It should remove at least the following characters, but it can remove more: period(“.”), comma (“,”), semicolon (“;”), and colon (“:”).\n",
        "\n",
        "(e) Count the number of vowels in each of the sentences. Print out each vowel and the occurrences  in the each of the two sentences separately, such as:\n",
        "\n",
        "Sentence1: a:2, e:2, i:0, etc.\n",
        "Sentence2: a:1, e:2, i:2, etc.\n",
        "\n",
        "Design a well-structured Python program to execute these tasks efficiently."
      ]
    },
    {
      "cell_type": "code",
      "execution_count": 66,
      "metadata": {
        "id": "Y0oOSlsOS0cq",
        "colab": {
          "base_uri": "https://localhost:8080/"
        },
        "outputId": "81a9d5d1-b060-4feb-bfc8-ee8023bdbe73"
      },
      "outputs": [
        {
          "output_type": "stream",
          "name": "stdout",
          "text": [
            "Final list output:\n",
            " ['Hello', ',', 'how', 'are', 'you', 'doing', 'today', '?', 'an', 'This', 'is', 'an', 'example', 'sentence', 'for', 'the', 'program', '!']\n",
            "Compare the two sentences:\n",
            " ['an']\n",
            "punctuations removed first sentences\n",
            " Hello how are you doing today an\n",
            "punctuations removed second sentences\n",
            " This is an example sentence for the program\n",
            "Sentence1: a:3, e:2, i:1, o:5, u:1, \n",
            "Sentence2: a:3, e:6, i:2, o:2, u:0, \n"
          ]
        }
      ],
      "source": [
        "# Your code here\n",
        "import string\n",
        "import re\n",
        "\n",
        "def sentence_list(sentence):\n",
        "    words = re.findall(r\"[\\w']+|[.,!?;]\",sentence)\n",
        "    return words\n",
        "\n",
        "def find_common_words(sentence1_words, sentence2_words):\n",
        "    common_words = set(sentence1_words) & set(sentence2_words)\n",
        "    return list(common_words)\n",
        "\n",
        "def process_sentences(sentence):\n",
        "    sanitized_sentence = sentence.translate(str.maketrans('', '', string.punctuation))\n",
        "    return sanitized_sentence\n",
        "\n",
        "def count_vowels(sentence):\n",
        "    vowels = \"aeiou\"\n",
        "    vowel_counts = {vowel: 0 for vowel in vowels}\n",
        "    for char in sentence.lower():\n",
        "        if char in vowels:\n",
        "            vowel_counts[char] += 1\n",
        "    return vowel_counts\n",
        "\n",
        "def print_vowel_counts(vowel_counts, sentence):\n",
        "    print(f\"{sentence}: \", end=\"\")\n",
        "    for vowel, count in vowel_counts.items():\n",
        "        print(f\"{vowel}:{count}, \", end=\"\")\n",
        "    print()\n",
        "\n",
        "\n",
        "def main():\n",
        "\n",
        "  sentence1 = input(\"Enter the first sentence: \")\n",
        "  sentence2 = input(\"Enter the second sentence: \")\n",
        "\n",
        "  #sentence1 = \"Hello, how are you doing today? an\"\n",
        "  #sentence2 = \"This is an example sentence for the program!\"\n",
        "\n",
        "  list1 = sentence_list(sentence1)\n",
        "  list2 = sentence_list(sentence2)\n",
        "  final_list = list1+list2\n",
        "  print(\"Final list output:\\n\",final_list)\n",
        "\n",
        "  commonwords = find_common_words(list1,list2)\n",
        "  print(\"Compare the two sentences:\\n\",commonwords)\n",
        "\n",
        "  #removing punctuations\n",
        "  new_sentences1 = process_sentences(sentence1)\n",
        "  new_sentences2 = process_sentences(sentence2)\n",
        "  print(\"punctuations removed first sentences\\n\",new_sentences1)\n",
        "  print(\"punctuations removed second sentences\\n\",new_sentences2)\n",
        "\n",
        "  #print vowels and counts\n",
        "  vowel_counts1 = count_vowels(new_sentences1)\n",
        "  vowel_counts2 = count_vowels(new_sentences2)\n",
        "  print_vowel_counts(vowel_counts1, \"Sentence1\")\n",
        "  print_vowel_counts(vowel_counts2, \"Sentence2\")\n",
        "\n",
        "if __name__ == \"__main__\":\n",
        "    main()"
      ]
    },
    {
      "cell_type": "markdown",
      "source": [
        "# Question 4 (20 Points)"
      ],
      "metadata": {
        "id": "OP4-5qxAtInv"
      }
    },
    {
      "cell_type": "markdown",
      "source": [
        "Design and implement a simple command-line calculator program. The program should handle both integers and floating-point numbers.\n",
        "\n",
        "(a) Write program that takes a mathematical expression as input and evaluates it. The program should support addition, subtraction, multiplication, and division.\n",
        "\n",
        "(b) Extend the calculator to handle parentheses in mathematical expressions. Implement the necessary logic to evaluate expressions with nested parentheses.\n",
        "\n",
        "(c) Enhance your calculator to include additional mathematical operations such as exponentiation, square root, and modulus.\n",
        "\n",
        "(d) Implement error handling in the calculator program. Handle cases such as division by zero and invalid input expressions. Provide meaningful error messages.\n",
        "\n",
        "(e) Implement a command to exit the calculator."
      ],
      "metadata": {
        "id": "uzN4_hDptK9U"
      }
    },
    {
      "cell_type": "code",
      "source": [
        "# Your code here\n",
        "\n",
        "import math\n",
        "import re\n",
        "import sys\n",
        "\n",
        "def evaluate_expression(expression):\n",
        "    try:\n",
        "        return eval(expression)\n",
        "    except ZeroDivisionError:\n",
        "        return \"Error: Division by zero!\"\n",
        "    except Exception as e:\n",
        "        return f\"Error: {e}\"\n",
        "\n",
        "def calculate():\n",
        "    print(\"Welcome to the Command-Line Calculator!\")\n",
        "    print(\"Enter 'exit' to quit.\")\n",
        "\n",
        "    while True:\n",
        "        expression = input(\"Enter mathematical expression: \")\n",
        "\n",
        "        if expression.lower() == 'exit':\n",
        "            print(\"Exiting calculator.\")\n",
        "            sys.exit()\n",
        "\n",
        "        try:\n",
        "            # Evaluate the expression\n",
        "            result = evaluate_expression(expression)\n",
        "            print(\"Result:\", result)\n",
        "        except Exception as e:\n",
        "            print(f\"Error: {e}\")\n",
        "\n",
        "def main():\n",
        "    calculate()\n",
        "\n",
        "if __name__ == \"__main__\":\n",
        "    main()\n"
      ],
      "metadata": {
        "id": "8nQnVxjJuYtu",
        "colab": {
          "base_uri": "https://localhost:8080/",
          "height": 471
        },
        "outputId": "3d149aab-6069-46e5-ac5a-fa3305903c9f"
      },
      "execution_count": 67,
      "outputs": [
        {
          "output_type": "stream",
          "name": "stdout",
          "text": [
            "Welcome to the Command-Line Calculator!\n",
            "Enter 'exit' to quit.\n",
            "Enter mathematical expression: 3 + 4\n",
            "Result: 7\n",
            "Enter mathematical expression: 3 - 5\n",
            "Result: -2\n",
            "Enter mathematical expression: 3 * 5\n",
            "Result: 15\n",
            "Enter mathematical expression: root of 4\n",
            "Result: Error: invalid syntax (<string>, line 1)\n",
            "Enter mathematical expression: ^4\n",
            "Result: Error: invalid syntax (<string>, line 1)\n",
            "Enter mathematical expression: *4\n",
            "Result: Error: invalid syntax (<string>, line 1)\n",
            "Enter mathematical expression: 3*6\n",
            "Result: 18\n",
            "Enter mathematical expression: exit\n",
            "Exiting calculator.\n"
          ]
        },
        {
          "output_type": "error",
          "ename": "SystemExit",
          "evalue": "",
          "traceback": [
            "An exception has occurred, use %tb to see the full traceback.\n",
            "\u001b[0;31mSystemExit\u001b[0m\n"
          ]
        },
        {
          "output_type": "stream",
          "name": "stderr",
          "text": [
            "/usr/local/lib/python3.10/dist-packages/IPython/core/interactiveshell.py:3561: UserWarning: To exit: use 'exit', 'quit', or Ctrl-D.\n",
            "  warn(\"To exit: use 'exit', 'quit', or Ctrl-D.\", stacklevel=1)\n"
          ]
        }
      ]
    },
    {
      "cell_type": "markdown",
      "metadata": {
        "id": "z3tBE7E-Xn5X"
      },
      "source": [
        "# Question 5 (30 points).\n",
        "\n",
        "In the field of Data Science, data is often formatted as a comma-delimited (CSV) file, where each line in a file corresponds to a field's value. Refer to Chapter 9 (p. 106) for more information on comma-delimited files.\n",
        "\n",
        "To answer this question, you will need to download the file [Assignment1_denton_housing.csv](https://raw.githubusercontent.com/unt-iialab/info5731-spring2022/main/assignments/Assignment1_denton_housing.csv) included with this assignment. The file contains statistics about housing in the city of Denton from 2008 to 2014. Write a program to implement the following questions.\n",
        "\n",
        "(a) (5 pts) Calculate the difference in the number of Occupied Housing Units from year to year and print it. The difference must be calculated for the consecutive years such as 2008-2009, 2009-2010 etc. Finally, print the values in the ascending order.\n",
        "\n",
        "(b) (5 pts) For all the years, calculate the percentage of housing units which are vacant an occupied. Print the results in the following format:\n",
        "\n",
        "Year Vacant Housing Units Occupied Housing Units\n",
        "\n",
        "    2008  30%   70%                          \n",
        "\t2009 ----- -----\n",
        "\t2010 ----- -----\n",
        "    2011 ----- -----\n",
        "\t2012 ----- -----\n",
        "    2013 ----- -----\n",
        "\t2014 ----- -----\n",
        "  \n",
        "  \n",
        "\n",
        "(c) (10 pts) Calculate and print the valued and years in which the highest number of housing units were vacant and occupied. Print the results in the following format:  \n",
        "\n",
        "                              Year\tValue\n",
        "\tVacant Housing Units\t  -----   -----\n",
        "\tOccupied Housing Units\t-----   -----\n",
        "\n",
        "(d) (10 pts) Calculate the harmonic mean of the total housing units and print it out. You can find the information about harmonic mean here: https://ncalculators.com/statistics/harmonic-mean-calculator.htm"
      ]
    },
    {
      "cell_type": "code",
      "execution_count": 97,
      "metadata": {
        "id": "lqGYuHBhcsRH",
        "colab": {
          "base_uri": "https://localhost:8080/"
        },
        "outputId": "7aaed811-69d5-42f1-b115-fcfc60325f23"
      },
      "outputs": [
        {
          "output_type": "stream",
          "name": "stdout",
          "text": [
            "Difference in Occupied Housing Units from year to year:\n",
            "2008-2009: -795\n",
            "2009-2010: 5091\n",
            "2010-2011: -303\n",
            "2011-2012: 1404\n",
            "2012-2013: 1565\n",
            "2013-2014: 2622\n",
            "\n",
            "Percentage of housing units which are vacant and occupied for each year:\n",
            "Year\tVacant Housing Units\tOccupied Housing Units\n",
            "2008\t10.88%\t\t\t89.12%\n",
            "2009\t9.07%\t\t\t90.93%\n",
            "2010\t8.14%\t\t\t91.86%\n",
            "2011\t9.38%\t\t\t90.62%\n",
            "2012\t6.68%\t\t\t93.32%\n",
            "2013\t8.80%\t\t\t91.20%\n",
            "2014\t5.73%\t\t\t94.27%\n",
            "\n",
            "Year and value in which the highest number of housing units were vacant and occupied:\n",
            "Year\tValue\n",
            "Total Housing Units\t2014\t49109\n",
            "Vacant Housing Units\t2008\t4483\n",
            "Occupied Housing Units\t2014\t46295\n",
            "\n",
            "Harmonic mean of the total housing units: 44398.29\n"
          ]
        }
      ],
      "source": [
        " # Your code here\n",
        "import io\n",
        "import csv\n",
        "from collections import defaultdict\n",
        "import numpy as np\n",
        "import pandas as pd\n",
        "\n",
        "from google.colab import drive\n",
        "\n",
        "\n",
        "def calculate_difference(data):\n",
        "    differences = {}\n",
        "    years = sorted(data['year'].unique())\n",
        "    for i in range(len(years) - 1):\n",
        "        curr_year = years[i]\n",
        "        next_year = years[i + 1]\n",
        "        occupied_curr = data.loc[(data['year'] == curr_year) & (data['title_field'] == 'Occupied Housing Units'), 'value'].iloc[0]\n",
        "        occupied_next = data.loc[(data['year'] == next_year) & (data['title_field'] == 'Occupied Housing Units'), 'value'].iloc[0]\n",
        "        difference = occupied_next - occupied_curr\n",
        "        differences[f\"{curr_year}-{next_year}\"] = difference\n",
        "    return differences\n",
        "\n",
        "def calculate_percentage(data):\n",
        "    percentages = {}\n",
        "    for year, group in data.groupby('year'):\n",
        "        total_units = group.loc[group['title_field'] == 'Total Housing Units', 'value'].iloc[0]\n",
        "        vacant_units = group.loc[group['title_field'] == 'Vacant Housing Units', 'value'].iloc[0]\n",
        "        occupied_units = group.loc[group['title_field'] == 'Occupied Housing Units', 'value'].iloc[0]\n",
        "        vacant_percentage = (vacant_units / total_units) * 100\n",
        "        occupied_percentage = (occupied_units / total_units) * 100\n",
        "        percentages[year] = (vacant_percentage, occupied_percentage)\n",
        "    return percentages\n",
        "\n",
        "def print_percentage_results(data):\n",
        "    print(\"Year\\tVacant Housing Units\\tOccupied Housing Units\")\n",
        "    for year, percentages in data.items():\n",
        "        vacant_percentage, occupied_percentage = percentages\n",
        "        print(f\"{year}\\t{vacant_percentage:.2f}%\\t\\t\\t{occupied_percentage:.2f}%\")\n",
        "\n",
        "def calculate_max_values(data):\n",
        "    max_values = defaultdict(list)\n",
        "    for year, group in data.groupby('year'):\n",
        "        for idx, row in group.iterrows():\n",
        "            if 'housing units' in row['title_field'].lower():\n",
        "                max_values[row['title_field']].append((year, row['value']))\n",
        "    max_values = {key: max(vals, key=lambda x: x[1]) for key, vals in max_values.items()}\n",
        "    return max_values\n",
        "\n",
        "def print_max_values(data):\n",
        "    print(\"Year\\tValue\")\n",
        "    for key, (year, value) in data.items():\n",
        "        print(f\"{key}\\t{year}\\t{value}\")\n",
        "\n",
        "def calculate_harmonic_mean(data):\n",
        "    total_units = data.loc[data['title_field'] == 'Total Housing Units', 'value'].tolist()\n",
        "    harmonic_mean = len(total_units) / np.sum(1 / np.array(total_units))\n",
        "    return harmonic_mean\n",
        "\n",
        "if __name__ == \"__main__\":\n",
        "\n",
        "\n",
        "    data = pd.read_csv('/content/drive/MyDrive/INFO 5731/Assignment1_denton_housing.csv')\n",
        "\n",
        "    differences = calculate_difference(data)\n",
        "    print(\"Difference in Occupied Housing Units from year to year:\")\n",
        "    for year_diff, difference in sorted(differences.items()):\n",
        "        print(f\"{year_diff}: {difference}\")\n",
        "\n",
        "    percentages = calculate_percentage(data)\n",
        "    print(\"\\nPercentage of housing units which are vacant and occupied for each year:\")\n",
        "    print_percentage_results(percentages)\n",
        "\n",
        "    max_values = calculate_max_values(data)\n",
        "    print(\"\\nYear and value in which the highest number of housing units were vacant and occupied:\")\n",
        "    print_max_values(max_values)\n",
        "\n",
        "    harmonic_mean = calculate_harmonic_mean(data)\n",
        "    print(f\"\\nHarmonic mean of the total housing units: {harmonic_mean:.2f}\")\n"
      ]
    },
    {
      "cell_type": "markdown",
      "source": [
        "# Mandatory Question\n",
        "\n",
        "Provide your thoughts on the assignment. What did you find challenging, and what aspects did you enjoy? Your opinion on the provided time to complete the assignment. Share any suggestions for improvement. Your feedback will be valuable for enhancing the learning experience."
      ],
      "metadata": {
        "id": "q8BFCvWp32cf"
      }
    },
    {
      "cell_type": "markdown",
      "source": [
        "i really liked the assignment, really challenging new questions and thoughts. time managment is a bit of task here  but it takes more time than expected. i am looking forward to do more assignments."
      ],
      "metadata": {
        "id": "9de4ynSIKvry"
      }
    },
    {
      "cell_type": "code",
      "source": [
        "# Write your response below\n"
      ],
      "metadata": {
        "id": "_e557s2w4BpK"
      },
      "execution_count": 90,
      "outputs": []
    }
  ],
  "metadata": {
    "colab": {
      "provenance": [],
      "include_colab_link": true
    },
    "kernelspec": {
      "display_name": "Python 3 (ipykernel)",
      "language": "python",
      "name": "python3"
    },
    "language_info": {
      "codemirror_mode": {
        "name": "ipython",
        "version": 3
      },
      "file_extension": ".py",
      "mimetype": "text/x-python",
      "name": "python",
      "nbconvert_exporter": "python",
      "pygments_lexer": "ipython3",
      "version": "3.9.12"
    }
  },
  "nbformat": 4,
  "nbformat_minor": 0
}